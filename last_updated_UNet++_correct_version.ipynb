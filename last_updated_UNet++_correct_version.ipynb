{
  "cells": [
    {
      "cell_type": "markdown",
      "metadata": {
        "id": "view-in-github",
        "colab_type": "text"
      },
      "source": [
        "<a href=\"https://colab.research.google.com/github/faruk56-arch/PolyScopeAI/blob/master/last_updated_UNet%2B%2B_correct_version.ipynb\" target=\"_parent\"><img src=\"https://colab.research.google.com/assets/colab-badge.svg\" alt=\"Open In Colab\"/></a>"
      ]
    },
    {
      "cell_type": "code",
      "execution_count": 1,
      "metadata": {
        "colab": {
          "base_uri": "https://localhost:8080/"
        },
        "id": "etc58kiLq9lb",
        "outputId": "3c411019-6362-470c-8904-67f28665798b"
      },
      "outputs": [
        {
          "output_type": "stream",
          "name": "stdout",
          "text": [
            "Mounted at /content/drive\n"
          ]
        }
      ],
      "source": [
        "from google.colab import drive\n",
        "drive.mount('/content/drive')"
      ]
    },
    {
      "cell_type": "code",
      "execution_count": null,
      "metadata": {
        "id": "zmrlwFFJNRYc"
      },
      "outputs": [],
      "source": [
        "pip install -r /content/drive/MyDrive/Medical_Image_Segmentation/modular_code/source/requirements.txt"
      ]
    },
    {
      "cell_type": "code",
      "execution_count": 1,
      "metadata": {
        "id": "MntxJxzegXqz"
      },
      "outputs": [],
      "source": [
        "import os\n",
        "import pandas as pd\n",
        "import torch.nn as nn\n",
        "import torch.optim as optim\n",
        "\n",
        "from glob import glob\n",
        "from collections import OrderedDict\n",
        "from albumentations.augmentations import transforms\n",
        "from sklearn.model_selection import train_test_split\n",
        "from albumentations.core.composition import Compose, OneOf\n",
        "\n",
        "# from train import train, validate\n",
        "# from source.network import UNetPP\n",
        "# from source.dataset import DataSet"
      ]
    },
    {
      "cell_type": "code",
      "execution_count": 2,
      "metadata": {
        "id": "0Ao4ALGPq3aU"
      },
      "outputs": [],
      "source": [
        "import os\n",
        "import cv2\n",
        "import numpy as np\n",
        "import torch.utils.data\n",
        "\n",
        "\n",
        "class DataSet(torch.utils.data.Dataset):\n",
        "    def __init__(self, img_ids, img_dir, mask_dir, img_ext, mask_ext, transform=None):\n",
        "        self.img_ids = img_ids\n",
        "        self.img_dir = img_dir\n",
        "        self.mask_dir = mask_dir\n",
        "        self.img_ext = img_ext\n",
        "        self.mask_ext = mask_ext\n",
        "        self.transform = transform\n",
        "\n",
        "    def __len__(self):\n",
        "        return len(self.img_ids)\n",
        "\n",
        "    def __getitem__(self, idx):\n",
        "        img_id = self.img_ids[idx]\n",
        "\n",
        "        img = cv2.imread(os.path.join(self.img_dir, img_id + self.img_ext))\n",
        "\n",
        "        mask = []\n",
        "        mask.append(cv2.imread(os.path.join(self.mask_dir, img_id + self.mask_ext), cv2.IMREAD_GRAYSCALE)[..., None])\n",
        "        mask = np.dstack(mask)\n",
        "\n",
        "        if self.transform is not None:\n",
        "            augmented = self.transform(image=img, mask=mask)\n",
        "            img = augmented['image']\n",
        "            mask = augmented['mask']\n",
        "\n",
        "        img = img.astype('float32') / 255\n",
        "        img = img.transpose(2, 0, 1)\n",
        "        mask = mask.astype('float32') / 255\n",
        "        mask = mask.transpose(2, 0, 1)\n",
        "\n",
        "        return img, mask, {'img_id': img_id}\n",
        "\n"
      ]
    },
    {
      "cell_type": "code",
      "execution_count": 3,
      "metadata": {
        "id": "Uws4E8xKq3aV"
      },
      "outputs": [],
      "source": [
        "import torch\n",
        "from torch import nn\n",
        "\n",
        "\n",
        "class VGGBlock(nn.Module):\n",
        "    def __init__(self, in_channels, middle_channels, out_channels):\n",
        "        super().__init__()\n",
        "        self.relu = nn.ReLU(inplace=True)\n",
        "        self.conv1 = nn.Conv2d(in_channels, middle_channels, 3, padding=1)\n",
        "        self.bn1 = nn.BatchNorm2d(middle_channels)\n",
        "        self.conv2 = nn.Conv2d(middle_channels, out_channels, 3, padding=1)\n",
        "        self.bn2 = nn.BatchNorm2d(out_channels)\n",
        "\n",
        "    def forward(self, x):\n",
        "        out = self.conv1(x)\n",
        "        out = self.bn1(out)\n",
        "        out = self.relu(out)\n",
        "\n",
        "        out = self.conv2(out)\n",
        "        out = self.bn2(out)\n",
        "        out = self.relu(out)\n",
        "\n",
        "        return out\n",
        "\n",
        "\n",
        "class UNetPP(nn.Module):\n",
        "    def __init__(self, num_classes, input_channels=3, deep_supervision=False, **kwargs):\n",
        "        super().__init__()\n",
        "\n",
        "        nb_filter = [32, 64, 128, 256, 512]\n",
        "\n",
        "        self.deep_supervision = deep_supervision\n",
        "\n",
        "        self.pool = nn.MaxPool2d(2, 2)\n",
        "        self.up = nn.Upsample(scale_factor=2, mode='bilinear', align_corners=True)\n",
        "\n",
        "        self.conv0_0 = VGGBlock(input_channels, nb_filter[0], nb_filter[0])\n",
        "        self.conv1_0 = VGGBlock(nb_filter[0], nb_filter[1], nb_filter[1])\n",
        "        self.conv2_0 = VGGBlock(nb_filter[1], nb_filter[2], nb_filter[2])\n",
        "        self.conv3_0 = VGGBlock(nb_filter[2], nb_filter[3], nb_filter[3])\n",
        "        self.conv4_0 = VGGBlock(nb_filter[3], nb_filter[4], nb_filter[4])\n",
        "\n",
        "        self.conv0_1 = VGGBlock(nb_filter[0]+nb_filter[1], nb_filter[0], nb_filter[0])\n",
        "        self.conv1_1 = VGGBlock(nb_filter[1]+nb_filter[2], nb_filter[1], nb_filter[1])\n",
        "        self.conv2_1 = VGGBlock(nb_filter[2]+nb_filter[3], nb_filter[2], nb_filter[2])\n",
        "        self.conv3_1 = VGGBlock(nb_filter[3]+nb_filter[4], nb_filter[3], nb_filter[3])\n",
        "\n",
        "        self.conv0_2 = VGGBlock(nb_filter[0]*2+nb_filter[1], nb_filter[0], nb_filter[0])\n",
        "        self.conv1_2 = VGGBlock(nb_filter[1]*2+nb_filter[2], nb_filter[1], nb_filter[1])\n",
        "        self.conv2_2 = VGGBlock(nb_filter[2]*2+nb_filter[3], nb_filter[2], nb_filter[2])\n",
        "\n",
        "        self.conv0_3 = VGGBlock(nb_filter[0]*3+nb_filter[1], nb_filter[0], nb_filter[0])\n",
        "        self.conv1_3 = VGGBlock(nb_filter[1]*3+nb_filter[2], nb_filter[1], nb_filter[1])\n",
        "\n",
        "        self.conv0_4 = VGGBlock(nb_filter[0]*4+nb_filter[1], nb_filter[0], nb_filter[0])\n",
        "\n",
        "        if self.deep_supervision:\n",
        "            self.final1 = nn.Conv2d(nb_filter[0], num_classes, kernel_size=1)\n",
        "            self.final2 = nn.Conv2d(nb_filter[0], num_classes, kernel_size=1)\n",
        "            self.final3 = nn.Conv2d(nb_filter[0], num_classes, kernel_size=1)\n",
        "            self.final4 = nn.Conv2d(nb_filter[0], num_classes, kernel_size=1)\n",
        "        else:\n",
        "            self.final = nn.Conv2d(nb_filter[0], num_classes, kernel_size=1)\n",
        "\n",
        "\n",
        "    def forward(self, input):\n",
        "        x0_0 = self.conv0_0(input)\n",
        "        x1_0 = self.conv1_0(self.pool(x0_0))\n",
        "        x0_1 = self.conv0_1(torch.cat([x0_0, self.up(x1_0)], 1))\n",
        "\n",
        "        x2_0 = self.conv2_0(self.pool(x1_0))\n",
        "        x1_1 = self.conv1_1(torch.cat([x1_0, self.up(x2_0)], 1))\n",
        "        x0_2 = self.conv0_2(torch.cat([x0_0, x0_1, self.up(x1_1)], 1))\n",
        "\n",
        "        x3_0 = self.conv3_0(self.pool(x2_0))\n",
        "        x2_1 = self.conv2_1(torch.cat([x2_0, self.up(x3_0)], 1))\n",
        "        x1_2 = self.conv1_2(torch.cat([x1_0, x1_1, self.up(x2_1)], 1))\n",
        "        x0_3 = self.conv0_3(torch.cat([x0_0, x0_1, x0_2, self.up(x1_2)], 1))\n",
        "\n",
        "        x4_0 = self.conv4_0(self.pool(x3_0))\n",
        "        x3_1 = self.conv3_1(torch.cat([x3_0, self.up(x4_0)], 1))\n",
        "        x2_2 = self.conv2_2(torch.cat([x2_0, x2_1, self.up(x3_1)], 1))\n",
        "        x1_3 = self.conv1_3(torch.cat([x1_0, x1_1, x1_2, self.up(x2_2)], 1))\n",
        "        x0_4 = self.conv0_4(torch.cat([x0_0, x0_1, x0_2, x0_3, self.up(x1_3)], 1))\n",
        "\n",
        "        if self.deep_supervision:\n",
        "            output1 = self.final1(x0_1)\n",
        "            output2 = self.final2(x0_2)\n",
        "            output3 = self.final3(x0_3)\n",
        "            output4 = self.final4(x0_4)\n",
        "            return [output1, output2, output3, output4]\n",
        "\n",
        "        else:\n",
        "            output = self.final(x0_4)\n",
        "            return output\n"
      ]
    },
    {
      "cell_type": "code",
      "execution_count": 4,
      "metadata": {
        "id": "hMQAfbxNq3aX"
      },
      "outputs": [],
      "source": [
        "import torch\n",
        "\n",
        "\n",
        "class AverageMeter(object):\n",
        "    \"\"\"Computes and stores the average and current value\"\"\"\n",
        "\n",
        "    def __init__(self):\n",
        "        self.reset()\n",
        "\n",
        "    def reset(self):\n",
        "        self.val = 0\n",
        "        self.avg = 0\n",
        "        self.sum = 0\n",
        "        self.count = 0\n",
        "\n",
        "    def update(self, val, n=1):\n",
        "        self.val = val\n",
        "        self.sum += val * n\n",
        "        self.count += n\n",
        "        self.avg = self.sum / self.count\n",
        "\n",
        "\n",
        "def iou_score(output, target):\n",
        "    smooth = 1e-5\n",
        "\n",
        "    if torch.is_tensor(output):\n",
        "        output = torch.sigmoid(output).data.cpu().numpy()\n",
        "    if torch.is_tensor(target):\n",
        "        target = target.data.cpu().numpy()\n",
        "    output_ = output > 0.5\n",
        "    target_ = target > 0.5\n",
        "    intersection = (output_ & target_).sum()\n",
        "    union = (output_ | target_).sum()\n",
        "\n",
        "    return (intersection + smooth) / (union + smooth)\n"
      ]
    },
    {
      "cell_type": "code",
      "execution_count": 5,
      "metadata": {
        "id": "CxhI-2tcq3aX"
      },
      "outputs": [],
      "source": [
        "import os\n",
        "import yaml\n",
        "import torch\n",
        "import pandas as pd\n",
        "import torch.nn as nn\n",
        "import torch.optim as optim\n",
        "\n",
        "from glob import glob\n",
        "from tqdm import tqdm\n",
        "from collections import OrderedDict\n",
        "# from source.utils import iou_score, AverageMeter\n",
        "from albumentations import Resize\n",
        "from albumentations.augmentations import transforms\n",
        "from sklearn.model_selection import train_test_split\n",
        "from albumentations.core.composition import Compose, OneOf\n",
        "from albumentations import RandomRotate90\n",
        "# from source.network import UNetPP\n",
        "# from source.dataset import DataSet\n",
        "\n",
        "\n",
        "def train(deep_sup, train_loader, model, criterion, optimizer):\n",
        "    avg_meters = {'loss': AverageMeter(),\n",
        "                  'iou': AverageMeter()}\n",
        "\n",
        "    model.train()\n",
        "\n",
        "    pbar = tqdm(total=len(train_loader))\n",
        "    device = torch.device(\"cuda:0\" if torch.cuda.is_available() else \"cpu\")\n",
        "    for input, target, _ in train_loader:\n",
        "        input = input.to(device)\n",
        "        target = target.to(device)\n",
        "\n",
        "        # compute output\n",
        "        if deep_sup:\n",
        "            outputs = model(input)\n",
        "            loss = 0\n",
        "            for output in outputs:\n",
        "                loss += criterion(output, target)\n",
        "            loss /= len(outputs)\n",
        "            iou = iou_score(outputs[-1], target)\n",
        "        else:\n",
        "            output = model(input)\n",
        "            loss = criterion(output, target)\n",
        "            iou = iou_score(output, target)\n",
        "\n",
        "        # compute gradient and do optimizing step\n",
        "        optimizer.zero_grad()\n",
        "        loss.backward()\n",
        "        optimizer.step()\n",
        "\n",
        "        avg_meters['loss'].update(loss.item(), input.size(0))\n",
        "        avg_meters['iou'].update(iou, input.size(0))\n",
        "\n",
        "        postfix = OrderedDict([\n",
        "            ('loss', avg_meters['loss'].avg),\n",
        "            ('iou', avg_meters['iou'].avg),\n",
        "        ])\n",
        "        pbar.set_postfix(postfix)\n",
        "        pbar.update(1)\n",
        "    pbar.close()\n",
        "\n",
        "    return OrderedDict([('loss', avg_meters['loss'].avg),\n",
        "                        ('iou', avg_meters['iou'].avg)])\n",
        "\n",
        "\n",
        "def validate(deep_sup, val_loader, model, criterion):\n",
        "    avg_meters = {'loss': AverageMeter(),\n",
        "                  'iou': AverageMeter()}\n",
        "\n",
        "    # switch to evaluate mode\n",
        "    model.eval()\n",
        "    device = torch.device(\"cuda:0\" if torch.cuda.is_available() else \"cpu\")\n",
        "\n",
        "    with torch.no_grad():\n",
        "        pbar = tqdm(total=len(val_loader))\n",
        "        for input, target, _ in val_loader:\n",
        "            input = input.to(device)\n",
        "            target = target.to(device)\n",
        "\n",
        "            # compute output\n",
        "            if deep_sup:\n",
        "                outputs = model(input)\n",
        "                loss = 0\n",
        "                for output in outputs:\n",
        "                    loss += criterion(output, target)\n",
        "                loss /= len(outputs)\n",
        "                iou = iou_score(outputs[-1], target)\n",
        "            else:\n",
        "                output = model(input)\n",
        "                loss = criterion(output, target)\n",
        "                iou = iou_score(output, target)\n",
        "\n",
        "            avg_meters['loss'].update(loss.item(), input.size(0))\n",
        "            avg_meters['iou'].update(iou, input.size(0))\n",
        "\n",
        "            postfix = OrderedDict([\n",
        "                ('loss', avg_meters['loss'].avg),\n",
        "                ('iou', avg_meters['iou'].avg),\n",
        "            ])\n",
        "            pbar.set_postfix(postfix)\n",
        "            pbar.update(1)\n",
        "        pbar.close()\n",
        "\n",
        "    return OrderedDict([('loss', avg_meters['loss'].avg),\n",
        "                        ('iou', avg_meters['iou'].avg)])\n"
      ]
    },
    {
      "cell_type": "code",
      "execution_count": 6,
      "metadata": {
        "id": "1QIpMm4_q3aZ"
      },
      "outputs": [],
      "source": [
        "import cv2\n",
        "import yaml\n",
        "import torch\n",
        "import numpy as np\n",
        "import matplotlib.pyplot as plt\n",
        "\n",
        "# from source.network import UNetPP\n",
        "from argparse import ArgumentParser\n",
        "from albumentations.augmentations import transforms\n",
        "from albumentations.core.composition import Compose\n",
        "from albumentations import Resize\n",
        "\n",
        "\n",
        "val_transform = Compose([\n",
        "    transforms.Resize(256, 256),\n",
        "    transforms.Normalize(),\n",
        "])\n",
        "\n",
        "\n",
        "def image_loader(image_name):\n",
        "    img = cv2.imread(image_name)\n",
        "    img = val_transform(image=img)[\"image\"]\n",
        "    img = img.astype('float32') / 255\n",
        "    img = img.transpose(2, 0, 1)\n",
        "\n",
        "    return img"
      ]
    },
    {
      "cell_type": "code",
      "execution_count": 7,
      "metadata": {
        "id": "nhQmVuXA0cnh"
      },
      "outputs": [],
      "source": [
        "configOne = \"/content/drive/MyDrive/Medical_Image_Segmentation/modular_code/source/config.yaml\"\n"
      ]
    },
    {
      "cell_type": "code",
      "execution_count": 8,
      "metadata": {
        "id": "fC0EEMiGq3aa"
      },
      "outputs": [],
      "source": [
        "with open(configOne) as f:\n",
        "    config = yaml.load(f,Loader=yaml.Loader)\n",
        "\n",
        "extn = config[\"extn\"]\n",
        "epochs = config[\"epochs\"]\n",
        "log_path = config[\"log_path\"]\n",
        "mask_path = config[\"mask_path\"]\n",
        "image_path = config[\"image_path\"]\n",
        "model_path = config[\"model_path\"]"
      ]
    },
    {
      "cell_type": "markdown",
      "metadata": {
        "id": "hI3ifzZdq3ab"
      },
      "source": [
        "## Create log file"
      ]
    },
    {
      "cell_type": "code",
      "execution_count": 9,
      "metadata": {
        "id": "zcj_gXf7q3ac"
      },
      "outputs": [],
      "source": [
        "log = OrderedDict([\n",
        "    ('epoch', []),\n",
        "    ('loss', []),\n",
        "    ('iou', []),\n",
        "    ('val_loss', []),\n",
        "    ('val_iou', []),\n",
        "])\n",
        "\n",
        "best_iou = 0\n",
        "trigger = 0"
      ]
    },
    {
      "cell_type": "markdown",
      "metadata": {
        "id": "MnMi88Kvq3ad"
      },
      "source": [
        "## Split images into train and validation set"
      ]
    },
    {
      "cell_type": "code",
      "execution_count": 10,
      "metadata": {
        "id": "-RXLDPz5q3ae"
      },
      "outputs": [],
      "source": [
        "extn_ = f\"*{extn}\"\n",
        "img_ids = glob(os.path.join(image_path, extn_))\n",
        "img_ids = [os.path.splitext(os.path.basename(p))[0] for p in img_ids]\n",
        "train_img_ids, val_img_ids = train_test_split(img_ids, test_size=0.1, random_state=1)\n",
        "# try random state 1 and 5"
      ]
    },
    {
      "cell_type": "markdown",
      "metadata": {
        "id": "vUy1NOcxq3ae"
      },
      "source": [
        "## Define data transformations"
      ]
    },
    {
      "cell_type": "code",
      "execution_count": 11,
      "metadata": {
        "id": "8EEFpiCpq3af"
      },
      "outputs": [],
      "source": [
        "train_transform = Compose([\n",
        "    transforms.RandomRotate90(),\n",
        "    transforms.Flip(),\n",
        "    OneOf([\n",
        "        transforms.HueSaturationValue(),\n",
        "        transforms.RandomBrightness(),\n",
        "        transforms.RandomContrast(),\n",
        "    ], p=1),\n",
        "    transforms.Resize(256, 256),\n",
        "    transforms.Normalize(),\n",
        "])\n",
        "\n",
        "val_transform = Compose([\n",
        "    transforms.Resize(256, 256),\n",
        "    transforms.Normalize(),\n",
        "])"
      ]
    },
    {
      "cell_type": "markdown",
      "metadata": {
        "id": "-ONRq_tmq3af"
      },
      "source": [
        "## Create train and validation dataset"
      ]
    },
    {
      "cell_type": "code",
      "execution_count": 12,
      "metadata": {
        "id": "4UycKqjfq3ag"
      },
      "outputs": [],
      "source": [
        "train_dataset = DataSet(\n",
        "    img_ids=train_img_ids,\n",
        "    img_dir=image_path,\n",
        "    mask_dir=mask_path,\n",
        "    img_ext=extn,\n",
        "    mask_ext=extn,\n",
        "    transform=train_transform)\n",
        "\n",
        "val_dataset = DataSet(\n",
        "    img_ids=val_img_ids,\n",
        "    img_dir=image_path,\n",
        "    mask_dir=mask_path,\n",
        "    img_ext=extn,\n",
        "    mask_ext=extn,\n",
        "    transform=val_transform)"
      ]
    },
    {
      "cell_type": "markdown",
      "metadata": {
        "id": "4_KyxwTiq3ag"
      },
      "source": [
        "## Create train and validation data loaders"
      ]
    },
    {
      "cell_type": "code",
      "execution_count": 13,
      "metadata": {
        "id": "ffDBnT1Zq3ah"
      },
      "outputs": [],
      "source": [
        "train_loader = torch.utils.data.DataLoader(\n",
        "    train_dataset,\n",
        "    batch_size=16,\n",
        "    shuffle=True,\n",
        "    drop_last=True)\n",
        "\n",
        "val_loader = torch.utils.data.DataLoader(\n",
        "    val_dataset,\n",
        "    batch_size=16,\n",
        "    shuffle=False,\n",
        "    drop_last=False)\n",
        "#try also batch_size 32 if stopped put 16 AGAIN"
      ]
    },
    {
      "cell_type": "markdown",
      "metadata": {
        "id": "Y3Qowjwiq3ah"
      },
      "source": [
        "## Create the model object"
      ]
    },
    {
      "cell_type": "code",
      "execution_count": 14,
      "metadata": {
        "id": "KHl7NXL9q3ak"
      },
      "outputs": [],
      "source": [
        "# Create model object\n",
        "model = UNetPP(1, 3, True)\n",
        "\n",
        "# Port model to GPU if it is available\n",
        "if torch.cuda.is_available():\n",
        "    model.cuda()\n",
        "\n",
        "\n",
        "# Define Loss Function\n",
        "criterion = nn.BCEWithLogitsLoss()\n",
        "params = filter(lambda p: p.requires_grad, model.parameters())\n",
        "\n",
        "# Define Optimizer\n",
        "optimizer = optim.Adam(params, lr=1e-3, weight_decay=1e-4)\n",
        "# try lr = 4 lr 2 as well"
      ]
    },
    {
      "cell_type": "code",
      "execution_count": 15,
      "metadata": {
        "id": "i6xVFR6e-ZUX"
      },
      "outputs": [],
      "source": [
        "model_path= \"/content/drive/MyDrive/Medical_Image_Segmentation/modular_code/output/models/model.pth\"\n",
        "log_path = \"/content/drive/MyDrive/Medical_Image_Segmentation/modular_code/output/models/logs/logs.csv\"\n",
        "image_path = \"/content/drive/MyDrive/Medical_Image_Segmentation/modular_code/input/PNG/Original\"\n",
        "mask_path = \"/content/drive/MyDrive/Medical_Image_Segmentation/modular_code/input/PNG/GroundTruth\"\n",
        "# print(\"mask_path got\", mask_path)\n",
        "\n",
        "output_path = \"/content/drive/MyDrive/Medical_Image_Segmentation/modular_code/output/prediction.png\"\n"
      ]
    },
    {
      "cell_type": "code",
      "execution_count": null,
      "metadata": {
        "id": "IrrU94XyrrHb"
      },
      "outputs": [],
      "source": [
        "# # Load the model before starting the training loop\n",
        "if os.path.exists(model_path):\n",
        "    model.load_state_dict(torch.load(model_path))\n",
        "    model.eval()  # Set to evaluation mode if not training\n",
        "    print(\"Model loaded successfully from\", model_path)\n",
        "else:\n",
        "    print(\"No pre-trained model found, proceeding with training from scratch.\")"
      ]
    },
    {
      "cell_type": "markdown",
      "metadata": {
        "id": "DV2w8kgnq3ak"
      },
      "source": [
        "## Run the train loop"
      ]
    },
    {
      "cell_type": "code",
      "execution_count": 16,
      "metadata": {
        "colab": {
          "base_uri": "https://localhost:8080/"
        },
        "id": "q6Oz1ceZq3ak",
        "outputId": "f42989cc-adb1-479a-8b55-233a4f48d13f"
      },
      "outputs": [
        {
          "metadata": {
            "tags": null
          },
          "name": "stderr",
          "output_type": "stream",
          "text": [
            "\r  0%|          | 0/48 [00:00<?, ?it/s]"
          ]
        },
        {
          "metadata": {
            "tags": null
          },
          "name": "stdout",
          "output_type": "stream",
          "text": [
            "Epoch [0/500]\n"
          ]
        },
        {
          "metadata": {
            "tags": null
          },
          "name": "stderr",
          "output_type": "stream",
          "text": [
            "100%|██████████| 48/48 [07:06<00:00,  8.89s/it, loss=0.51, iou=0.095]\n",
            "100%|██████████| 6/6 [00:52<00:00,  8.75s/it, loss=0.416, iou=1.22e-10]\n"
          ]
        },
        {
          "metadata": {
            "tags": null
          },
          "name": "stdout",
          "output_type": "stream",
          "text": [
            "loss 0.5097 - iou 0.0950 - val_loss 0.4156 - val_iou 0.0000\n"
          ]
        },
        {
          "metadata": {
            "tags": null
          },
          "name": "stderr",
          "output_type": "stream",
          "text": [
            "\r  0%|          | 0/48 [00:00<?, ?it/s]"
          ]
        },
        {
          "metadata": {
            "tags": null
          },
          "name": "stdout",
          "output_type": "stream",
          "text": [
            "=> saved best model\n",
            "Epoch [1/500]\n"
          ]
        },
        {
          "metadata": {
            "tags": null
          },
          "name": "stderr",
          "output_type": "stream",
          "text": [
            "100%|██████████| 48/48 [01:25<00:00,  1.79s/it, loss=0.369, iou=0.037]\n",
            "100%|██████████| 6/6 [00:04<00:00,  1.28it/s, loss=0.405, iou=0.0103]\n",
            "  0%|          | 0/48 [00:00<?, ?it/s]"
          ]
        },
        {
          "metadata": {
            "tags": null
          },
          "name": "stdout",
          "output_type": "stream",
          "text": [
            "loss 0.3695 - iou 0.0370 - val_loss 0.4047 - val_iou 0.0103\n",
            "=> saved best model\n",
            "Epoch [2/500]\n"
          ]
        },
        {
          "metadata": {
            "tags": null
          },
          "name": "stderr",
          "output_type": "stream",
          "text": [
            "100%|██████████| 48/48 [01:20<00:00,  1.67s/it, loss=0.315, iou=0.0145]\n",
            "100%|██████████| 6/6 [00:04<00:00,  1.37it/s, loss=0.378, iou=0.0137]\n",
            "  0%|          | 0/48 [00:00<?, ?it/s]"
          ]
        },
        {
          "metadata": {
            "tags": null
          },
          "name": "stdout",
          "output_type": "stream",
          "text": [
            "loss 0.3155 - iou 0.0145 - val_loss 0.3783 - val_iou 0.0137\n",
            "=> saved best model\n",
            "Epoch [3/500]\n"
          ]
        },
        {
          "metadata": {
            "tags": null
          },
          "name": "stderr",
          "output_type": "stream",
          "text": [
            "100%|██████████| 48/48 [01:20<00:00,  1.69s/it, loss=0.289, iou=0.0254]\n",
            "100%|██████████| 6/6 [00:04<00:00,  1.39it/s, loss=0.295, iou=3.39e-5]\n",
            "  0%|          | 0/48 [00:00<?, ?it/s]"
          ]
        },
        {
          "metadata": {
            "tags": null
          },
          "name": "stdout",
          "output_type": "stream",
          "text": [
            "loss 0.2894 - iou 0.0254 - val_loss 0.2948 - val_iou 0.0000\n",
            "Epoch [4/500]\n"
          ]
        },
        {
          "metadata": {
            "tags": null
          },
          "name": "stderr",
          "output_type": "stream",
          "text": [
            "100%|██████████| 48/48 [01:20<00:00,  1.68s/it, loss=0.275, iou=0.00584]\n",
            "100%|██████████| 6/6 [00:04<00:00,  1.38it/s, loss=0.329, iou=0.0154]\n",
            "  0%|          | 0/48 [00:00<?, ?it/s]"
          ]
        },
        {
          "metadata": {
            "tags": null
          },
          "name": "stdout",
          "output_type": "stream",
          "text": [
            "loss 0.2752 - iou 0.0058 - val_loss 0.3290 - val_iou 0.0154\n",
            "=> saved best model\n",
            "Epoch [5/500]\n"
          ]
        },
        {
          "metadata": {
            "tags": null
          },
          "name": "stderr",
          "output_type": "stream",
          "text": [
            "100%|██████████| 48/48 [01:21<00:00,  1.69s/it, loss=0.266, iou=0.0135]\n",
            "100%|██████████| 6/6 [00:04<00:00,  1.30it/s, loss=0.268, iou=0.0115]\n",
            "  0%|          | 0/48 [00:00<?, ?it/s]"
          ]
        },
        {
          "metadata": {
            "tags": null
          },
          "name": "stdout",
          "output_type": "stream",
          "text": [
            "loss 0.2664 - iou 0.0135 - val_loss 0.2684 - val_iou 0.0115\n",
            "Epoch [6/500]\n"
          ]
        },
        {
          "metadata": {
            "tags": null
          },
          "name": "stderr",
          "output_type": "stream",
          "text": [
            "100%|██████████| 48/48 [01:20<00:00,  1.68s/it, loss=0.264, iou=0.0693]\n",
            "100%|██████████| 6/6 [00:05<00:00,  1.19it/s, loss=0.255, iou=0.00327]\n",
            "  0%|          | 0/48 [00:00<?, ?it/s]"
          ]
        },
        {
          "metadata": {
            "tags": null
          },
          "name": "stdout",
          "output_type": "stream",
          "text": [
            "loss 0.2635 - iou 0.0693 - val_loss 0.2546 - val_iou 0.0033\n",
            "Epoch [7/500]\n"
          ]
        },
        {
          "metadata": {
            "tags": null
          },
          "name": "stderr",
          "output_type": "stream",
          "text": [
            "100%|██████████| 48/48 [01:20<00:00,  1.67s/it, loss=0.259, iou=0.0611]\n",
            "100%|██████████| 6/6 [00:04<00:00,  1.26it/s, loss=0.256, iou=0.118]\n",
            "  0%|          | 0/48 [00:00<?, ?it/s]"
          ]
        },
        {
          "metadata": {
            "tags": null
          },
          "name": "stdout",
          "output_type": "stream",
          "text": [
            "loss 0.2594 - iou 0.0611 - val_loss 0.2558 - val_iou 0.1183\n",
            "=> saved best model\n",
            "Epoch [8/500]\n"
          ]
        },
        {
          "metadata": {
            "tags": null
          },
          "name": "stderr",
          "output_type": "stream",
          "text": [
            "100%|██████████| 48/48 [01:20<00:00,  1.67s/it, loss=0.259, iou=0.0777]\n",
            "100%|██████████| 6/6 [00:04<00:00,  1.37it/s, loss=0.263, iou=0.124]\n",
            "  0%|          | 0/48 [00:00<?, ?it/s]"
          ]
        },
        {
          "metadata": {
            "tags": null
          },
          "name": "stdout",
          "output_type": "stream",
          "text": [
            "loss 0.2590 - iou 0.0777 - val_loss 0.2629 - val_iou 0.1243\n",
            "=> saved best model\n",
            "Epoch [9/500]\n"
          ]
        },
        {
          "metadata": {
            "tags": null
          },
          "name": "stderr",
          "output_type": "stream",
          "text": [
            "100%|██████████| 48/48 [01:20<00:00,  1.67s/it, loss=0.256, iou=0.0522]\n",
            "100%|██████████| 6/6 [00:04<00:00,  1.39it/s, loss=0.255, iou=0.0654]\n",
            "  0%|          | 0/48 [00:00<?, ?it/s]"
          ]
        },
        {
          "metadata": {
            "tags": null
          },
          "name": "stdout",
          "output_type": "stream",
          "text": [
            "loss 0.2555 - iou 0.0522 - val_loss 0.2553 - val_iou 0.0654\n",
            "Epoch [10/500]\n"
          ]
        },
        {
          "metadata": {
            "tags": null
          },
          "name": "stderr",
          "output_type": "stream",
          "text": [
            "100%|██████████| 48/48 [01:20<00:00,  1.69s/it, loss=0.255, iou=0.0576]\n",
            "100%|██████████| 6/6 [00:04<00:00,  1.39it/s, loss=0.276, iou=0.178]\n",
            "  0%|          | 0/48 [00:00<?, ?it/s]"
          ]
        },
        {
          "metadata": {
            "tags": null
          },
          "name": "stdout",
          "output_type": "stream",
          "text": [
            "loss 0.2546 - iou 0.0576 - val_loss 0.2762 - val_iou 0.1777\n",
            "=> saved best model\n",
            "Epoch [11/500]\n"
          ]
        },
        {
          "metadata": {
            "tags": null
          },
          "name": "stderr",
          "output_type": "stream",
          "text": [
            "100%|██████████| 48/48 [01:19<00:00,  1.66s/it, loss=0.252, iou=0.101]\n",
            "100%|██████████| 6/6 [00:04<00:00,  1.39it/s, loss=0.253, iou=0.0136]\n",
            "  0%|          | 0/48 [00:00<?, ?it/s]"
          ]
        },
        {
          "metadata": {
            "tags": null
          },
          "name": "stdout",
          "output_type": "stream",
          "text": [
            "loss 0.2522 - iou 0.1007 - val_loss 0.2526 - val_iou 0.0136\n",
            "Epoch [12/500]\n"
          ]
        },
        {
          "metadata": {
            "tags": null
          },
          "name": "stderr",
          "output_type": "stream",
          "text": [
            "100%|██████████| 48/48 [01:20<00:00,  1.68s/it, loss=0.251, iou=0.114]\n",
            "100%|██████████| 6/6 [00:04<00:00,  1.35it/s, loss=0.256, iou=0.00161]\n",
            "  0%|          | 0/48 [00:00<?, ?it/s]"
          ]
        },
        {
          "metadata": {
            "tags": null
          },
          "name": "stdout",
          "output_type": "stream",
          "text": [
            "loss 0.2506 - iou 0.1138 - val_loss 0.2561 - val_iou 0.0016\n",
            "Epoch [13/500]\n"
          ]
        },
        {
          "metadata": {
            "tags": null
          },
          "name": "stderr",
          "output_type": "stream",
          "text": [
            "100%|██████████| 48/48 [01:19<00:00,  1.67s/it, loss=0.248, iou=0.152]\n",
            "100%|██████████| 6/6 [00:04<00:00,  1.31it/s, loss=0.268, iou=1.3e-10]\n",
            "  0%|          | 0/48 [00:00<?, ?it/s]"
          ]
        },
        {
          "metadata": {
            "tags": null
          },
          "name": "stdout",
          "output_type": "stream",
          "text": [
            "loss 0.2482 - iou 0.1517 - val_loss 0.2682 - val_iou 0.0000\n",
            "Epoch [14/500]\n"
          ]
        },
        {
          "metadata": {
            "tags": null
          },
          "name": "stderr",
          "output_type": "stream",
          "text": [
            "100%|██████████| 48/48 [01:20<00:00,  1.67s/it, loss=0.248, iou=0.128]\n",
            "100%|██████████| 6/6 [00:04<00:00,  1.24it/s, loss=0.249, iou=0.0469]\n",
            "  0%|          | 0/48 [00:00<?, ?it/s]"
          ]
        },
        {
          "metadata": {
            "tags": null
          },
          "name": "stdout",
          "output_type": "stream",
          "text": [
            "loss 0.2480 - iou 0.1281 - val_loss 0.2495 - val_iou 0.0469\n",
            "Epoch [15/500]\n"
          ]
        },
        {
          "metadata": {
            "tags": null
          },
          "name": "stderr",
          "output_type": "stream",
          "text": [
            "100%|██████████| 48/48 [01:19<00:00,  1.66s/it, loss=0.243, iou=0.188]\n",
            "100%|██████████| 6/6 [00:04<00:00,  1.29it/s, loss=0.242, iou=1.3e-10]\n",
            "  0%|          | 0/48 [00:00<?, ?it/s]"
          ]
        },
        {
          "metadata": {
            "tags": null
          },
          "name": "stdout",
          "output_type": "stream",
          "text": [
            "loss 0.2434 - iou 0.1878 - val_loss 0.2424 - val_iou 0.0000\n",
            "Epoch [16/500]\n"
          ]
        },
        {
          "metadata": {
            "tags": null
          },
          "name": "stderr",
          "output_type": "stream",
          "text": [
            "100%|██████████| 48/48 [01:20<00:00,  1.68s/it, loss=0.242, iou=0.201]\n",
            "100%|██████████| 6/6 [00:04<00:00,  1.40it/s, loss=0.267, iou=0.262]\n",
            "  0%|          | 0/48 [00:00<?, ?it/s]"
          ]
        },
        {
          "metadata": {
            "tags": null
          },
          "name": "stdout",
          "output_type": "stream",
          "text": [
            "loss 0.2424 - iou 0.2010 - val_loss 0.2669 - val_iou 0.2624\n",
            "=> saved best model\n",
            "Epoch [17/500]\n"
          ]
        },
        {
          "metadata": {
            "tags": null
          },
          "name": "stderr",
          "output_type": "stream",
          "text": [
            "100%|██████████| 48/48 [01:20<00:00,  1.68s/it, loss=0.241, iou=0.215]\n",
            "100%|██████████| 6/6 [00:04<00:00,  1.40it/s, loss=0.263, iou=0.208]\n",
            "  0%|          | 0/48 [00:00<?, ?it/s]"
          ]
        },
        {
          "metadata": {
            "tags": null
          },
          "name": "stdout",
          "output_type": "stream",
          "text": [
            "loss 0.2405 - iou 0.2152 - val_loss 0.2630 - val_iou 0.2076\n",
            "Epoch [18/500]\n"
          ]
        },
        {
          "metadata": {
            "tags": null
          },
          "name": "stderr",
          "output_type": "stream",
          "text": [
            "100%|██████████| 48/48 [01:20<00:00,  1.68s/it, loss=0.237, iou=0.213]\n",
            "100%|██████████| 6/6 [00:04<00:00,  1.38it/s, loss=0.258, iou=0.0131]\n",
            "  0%|          | 0/48 [00:00<?, ?it/s]"
          ]
        },
        {
          "metadata": {
            "tags": null
          },
          "name": "stdout",
          "output_type": "stream",
          "text": [
            "loss 0.2370 - iou 0.2133 - val_loss 0.2582 - val_iou 0.0131\n",
            "Epoch [19/500]\n"
          ]
        },
        {
          "metadata": {
            "tags": null
          },
          "name": "stderr",
          "output_type": "stream",
          "text": [
            "100%|██████████| 48/48 [01:20<00:00,  1.68s/it, loss=0.237, iou=0.23]\n",
            "100%|██████████| 6/6 [00:04<00:00,  1.40it/s, loss=0.267, iou=0.00326]\n",
            "  0%|          | 0/48 [00:00<?, ?it/s]"
          ]
        },
        {
          "metadata": {
            "tags": null
          },
          "name": "stdout",
          "output_type": "stream",
          "text": [
            "loss 0.2366 - iou 0.2302 - val_loss 0.2667 - val_iou 0.0033\n",
            "Epoch [20/500]\n"
          ]
        },
        {
          "metadata": {
            "tags": null
          },
          "name": "stderr",
          "output_type": "stream",
          "text": [
            "100%|██████████| 48/48 [01:20<00:00,  1.67s/it, loss=0.234, iou=0.237]\n",
            "100%|██████████| 6/6 [00:04<00:00,  1.31it/s, loss=0.305, iou=0.141]\n",
            "  0%|          | 0/48 [00:00<?, ?it/s]"
          ]
        },
        {
          "metadata": {
            "tags": null
          },
          "name": "stdout",
          "output_type": "stream",
          "text": [
            "loss 0.2341 - iou 0.2367 - val_loss 0.3052 - val_iou 0.1411\n",
            "Epoch [21/500]\n"
          ]
        },
        {
          "metadata": {
            "tags": null
          },
          "name": "stderr",
          "output_type": "stream",
          "text": [
            "100%|██████████| 48/48 [01:19<00:00,  1.67s/it, loss=0.233, iou=0.245]\n",
            "100%|██████████| 6/6 [00:04<00:00,  1.22it/s, loss=0.234, iou=0.0888]\n",
            "  0%|          | 0/48 [00:00<?, ?it/s]"
          ]
        },
        {
          "metadata": {
            "tags": null
          },
          "name": "stdout",
          "output_type": "stream",
          "text": [
            "loss 0.2333 - iou 0.2447 - val_loss 0.2345 - val_iou 0.0888\n",
            "Epoch [22/500]\n"
          ]
        },
        {
          "metadata": {
            "tags": null
          },
          "name": "stderr",
          "output_type": "stream",
          "text": [
            "100%|██████████| 48/48 [01:19<00:00,  1.65s/it, loss=0.231, iou=0.279]\n",
            "100%|██████████| 6/6 [00:04<00:00,  1.25it/s, loss=0.337, iou=0.246]\n",
            "  0%|          | 0/48 [00:00<?, ?it/s]"
          ]
        },
        {
          "metadata": {
            "tags": null
          },
          "name": "stdout",
          "output_type": "stream",
          "text": [
            "loss 0.2311 - iou 0.2790 - val_loss 0.3368 - val_iou 0.2458\n",
            "Epoch [23/500]\n"
          ]
        },
        {
          "metadata": {
            "tags": null
          },
          "name": "stderr",
          "output_type": "stream",
          "text": [
            "100%|██████████| 48/48 [01:19<00:00,  1.66s/it, loss=0.226, iou=0.297]\n",
            "100%|██████████| 6/6 [00:04<00:00,  1.31it/s, loss=0.227, iou=0.138]\n",
            "  0%|          | 0/48 [00:00<?, ?it/s]"
          ]
        },
        {
          "metadata": {
            "tags": null
          },
          "name": "stdout",
          "output_type": "stream",
          "text": [
            "loss 0.2255 - iou 0.2975 - val_loss 0.2265 - val_iou 0.1382\n",
            "Epoch [24/500]\n"
          ]
        },
        {
          "metadata": {
            "tags": null
          },
          "name": "stderr",
          "output_type": "stream",
          "text": [
            "100%|██████████| 48/48 [01:20<00:00,  1.68s/it, loss=0.226, iou=0.292]\n",
            "100%|██████████| 6/6 [00:04<00:00,  1.39it/s, loss=0.303, iou=0.0463]\n",
            "  0%|          | 0/48 [00:00<?, ?it/s]"
          ]
        },
        {
          "metadata": {
            "tags": null
          },
          "name": "stdout",
          "output_type": "stream",
          "text": [
            "loss 0.2265 - iou 0.2922 - val_loss 0.3034 - val_iou 0.0463\n",
            "Epoch [25/500]\n"
          ]
        },
        {
          "metadata": {
            "tags": null
          },
          "name": "stderr",
          "output_type": "stream",
          "text": [
            "100%|██████████| 48/48 [01:21<00:00,  1.69s/it, loss=0.223, iou=0.316]\n",
            "100%|██████████| 6/6 [00:04<00:00,  1.40it/s, loss=0.385, iou=0.251]\n",
            "  0%|          | 0/48 [00:00<?, ?it/s]"
          ]
        },
        {
          "metadata": {
            "tags": null
          },
          "name": "stdout",
          "output_type": "stream",
          "text": [
            "loss 0.2226 - iou 0.3157 - val_loss 0.3845 - val_iou 0.2508\n",
            "Epoch [26/500]\n"
          ]
        },
        {
          "metadata": {
            "tags": null
          },
          "name": "stderr",
          "output_type": "stream",
          "text": [
            "100%|██████████| 48/48 [01:20<00:00,  1.68s/it, loss=0.226, iou=0.293]\n",
            "100%|██████████| 6/6 [00:04<00:00,  1.40it/s, loss=0.246, iou=0.0936]\n",
            "  0%|          | 0/48 [00:00<?, ?it/s]"
          ]
        },
        {
          "metadata": {
            "tags": null
          },
          "name": "stdout",
          "output_type": "stream",
          "text": [
            "loss 0.2256 - iou 0.2926 - val_loss 0.2462 - val_iou 0.0936\n",
            "Epoch [27/500]\n"
          ]
        },
        {
          "metadata": {
            "tags": null
          },
          "name": "stderr",
          "output_type": "stream",
          "text": [
            "100%|██████████| 48/48 [01:20<00:00,  1.67s/it, loss=0.218, iou=0.348]\n",
            "100%|██████████| 6/6 [00:04<00:00,  1.36it/s, loss=0.25, iou=0.0458]\n",
            "  0%|          | 0/48 [00:00<?, ?it/s]"
          ]
        },
        {
          "metadata": {
            "tags": null
          },
          "name": "stdout",
          "output_type": "stream",
          "text": [
            "loss 0.2177 - iou 0.3481 - val_loss 0.2504 - val_iou 0.0458\n",
            "Epoch [28/500]\n"
          ]
        },
        {
          "metadata": {
            "tags": null
          },
          "name": "stderr",
          "output_type": "stream",
          "text": [
            "100%|██████████| 48/48 [01:20<00:00,  1.67s/it, loss=0.22, iou=0.324]\n",
            "100%|██████████| 6/6 [00:04<00:00,  1.26it/s, loss=0.249, iou=0.021]\n",
            "  0%|          | 0/48 [00:00<?, ?it/s]"
          ]
        },
        {
          "metadata": {
            "tags": null
          },
          "name": "stdout",
          "output_type": "stream",
          "text": [
            "loss 0.2199 - iou 0.3240 - val_loss 0.2493 - val_iou 0.0210\n",
            "Epoch [29/500]\n"
          ]
        },
        {
          "metadata": {
            "tags": null
          },
          "name": "stderr",
          "output_type": "stream",
          "text": [
            "100%|██████████| 48/48 [01:19<00:00,  1.67s/it, loss=0.216, iou=0.342]\n",
            "100%|██████████| 6/6 [00:04<00:00,  1.23it/s, loss=0.274, iou=0.0425]\n",
            "  0%|          | 0/48 [00:00<?, ?it/s]"
          ]
        },
        {
          "metadata": {
            "tags": null
          },
          "name": "stdout",
          "output_type": "stream",
          "text": [
            "loss 0.2161 - iou 0.3421 - val_loss 0.2738 - val_iou 0.0425\n",
            "Epoch [30/500]\n"
          ]
        },
        {
          "metadata": {
            "tags": null
          },
          "name": "stderr",
          "output_type": "stream",
          "text": [
            "100%|██████████| 48/48 [01:19<00:00,  1.66s/it, loss=0.215, iou=0.343]\n",
            "100%|██████████| 6/6 [00:04<00:00,  1.28it/s, loss=0.255, iou=0.0389]\n",
            "  0%|          | 0/48 [00:00<?, ?it/s]"
          ]
        },
        {
          "metadata": {
            "tags": null
          },
          "name": "stdout",
          "output_type": "stream",
          "text": [
            "loss 0.2149 - iou 0.3434 - val_loss 0.2553 - val_iou 0.0389\n",
            "Epoch [31/500]\n"
          ]
        },
        {
          "metadata": {
            "tags": null
          },
          "name": "stderr",
          "output_type": "stream",
          "text": [
            "100%|██████████| 48/48 [01:20<00:00,  1.68s/it, loss=0.212, iou=0.387]\n",
            "100%|██████████| 6/6 [00:04<00:00,  1.36it/s, loss=0.227, iou=0.0863]\n",
            "  0%|          | 0/48 [00:00<?, ?it/s]"
          ]
        },
        {
          "metadata": {
            "tags": null
          },
          "name": "stdout",
          "output_type": "stream",
          "text": [
            "loss 0.2118 - iou 0.3870 - val_loss 0.2273 - val_iou 0.0863\n",
            "Epoch [32/500]\n"
          ]
        },
        {
          "metadata": {
            "tags": null
          },
          "name": "stderr",
          "output_type": "stream",
          "text": [
            "100%|██████████| 48/48 [01:20<00:00,  1.67s/it, loss=0.208, iou=0.406]\n",
            "100%|██████████| 6/6 [00:04<00:00,  1.41it/s, loss=0.226, iou=0.234]\n",
            "  0%|          | 0/48 [00:00<?, ?it/s]"
          ]
        },
        {
          "metadata": {
            "tags": null
          },
          "name": "stdout",
          "output_type": "stream",
          "text": [
            "loss 0.2084 - iou 0.4057 - val_loss 0.2261 - val_iou 0.2340\n",
            "Epoch [33/500]\n"
          ]
        },
        {
          "metadata": {
            "tags": null
          },
          "name": "stderr",
          "output_type": "stream",
          "text": [
            "100%|██████████| 48/48 [01:20<00:00,  1.67s/it, loss=0.206, iou=0.411]\n",
            "100%|██████████| 6/6 [00:04<00:00,  1.41it/s, loss=0.273, iou=0.0816]\n",
            "  0%|          | 0/48 [00:00<?, ?it/s]"
          ]
        },
        {
          "metadata": {
            "tags": null
          },
          "name": "stdout",
          "output_type": "stream",
          "text": [
            "loss 0.2059 - iou 0.4109 - val_loss 0.2735 - val_iou 0.0816\n",
            "Epoch [34/500]\n"
          ]
        },
        {
          "metadata": {
            "tags": null
          },
          "name": "stderr",
          "output_type": "stream",
          "text": [
            "100%|██████████| 48/48 [01:19<00:00,  1.67s/it, loss=0.203, iou=0.435]\n",
            "100%|██████████| 6/6 [00:04<00:00,  1.40it/s, loss=0.237, iou=0.388]\n",
            "  0%|          | 0/48 [00:00<?, ?it/s]"
          ]
        },
        {
          "metadata": {
            "tags": null
          },
          "name": "stdout",
          "output_type": "stream",
          "text": [
            "loss 0.2034 - iou 0.4352 - val_loss 0.2366 - val_iou 0.3883\n",
            "=> saved best model\n",
            "Epoch [35/500]\n"
          ]
        },
        {
          "metadata": {
            "tags": null
          },
          "name": "stderr",
          "output_type": "stream",
          "text": [
            "100%|██████████| 48/48 [01:20<00:00,  1.67s/it, loss=0.204, iou=0.443]\n",
            "100%|██████████| 6/6 [00:04<00:00,  1.38it/s, loss=0.303, iou=1.3e-10]\n",
            "  0%|          | 0/48 [00:00<?, ?it/s]"
          ]
        },
        {
          "metadata": {
            "tags": null
          },
          "name": "stdout",
          "output_type": "stream",
          "text": [
            "loss 0.2039 - iou 0.4429 - val_loss 0.3033 - val_iou 0.0000\n",
            "Epoch [36/500]\n"
          ]
        },
        {
          "metadata": {
            "tags": null
          },
          "name": "stderr",
          "output_type": "stream",
          "text": [
            "100%|██████████| 48/48 [01:20<00:00,  1.67s/it, loss=0.202, iou=0.455]\n",
            "100%|██████████| 6/6 [00:04<00:00,  1.28it/s, loss=0.27, iou=0.0414]\n",
            "  0%|          | 0/48 [00:00<?, ?it/s]"
          ]
        },
        {
          "metadata": {
            "tags": null
          },
          "name": "stdout",
          "output_type": "stream",
          "text": [
            "loss 0.2019 - iou 0.4549 - val_loss 0.2701 - val_iou 0.0414\n",
            "Epoch [37/500]\n"
          ]
        },
        {
          "metadata": {
            "tags": null
          },
          "name": "stderr",
          "output_type": "stream",
          "text": [
            "100%|██████████| 48/48 [01:19<00:00,  1.66s/it, loss=0.204, iou=0.434]\n",
            "100%|██████████| 6/6 [00:04<00:00,  1.22it/s, loss=0.226, iou=0.383]\n",
            "  0%|          | 0/48 [00:00<?, ?it/s]"
          ]
        },
        {
          "metadata": {
            "tags": null
          },
          "name": "stdout",
          "output_type": "stream",
          "text": [
            "loss 0.2043 - iou 0.4338 - val_loss 0.2259 - val_iou 0.3828\n",
            "Epoch [38/500]\n"
          ]
        },
        {
          "metadata": {
            "tags": null
          },
          "name": "stderr",
          "output_type": "stream",
          "text": [
            "100%|██████████| 48/48 [01:20<00:00,  1.67s/it, loss=0.193, iou=0.49]\n",
            "100%|██████████| 6/6 [00:04<00:00,  1.26it/s, loss=0.226, iou=0.26]\n",
            "  0%|          | 0/48 [00:00<?, ?it/s]"
          ]
        },
        {
          "metadata": {
            "tags": null
          },
          "name": "stdout",
          "output_type": "stream",
          "text": [
            "loss 0.1934 - iou 0.4899 - val_loss 0.2258 - val_iou 0.2596\n",
            "Epoch [39/500]\n"
          ]
        },
        {
          "metadata": {
            "tags": null
          },
          "name": "stderr",
          "output_type": "stream",
          "text": [
            "100%|██████████| 48/48 [01:20<00:00,  1.67s/it, loss=0.195, iou=0.493]\n",
            "100%|██████████| 6/6 [00:04<00:00,  1.36it/s, loss=0.274, iou=0.0391]\n",
            "  0%|          | 0/48 [00:00<?, ?it/s]"
          ]
        },
        {
          "metadata": {
            "tags": null
          },
          "name": "stdout",
          "output_type": "stream",
          "text": [
            "loss 0.1949 - iou 0.4933 - val_loss 0.2743 - val_iou 0.0391\n",
            "Epoch [40/500]\n"
          ]
        },
        {
          "metadata": {
            "tags": null
          },
          "name": "stderr",
          "output_type": "stream",
          "text": [
            "100%|██████████| 48/48 [01:20<00:00,  1.68s/it, loss=0.192, iou=0.487]\n",
            "100%|██████████| 6/6 [00:04<00:00,  1.40it/s, loss=0.282, iou=0.0321]\n",
            "  0%|          | 0/48 [00:00<?, ?it/s]"
          ]
        },
        {
          "metadata": {
            "tags": null
          },
          "name": "stdout",
          "output_type": "stream",
          "text": [
            "loss 0.1922 - iou 0.4869 - val_loss 0.2823 - val_iou 0.0321\n",
            "Epoch [41/500]\n"
          ]
        },
        {
          "metadata": {
            "tags": null
          },
          "name": "stderr",
          "output_type": "stream",
          "text": [
            "100%|██████████| 48/48 [01:20<00:00,  1.67s/it, loss=0.193, iou=0.491]\n",
            "100%|██████████| 6/6 [00:04<00:00,  1.41it/s, loss=0.445, iou=0.23]\n",
            "  0%|          | 0/48 [00:00<?, ?it/s]"
          ]
        },
        {
          "metadata": {
            "tags": null
          },
          "name": "stdout",
          "output_type": "stream",
          "text": [
            "loss 0.1929 - iou 0.4907 - val_loss 0.4453 - val_iou 0.2303\n",
            "Epoch [42/500]\n"
          ]
        },
        {
          "metadata": {
            "tags": null
          },
          "name": "stderr",
          "output_type": "stream",
          "text": [
            "100%|██████████| 48/48 [01:20<00:00,  1.67s/it, loss=0.191, iou=0.502]\n",
            "100%|██████████| 6/6 [00:04<00:00,  1.40it/s, loss=0.376, iou=0.232]\n",
            "  0%|          | 0/48 [00:00<?, ?it/s]"
          ]
        },
        {
          "metadata": {
            "tags": null
          },
          "name": "stdout",
          "output_type": "stream",
          "text": [
            "loss 0.1914 - iou 0.5025 - val_loss 0.3762 - val_iou 0.2319\n",
            "Epoch [43/500]\n"
          ]
        },
        {
          "metadata": {
            "tags": null
          },
          "name": "stderr",
          "output_type": "stream",
          "text": [
            "100%|██████████| 48/48 [01:20<00:00,  1.67s/it, loss=0.188, iou=0.528]\n",
            "100%|██████████| 6/6 [00:04<00:00,  1.35it/s, loss=0.225, iou=0.396]\n"
          ]
        },
        {
          "metadata": {
            "tags": null
          },
          "name": "stdout",
          "output_type": "stream",
          "text": [
            "loss 0.1879 - iou 0.5276 - val_loss 0.2250 - val_iou 0.3956\n"
          ]
        },
        {
          "metadata": {
            "tags": null
          },
          "name": "stderr",
          "output_type": "stream",
          "text": [
            "\r  0%|          | 0/48 [00:00<?, ?it/s]"
          ]
        },
        {
          "metadata": {
            "tags": null
          },
          "name": "stdout",
          "output_type": "stream",
          "text": [
            "=> saved best model\n",
            "Epoch [44/500]\n"
          ]
        },
        {
          "metadata": {
            "tags": null
          },
          "name": "stderr",
          "output_type": "stream",
          "text": [
            "100%|██████████| 48/48 [01:20<00:00,  1.68s/it, loss=0.187, iou=0.529]\n",
            "100%|██████████| 6/6 [00:04<00:00,  1.28it/s, loss=0.235, iou=0.244]\n",
            "  0%|          | 0/48 [00:00<?, ?it/s]"
          ]
        },
        {
          "metadata": {
            "tags": null
          },
          "name": "stdout",
          "output_type": "stream",
          "text": [
            "loss 0.1870 - iou 0.5295 - val_loss 0.2355 - val_iou 0.2441\n",
            "Epoch [45/500]\n"
          ]
        },
        {
          "metadata": {
            "tags": null
          },
          "name": "stderr",
          "output_type": "stream",
          "text": [
            "100%|██████████| 48/48 [01:19<00:00,  1.66s/it, loss=0.181, iou=0.556]\n",
            "100%|██████████| 6/6 [00:04<00:00,  1.23it/s, loss=0.29, iou=9.42e-5]\n",
            "  0%|          | 0/48 [00:00<?, ?it/s]"
          ]
        },
        {
          "metadata": {
            "tags": null
          },
          "name": "stdout",
          "output_type": "stream",
          "text": [
            "loss 0.1806 - iou 0.5562 - val_loss 0.2899 - val_iou 0.0001\n",
            "Epoch [46/500]\n"
          ]
        },
        {
          "metadata": {
            "tags": null
          },
          "name": "stderr",
          "output_type": "stream",
          "text": [
            "100%|██████████| 48/48 [01:20<00:00,  1.67s/it, loss=0.185, iou=0.534]\n",
            "100%|██████████| 6/6 [00:04<00:00,  1.23it/s, loss=0.377, iou=1.3e-10]\n",
            "  0%|          | 0/48 [00:00<?, ?it/s]"
          ]
        },
        {
          "metadata": {
            "tags": null
          },
          "name": "stdout",
          "output_type": "stream",
          "text": [
            "loss 0.1847 - iou 0.5341 - val_loss 0.3769 - val_iou 0.0000\n",
            "Epoch [47/500]\n"
          ]
        },
        {
          "metadata": {
            "tags": null
          },
          "name": "stderr",
          "output_type": "stream",
          "text": [
            "100%|██████████| 48/48 [01:20<00:00,  1.69s/it, loss=0.178, iou=0.546]\n",
            "100%|██████████| 6/6 [00:04<00:00,  1.30it/s, loss=0.274, iou=0.151]\n",
            "  0%|          | 0/48 [00:00<?, ?it/s]"
          ]
        },
        {
          "metadata": {
            "tags": null
          },
          "name": "stdout",
          "output_type": "stream",
          "text": [
            "loss 0.1777 - iou 0.5458 - val_loss 0.2741 - val_iou 0.1508\n",
            "Epoch [48/500]\n"
          ]
        },
        {
          "metadata": {
            "tags": null
          },
          "name": "stderr",
          "output_type": "stream",
          "text": [
            "100%|██████████| 48/48 [01:20<00:00,  1.68s/it, loss=0.18, iou=0.556]\n",
            "100%|██████████| 6/6 [00:04<00:00,  1.39it/s, loss=0.299, iou=0.346]\n",
            "  0%|          | 0/48 [00:00<?, ?it/s]"
          ]
        },
        {
          "metadata": {
            "tags": null
          },
          "name": "stdout",
          "output_type": "stream",
          "text": [
            "loss 0.1798 - iou 0.5561 - val_loss 0.2995 - val_iou 0.3459\n",
            "Epoch [49/500]\n"
          ]
        },
        {
          "metadata": {
            "tags": null
          },
          "name": "stderr",
          "output_type": "stream",
          "text": [
            "100%|██████████| 48/48 [01:20<00:00,  1.68s/it, loss=0.18, iou=0.573]\n",
            "100%|██████████| 6/6 [00:04<00:00,  1.39it/s, loss=0.193, iou=0.52]\n",
            "  0%|          | 0/48 [00:00<?, ?it/s]"
          ]
        },
        {
          "metadata": {
            "tags": null
          },
          "name": "stdout",
          "output_type": "stream",
          "text": [
            "loss 0.1796 - iou 0.5733 - val_loss 0.1927 - val_iou 0.5201\n",
            "=> saved best model\n",
            "Epoch [50/500]\n"
          ]
        },
        {
          "metadata": {
            "tags": null
          },
          "name": "stderr",
          "output_type": "stream",
          "text": [
            "100%|██████████| 48/48 [01:20<00:00,  1.67s/it, loss=0.173, iou=0.594]\n",
            "100%|██████████| 6/6 [00:04<00:00,  1.39it/s, loss=0.231, iou=0.189]\n",
            "  0%|          | 0/48 [00:00<?, ?it/s]"
          ]
        },
        {
          "metadata": {
            "tags": null
          },
          "name": "stdout",
          "output_type": "stream",
          "text": [
            "loss 0.1726 - iou 0.5943 - val_loss 0.2309 - val_iou 0.1888\n",
            "Epoch [51/500]\n"
          ]
        },
        {
          "metadata": {
            "tags": null
          },
          "name": "stderr",
          "output_type": "stream",
          "text": [
            "100%|██████████| 48/48 [01:21<00:00,  1.69s/it, loss=0.179, iou=0.562]\n",
            "100%|██████████| 6/6 [00:04<00:00,  1.39it/s, loss=0.217, iou=0.341]\n",
            "  0%|          | 0/48 [00:00<?, ?it/s]"
          ]
        },
        {
          "metadata": {
            "tags": null
          },
          "name": "stdout",
          "output_type": "stream",
          "text": [
            "loss 0.1793 - iou 0.5624 - val_loss 0.2175 - val_iou 0.3411\n",
            "Epoch [52/500]\n"
          ]
        },
        {
          "metadata": {
            "tags": null
          },
          "name": "stderr",
          "output_type": "stream",
          "text": [
            "100%|██████████| 48/48 [01:20<00:00,  1.67s/it, loss=0.174, iou=0.586]\n",
            "100%|██████████| 6/6 [00:04<00:00,  1.31it/s, loss=0.277, iou=0.0312]\n",
            "  0%|          | 0/48 [00:00<?, ?it/s]"
          ]
        },
        {
          "metadata": {
            "tags": null
          },
          "name": "stdout",
          "output_type": "stream",
          "text": [
            "loss 0.1735 - iou 0.5863 - val_loss 0.2774 - val_iou 0.0312\n",
            "Epoch [53/500]\n"
          ]
        },
        {
          "metadata": {
            "tags": null
          },
          "name": "stderr",
          "output_type": "stream",
          "text": [
            "100%|██████████| 48/48 [01:20<00:00,  1.68s/it, loss=0.171, iou=0.605]\n",
            "100%|██████████| 6/6 [00:04<00:00,  1.23it/s, loss=0.237, iou=0.277]\n",
            "  0%|          | 0/48 [00:00<?, ?it/s]"
          ]
        },
        {
          "metadata": {
            "tags": null
          },
          "name": "stdout",
          "output_type": "stream",
          "text": [
            "loss 0.1710 - iou 0.6049 - val_loss 0.2373 - val_iou 0.2769\n",
            "Epoch [54/500]\n"
          ]
        },
        {
          "metadata": {
            "tags": null
          },
          "name": "stderr",
          "output_type": "stream",
          "text": [
            "100%|██████████| 48/48 [01:20<00:00,  1.67s/it, loss=0.173, iou=0.592]\n",
            "100%|██████████| 6/6 [00:04<00:00,  1.27it/s, loss=0.262, iou=0.0186]\n",
            "  0%|          | 0/48 [00:00<?, ?it/s]"
          ]
        },
        {
          "metadata": {
            "tags": null
          },
          "name": "stdout",
          "output_type": "stream",
          "text": [
            "loss 0.1726 - iou 0.5920 - val_loss 0.2618 - val_iou 0.0186\n",
            "Epoch [55/500]\n"
          ]
        },
        {
          "metadata": {
            "tags": null
          },
          "name": "stderr",
          "output_type": "stream",
          "text": [
            "100%|██████████| 48/48 [01:20<00:00,  1.68s/it, loss=0.171, iou=0.6]\n",
            "100%|██████████| 6/6 [00:04<00:00,  1.39it/s, loss=0.363, iou=1.3e-10]\n",
            "  0%|          | 0/48 [00:00<?, ?it/s]"
          ]
        },
        {
          "metadata": {
            "tags": null
          },
          "name": "stdout",
          "output_type": "stream",
          "text": [
            "loss 0.1710 - iou 0.6000 - val_loss 0.3626 - val_iou 0.0000\n",
            "Epoch [56/500]\n"
          ]
        },
        {
          "metadata": {
            "tags": null
          },
          "name": "stderr",
          "output_type": "stream",
          "text": [
            "100%|██████████| 48/48 [01:20<00:00,  1.68s/it, loss=0.17, iou=0.598]\n",
            "100%|██████████| 6/6 [00:04<00:00,  1.39it/s, loss=0.401, iou=0.0366]\n",
            "  0%|          | 0/48 [00:00<?, ?it/s]"
          ]
        },
        {
          "metadata": {
            "tags": null
          },
          "name": "stdout",
          "output_type": "stream",
          "text": [
            "loss 0.1704 - iou 0.5978 - val_loss 0.4011 - val_iou 0.0366\n",
            "Epoch [57/500]\n"
          ]
        },
        {
          "metadata": {
            "tags": null
          },
          "name": "stderr",
          "output_type": "stream",
          "text": [
            "100%|██████████| 48/48 [01:20<00:00,  1.67s/it, loss=0.165, iou=0.624]\n",
            "100%|██████████| 6/6 [00:04<00:00,  1.39it/s, loss=0.275, iou=0.0468]\n",
            "  0%|          | 0/48 [00:00<?, ?it/s]"
          ]
        },
        {
          "metadata": {
            "tags": null
          },
          "name": "stdout",
          "output_type": "stream",
          "text": [
            "loss 0.1649 - iou 0.6242 - val_loss 0.2747 - val_iou 0.0468\n",
            "Epoch [58/500]\n"
          ]
        },
        {
          "metadata": {
            "tags": null
          },
          "name": "stderr",
          "output_type": "stream",
          "text": [
            "100%|██████████| 48/48 [01:20<00:00,  1.67s/it, loss=0.164, iou=0.624]\n",
            "100%|██████████| 6/6 [00:04<00:00,  1.40it/s, loss=0.344, iou=1.3e-10]\n",
            "  0%|          | 0/48 [00:00<?, ?it/s]"
          ]
        },
        {
          "metadata": {
            "tags": null
          },
          "name": "stdout",
          "output_type": "stream",
          "text": [
            "loss 0.1643 - iou 0.6243 - val_loss 0.3442 - val_iou 0.0000\n",
            "Epoch [59/500]\n"
          ]
        },
        {
          "metadata": {
            "tags": null
          },
          "name": "stderr",
          "output_type": "stream",
          "text": [
            "100%|██████████| 48/48 [01:19<00:00,  1.67s/it, loss=0.168, iou=0.611]\n",
            "100%|██████████| 6/6 [00:04<00:00,  1.41it/s, loss=0.365, iou=1.3e-10]\n",
            "  0%|          | 0/48 [00:00<?, ?it/s]"
          ]
        },
        {
          "metadata": {
            "tags": null
          },
          "name": "stdout",
          "output_type": "stream",
          "text": [
            "loss 0.1677 - iou 0.6105 - val_loss 0.3646 - val_iou 0.0000\n",
            "Epoch [60/500]\n"
          ]
        },
        {
          "metadata": {
            "tags": null
          },
          "name": "stderr",
          "output_type": "stream",
          "text": [
            "100%|██████████| 48/48 [01:19<00:00,  1.66s/it, loss=0.161, iou=0.634]\n",
            "100%|██████████| 6/6 [00:04<00:00,  1.35it/s, loss=0.219, iou=0.3]\n",
            "  0%|          | 0/48 [00:00<?, ?it/s]"
          ]
        },
        {
          "metadata": {
            "tags": null
          },
          "name": "stdout",
          "output_type": "stream",
          "text": [
            "loss 0.1606 - iou 0.6336 - val_loss 0.2189 - val_iou 0.3004\n",
            "Epoch [61/500]\n"
          ]
        },
        {
          "metadata": {
            "tags": null
          },
          "name": "stderr",
          "output_type": "stream",
          "text": [
            "100%|██████████| 48/48 [01:19<00:00,  1.65s/it, loss=0.16, iou=0.648]\n",
            "100%|██████████| 6/6 [00:04<00:00,  1.27it/s, loss=0.258, iou=0.115]\n",
            "  0%|          | 0/48 [00:00<?, ?it/s]"
          ]
        },
        {
          "metadata": {
            "tags": null
          },
          "name": "stdout",
          "output_type": "stream",
          "text": [
            "loss 0.1596 - iou 0.6478 - val_loss 0.2580 - val_iou 0.1154\n",
            "Epoch [62/500]\n"
          ]
        },
        {
          "metadata": {
            "tags": null
          },
          "name": "stderr",
          "output_type": "stream",
          "text": [
            "100%|██████████| 48/48 [01:19<00:00,  1.66s/it, loss=0.158, iou=0.645]\n",
            "100%|██████████| 6/6 [00:04<00:00,  1.22it/s, loss=0.22, iou=0.135]\n",
            "  0%|          | 0/48 [00:00<?, ?it/s]"
          ]
        },
        {
          "metadata": {
            "tags": null
          },
          "name": "stdout",
          "output_type": "stream",
          "text": [
            "loss 0.1584 - iou 0.6447 - val_loss 0.2201 - val_iou 0.1351\n",
            "Epoch [63/500]\n"
          ]
        },
        {
          "metadata": {
            "tags": null
          },
          "name": "stderr",
          "output_type": "stream",
          "text": [
            "100%|██████████| 48/48 [01:19<00:00,  1.66s/it, loss=0.16, iou=0.64]\n",
            "100%|██████████| 6/6 [00:04<00:00,  1.28it/s, loss=0.376, iou=0.184]\n",
            "  0%|          | 0/48 [00:00<?, ?it/s]"
          ]
        },
        {
          "metadata": {
            "tags": null
          },
          "name": "stdout",
          "output_type": "stream",
          "text": [
            "loss 0.1597 - iou 0.6404 - val_loss 0.3765 - val_iou 0.1838\n",
            "Epoch [64/500]\n"
          ]
        },
        {
          "metadata": {
            "tags": null
          },
          "name": "stderr",
          "output_type": "stream",
          "text": [
            "100%|██████████| 48/48 [01:19<00:00,  1.65s/it, loss=0.16, iou=0.649]\n",
            "100%|██████████| 6/6 [00:04<00:00,  1.38it/s, loss=0.281, iou=0.281]\n",
            "  0%|          | 0/48 [00:00<?, ?it/s]"
          ]
        },
        {
          "metadata": {
            "tags": null
          },
          "name": "stdout",
          "output_type": "stream",
          "text": [
            "loss 0.1603 - iou 0.6495 - val_loss 0.2808 - val_iou 0.2810\n",
            "Epoch [65/500]\n"
          ]
        },
        {
          "metadata": {
            "tags": null
          },
          "name": "stderr",
          "output_type": "stream",
          "text": [
            "100%|██████████| 48/48 [01:20<00:00,  1.67s/it, loss=0.155, iou=0.659]\n",
            "100%|██████████| 6/6 [00:04<00:00,  1.39it/s, loss=0.225, iou=0.428]\n",
            "  0%|          | 0/48 [00:00<?, ?it/s]"
          ]
        },
        {
          "metadata": {
            "tags": null
          },
          "name": "stdout",
          "output_type": "stream",
          "text": [
            "loss 0.1549 - iou 0.6595 - val_loss 0.2246 - val_iou 0.4279\n",
            "Epoch [66/500]\n"
          ]
        },
        {
          "metadata": {
            "tags": null
          },
          "name": "stderr",
          "output_type": "stream",
          "text": [
            "100%|██████████| 48/48 [01:19<00:00,  1.66s/it, loss=0.161, iou=0.65]\n",
            "100%|██████████| 6/6 [00:04<00:00,  1.39it/s, loss=0.285, iou=0.0011]\n",
            "  0%|          | 0/48 [00:00<?, ?it/s]"
          ]
        },
        {
          "metadata": {
            "tags": null
          },
          "name": "stdout",
          "output_type": "stream",
          "text": [
            "loss 0.1614 - iou 0.6503 - val_loss 0.2851 - val_iou 0.0011\n",
            "Epoch [67/500]\n"
          ]
        },
        {
          "metadata": {
            "tags": null
          },
          "name": "stderr",
          "output_type": "stream",
          "text": [
            "100%|██████████| 48/48 [01:19<00:00,  1.66s/it, loss=0.157, iou=0.662]\n",
            "100%|██████████| 6/6 [00:04<00:00,  1.41it/s, loss=0.226, iou=0.208]\n",
            "  0%|          | 0/48 [00:00<?, ?it/s]"
          ]
        },
        {
          "metadata": {
            "tags": null
          },
          "name": "stdout",
          "output_type": "stream",
          "text": [
            "loss 0.1568 - iou 0.6617 - val_loss 0.2263 - val_iou 0.2081\n",
            "Epoch [68/500]\n"
          ]
        },
        {
          "metadata": {
            "tags": null
          },
          "name": "stderr",
          "output_type": "stream",
          "text": [
            "100%|██████████| 48/48 [01:20<00:00,  1.67s/it, loss=0.162, iou=0.626]\n",
            "100%|██████████| 6/6 [00:04<00:00,  1.40it/s, loss=0.345, iou=1.3e-10]\n",
            "  0%|          | 0/48 [00:00<?, ?it/s]"
          ]
        },
        {
          "metadata": {
            "tags": null
          },
          "name": "stdout",
          "output_type": "stream",
          "text": [
            "loss 0.1624 - iou 0.6262 - val_loss 0.3448 - val_iou 0.0000\n",
            "Epoch [69/500]\n"
          ]
        },
        {
          "metadata": {
            "tags": null
          },
          "name": "stderr",
          "output_type": "stream",
          "text": [
            "100%|██████████| 48/48 [01:19<00:00,  1.66s/it, loss=0.158, iou=0.643]\n",
            "100%|██████████| 6/6 [00:04<00:00,  1.41it/s, loss=0.371, iou=1.3e-10]\n",
            "  0%|          | 0/48 [00:00<?, ?it/s]"
          ]
        },
        {
          "metadata": {
            "tags": null
          },
          "name": "stdout",
          "output_type": "stream",
          "text": [
            "loss 0.1578 - iou 0.6426 - val_loss 0.3712 - val_iou 0.0000\n",
            "Epoch [70/500]\n"
          ]
        },
        {
          "metadata": {
            "tags": null
          },
          "name": "stderr",
          "output_type": "stream",
          "text": [
            "100%|██████████| 48/48 [01:19<00:00,  1.66s/it, loss=0.157, iou=0.653]\n",
            "100%|██████████| 6/6 [00:04<00:00,  1.33it/s, loss=0.244, iou=0.238]\n",
            "  0%|          | 0/48 [00:00<?, ?it/s]"
          ]
        },
        {
          "metadata": {
            "tags": null
          },
          "name": "stdout",
          "output_type": "stream",
          "text": [
            "loss 0.1573 - iou 0.6525 - val_loss 0.2443 - val_iou 0.2376\n",
            "Epoch [71/500]\n"
          ]
        },
        {
          "metadata": {
            "tags": null
          },
          "name": "stderr",
          "output_type": "stream",
          "text": [
            "100%|██████████| 48/48 [01:19<00:00,  1.66s/it, loss=0.152, iou=0.681]\n",
            "100%|██████████| 6/6 [00:04<00:00,  1.27it/s, loss=0.284, iou=0.249]\n",
            "  0%|          | 0/48 [00:00<?, ?it/s]"
          ]
        },
        {
          "metadata": {
            "tags": null
          },
          "name": "stdout",
          "output_type": "stream",
          "text": [
            "loss 0.1517 - iou 0.6807 - val_loss 0.2840 - val_iou 0.2490\n",
            "Epoch [72/500]\n"
          ]
        },
        {
          "metadata": {
            "tags": null
          },
          "name": "stderr",
          "output_type": "stream",
          "text": [
            "100%|██████████| 48/48 [01:18<00:00,  1.65s/it, loss=0.153, iou=0.68]\n",
            "100%|██████████| 6/6 [00:04<00:00,  1.22it/s, loss=0.265, iou=0.13]\n",
            "  0%|          | 0/48 [00:00<?, ?it/s]"
          ]
        },
        {
          "metadata": {
            "tags": null
          },
          "name": "stdout",
          "output_type": "stream",
          "text": [
            "loss 0.1534 - iou 0.6801 - val_loss 0.2653 - val_iou 0.1302\n",
            "Epoch [73/500]\n"
          ]
        },
        {
          "metadata": {
            "tags": null
          },
          "name": "stderr",
          "output_type": "stream",
          "text": [
            "100%|██████████| 48/48 [01:18<00:00,  1.65s/it, loss=0.155, iou=0.673]\n",
            "100%|██████████| 6/6 [00:04<00:00,  1.22it/s, loss=0.292, iou=0.0887]\n",
            "  0%|          | 0/48 [00:00<?, ?it/s]"
          ]
        },
        {
          "metadata": {
            "tags": null
          },
          "name": "stdout",
          "output_type": "stream",
          "text": [
            "loss 0.1547 - iou 0.6734 - val_loss 0.2923 - val_iou 0.0887\n",
            "Epoch [74/500]\n"
          ]
        },
        {
          "metadata": {
            "tags": null
          },
          "name": "stderr",
          "output_type": "stream",
          "text": [
            "100%|██████████| 48/48 [01:19<00:00,  1.65s/it, loss=0.152, iou=0.684]\n",
            "100%|██████████| 6/6 [00:04<00:00,  1.27it/s, loss=0.355, iou=0.098]\n",
            "  0%|          | 0/48 [00:00<?, ?it/s]"
          ]
        },
        {
          "metadata": {
            "tags": null
          },
          "name": "stdout",
          "output_type": "stream",
          "text": [
            "loss 0.1521 - iou 0.6836 - val_loss 0.3547 - val_iou 0.0980\n",
            "Epoch [75/500]\n"
          ]
        },
        {
          "metadata": {
            "tags": null
          },
          "name": "stderr",
          "output_type": "stream",
          "text": [
            "100%|██████████| 48/48 [01:19<00:00,  1.65s/it, loss=0.149, iou=0.682]\n",
            "100%|██████████| 6/6 [00:04<00:00,  1.33it/s, loss=0.526, iou=0.198]\n",
            "  0%|          | 0/48 [00:00<?, ?it/s]"
          ]
        },
        {
          "metadata": {
            "tags": null
          },
          "name": "stdout",
          "output_type": "stream",
          "text": [
            "loss 0.1494 - iou 0.6824 - val_loss 0.5258 - val_iou 0.1978\n",
            "Epoch [76/500]\n"
          ]
        },
        {
          "metadata": {
            "tags": null
          },
          "name": "stderr",
          "output_type": "stream",
          "text": [
            "100%|██████████| 48/48 [01:19<00:00,  1.65s/it, loss=0.149, iou=0.684]\n",
            "100%|██████████| 6/6 [00:04<00:00,  1.37it/s, loss=0.341, iou=0.000289]\n",
            "  0%|          | 0/48 [00:00<?, ?it/s]"
          ]
        },
        {
          "metadata": {
            "tags": null
          },
          "name": "stdout",
          "output_type": "stream",
          "text": [
            "loss 0.1494 - iou 0.6835 - val_loss 0.3405 - val_iou 0.0003\n",
            "Epoch [77/500]\n"
          ]
        },
        {
          "metadata": {
            "tags": null
          },
          "name": "stderr",
          "output_type": "stream",
          "text": [
            "100%|██████████| 48/48 [01:18<00:00,  1.64s/it, loss=0.148, iou=0.692]\n",
            "100%|██████████| 6/6 [00:04<00:00,  1.38it/s, loss=0.246, iou=0.407]\n",
            "  0%|          | 0/48 [00:00<?, ?it/s]"
          ]
        },
        {
          "metadata": {
            "tags": null
          },
          "name": "stdout",
          "output_type": "stream",
          "text": [
            "loss 0.1483 - iou 0.6925 - val_loss 0.2464 - val_iou 0.4070\n",
            "Epoch [78/500]\n"
          ]
        },
        {
          "metadata": {
            "tags": null
          },
          "name": "stderr",
          "output_type": "stream",
          "text": [
            "100%|██████████| 48/48 [01:19<00:00,  1.66s/it, loss=0.147, iou=0.702]\n",
            "100%|██████████| 6/6 [00:04<00:00,  1.40it/s, loss=0.188, iou=0.48]\n",
            "  0%|          | 0/48 [00:00<?, ?it/s]"
          ]
        },
        {
          "metadata": {
            "tags": null
          },
          "name": "stdout",
          "output_type": "stream",
          "text": [
            "loss 0.1470 - iou 0.7017 - val_loss 0.1877 - val_iou 0.4800\n",
            "Epoch [79/500]\n"
          ]
        },
        {
          "metadata": {
            "tags": null
          },
          "name": "stderr",
          "output_type": "stream",
          "text": [
            "100%|██████████| 48/48 [01:19<00:00,  1.66s/it, loss=0.148, iou=0.702]\n",
            "100%|██████████| 6/6 [00:04<00:00,  1.39it/s, loss=0.222, iou=0.455]\n",
            "  0%|          | 0/48 [00:00<?, ?it/s]"
          ]
        },
        {
          "metadata": {
            "tags": null
          },
          "name": "stdout",
          "output_type": "stream",
          "text": [
            "loss 0.1476 - iou 0.7025 - val_loss 0.2218 - val_iou 0.4555\n",
            "Epoch [80/500]\n"
          ]
        },
        {
          "metadata": {
            "tags": null
          },
          "name": "stderr",
          "output_type": "stream",
          "text": [
            "100%|██████████| 48/48 [01:19<00:00,  1.66s/it, loss=0.149, iou=0.704]\n",
            "100%|██████████| 6/6 [00:04<00:00,  1.41it/s, loss=0.395, iou=1.3e-10]\n",
            "  0%|          | 0/48 [00:00<?, ?it/s]"
          ]
        },
        {
          "metadata": {
            "tags": null
          },
          "name": "stdout",
          "output_type": "stream",
          "text": [
            "loss 0.1486 - iou 0.7037 - val_loss 0.3953 - val_iou 0.0000\n",
            "Epoch [81/500]\n"
          ]
        },
        {
          "metadata": {
            "tags": null
          },
          "name": "stderr",
          "output_type": "stream",
          "text": [
            "100%|██████████| 48/48 [01:19<00:00,  1.67s/it, loss=0.146, iou=0.708]\n",
            "100%|██████████| 6/6 [00:04<00:00,  1.40it/s, loss=0.286, iou=0.122]\n",
            "  0%|          | 0/48 [00:00<?, ?it/s]"
          ]
        },
        {
          "metadata": {
            "tags": null
          },
          "name": "stdout",
          "output_type": "stream",
          "text": [
            "loss 0.1458 - iou 0.7081 - val_loss 0.2862 - val_iou 0.1222\n",
            "Epoch [82/500]\n"
          ]
        },
        {
          "metadata": {
            "tags": null
          },
          "name": "stderr",
          "output_type": "stream",
          "text": [
            "100%|██████████| 48/48 [01:19<00:00,  1.66s/it, loss=0.146, iou=0.705]\n",
            "100%|██████████| 6/6 [00:04<00:00,  1.41it/s, loss=0.187, iou=0.504]\n",
            "  0%|          | 0/48 [00:00<?, ?it/s]"
          ]
        },
        {
          "metadata": {
            "tags": null
          },
          "name": "stdout",
          "output_type": "stream",
          "text": [
            "loss 0.1458 - iou 0.7054 - val_loss 0.1869 - val_iou 0.5037\n",
            "Epoch [83/500]\n"
          ]
        },
        {
          "metadata": {
            "tags": null
          },
          "name": "stderr",
          "output_type": "stream",
          "text": [
            "100%|██████████| 48/48 [01:19<00:00,  1.66s/it, loss=0.143, iou=0.72]\n",
            "100%|██████████| 6/6 [00:04<00:00,  1.38it/s, loss=0.373, iou=1.3e-10]\n",
            "  0%|          | 0/48 [00:00<?, ?it/s]"
          ]
        },
        {
          "metadata": {
            "tags": null
          },
          "name": "stdout",
          "output_type": "stream",
          "text": [
            "loss 0.1433 - iou 0.7205 - val_loss 0.3726 - val_iou 0.0000\n",
            "Epoch [84/500]\n"
          ]
        },
        {
          "metadata": {
            "tags": null
          },
          "name": "stderr",
          "output_type": "stream",
          "text": [
            "100%|██████████| 48/48 [01:19<00:00,  1.66s/it, loss=0.147, iou=0.698]\n",
            "100%|██████████| 6/6 [00:04<00:00,  1.36it/s, loss=0.352, iou=0.142]\n",
            "  0%|          | 0/48 [00:00<?, ?it/s]"
          ]
        },
        {
          "metadata": {
            "tags": null
          },
          "name": "stdout",
          "output_type": "stream",
          "text": [
            "loss 0.1468 - iou 0.6984 - val_loss 0.3524 - val_iou 0.1420\n",
            "Epoch [85/500]\n"
          ]
        },
        {
          "metadata": {
            "tags": null
          },
          "name": "stderr",
          "output_type": "stream",
          "text": [
            "100%|██████████| 48/48 [01:19<00:00,  1.66s/it, loss=0.148, iou=0.704]\n",
            "100%|██████████| 6/6 [00:04<00:00,  1.31it/s, loss=0.259, iou=0.304]\n",
            "  0%|          | 0/48 [00:00<?, ?it/s]"
          ]
        },
        {
          "metadata": {
            "tags": null
          },
          "name": "stdout",
          "output_type": "stream",
          "text": [
            "loss 0.1478 - iou 0.7042 - val_loss 0.2588 - val_iou 0.3044\n",
            "Epoch [86/500]\n"
          ]
        },
        {
          "metadata": {
            "tags": null
          },
          "name": "stderr",
          "output_type": "stream",
          "text": [
            "100%|██████████| 48/48 [01:19<00:00,  1.65s/it, loss=0.145, iou=0.706]\n",
            "100%|██████████| 6/6 [00:04<00:00,  1.20it/s, loss=0.267, iou=0.199]\n",
            "  0%|          | 0/48 [00:00<?, ?it/s]"
          ]
        },
        {
          "metadata": {
            "tags": null
          },
          "name": "stdout",
          "output_type": "stream",
          "text": [
            "loss 0.1447 - iou 0.7065 - val_loss 0.2673 - val_iou 0.1985\n",
            "Epoch [87/500]\n"
          ]
        },
        {
          "metadata": {
            "tags": null
          },
          "name": "stderr",
          "output_type": "stream",
          "text": [
            "100%|██████████| 48/48 [01:19<00:00,  1.66s/it, loss=0.143, iou=0.707]\n",
            "100%|██████████| 6/6 [00:04<00:00,  1.24it/s, loss=0.407, iou=1.3e-10]\n",
            "  0%|          | 0/48 [00:00<?, ?it/s]"
          ]
        },
        {
          "metadata": {
            "tags": null
          },
          "name": "stdout",
          "output_type": "stream",
          "text": [
            "loss 0.1428 - iou 0.7073 - val_loss 0.4075 - val_iou 0.0000\n",
            "Epoch [88/500]\n"
          ]
        },
        {
          "metadata": {
            "tags": null
          },
          "name": "stderr",
          "output_type": "stream",
          "text": [
            "100%|██████████| 48/48 [01:19<00:00,  1.65s/it, loss=0.143, iou=0.707]\n",
            "100%|██████████| 6/6 [00:04<00:00,  1.31it/s, loss=0.21, iou=0.456]\n",
            "  0%|          | 0/48 [00:00<?, ?it/s]"
          ]
        },
        {
          "metadata": {
            "tags": null
          },
          "name": "stdout",
          "output_type": "stream",
          "text": [
            "loss 0.1434 - iou 0.7071 - val_loss 0.2099 - val_iou 0.4564\n",
            "Epoch [89/500]\n"
          ]
        },
        {
          "metadata": {
            "tags": null
          },
          "name": "stderr",
          "output_type": "stream",
          "text": [
            "100%|██████████| 48/48 [01:19<00:00,  1.65s/it, loss=0.143, iou=0.714]\n",
            "100%|██████████| 6/6 [00:04<00:00,  1.36it/s, loss=0.581, iou=0.107]\n",
            "  0%|          | 0/48 [00:00<?, ?it/s]"
          ]
        },
        {
          "metadata": {
            "tags": null
          },
          "name": "stdout",
          "output_type": "stream",
          "text": [
            "loss 0.1434 - iou 0.7136 - val_loss 0.5811 - val_iou 0.1071\n",
            "Epoch [90/500]\n"
          ]
        },
        {
          "metadata": {
            "tags": null
          },
          "name": "stderr",
          "output_type": "stream",
          "text": [
            "100%|██████████| 48/48 [01:19<00:00,  1.66s/it, loss=0.138, iou=0.749]\n",
            "100%|██████████| 6/6 [00:04<00:00,  1.39it/s, loss=0.288, iou=0.28]\n",
            "  0%|          | 0/48 [00:00<?, ?it/s]"
          ]
        },
        {
          "metadata": {
            "tags": null
          },
          "name": "stdout",
          "output_type": "stream",
          "text": [
            "loss 0.1382 - iou 0.7490 - val_loss 0.2884 - val_iou 0.2799\n",
            "Epoch [91/500]\n"
          ]
        },
        {
          "metadata": {
            "tags": null
          },
          "name": "stderr",
          "output_type": "stream",
          "text": [
            "100%|██████████| 48/48 [01:19<00:00,  1.66s/it, loss=0.142, iou=0.728]\n",
            "100%|██████████| 6/6 [00:04<00:00,  1.41it/s, loss=0.3, iou=0.343]\n",
            "  0%|          | 0/48 [00:00<?, ?it/s]"
          ]
        },
        {
          "metadata": {
            "tags": null
          },
          "name": "stdout",
          "output_type": "stream",
          "text": [
            "loss 0.1424 - iou 0.7285 - val_loss 0.2998 - val_iou 0.3426\n",
            "Epoch [92/500]\n"
          ]
        },
        {
          "metadata": {
            "tags": null
          },
          "name": "stderr",
          "output_type": "stream",
          "text": [
            "100%|██████████| 48/48 [01:19<00:00,  1.66s/it, loss=0.145, iou=0.709]\n",
            "100%|██████████| 6/6 [00:04<00:00,  1.41it/s, loss=0.343, iou=1.3e-10]\n",
            "  0%|          | 0/48 [00:00<?, ?it/s]"
          ]
        },
        {
          "metadata": {
            "tags": null
          },
          "name": "stdout",
          "output_type": "stream",
          "text": [
            "loss 0.1452 - iou 0.7090 - val_loss 0.3433 - val_iou 0.0000\n",
            "Epoch [93/500]\n"
          ]
        },
        {
          "metadata": {
            "tags": null
          },
          "name": "stderr",
          "output_type": "stream",
          "text": [
            "100%|██████████| 48/48 [01:19<00:00,  1.66s/it, loss=0.145, iou=0.722]\n",
            "100%|██████████| 6/6 [00:04<00:00,  1.40it/s, loss=0.217, iou=0.385]\n",
            "  0%|          | 0/48 [00:00<?, ?it/s]"
          ]
        },
        {
          "metadata": {
            "tags": null
          },
          "name": "stdout",
          "output_type": "stream",
          "text": [
            "loss 0.1447 - iou 0.7222 - val_loss 0.2167 - val_iou 0.3855\n",
            "Epoch [94/500]\n"
          ]
        },
        {
          "metadata": {
            "tags": null
          },
          "name": "stderr",
          "output_type": "stream",
          "text": [
            "100%|██████████| 48/48 [01:19<00:00,  1.66s/it, loss=0.142, iou=0.718]\n",
            "100%|██████████| 6/6 [00:04<00:00,  1.36it/s, loss=0.308, iou=0.00936]\n",
            "  0%|          | 0/48 [00:00<?, ?it/s]"
          ]
        },
        {
          "metadata": {
            "tags": null
          },
          "name": "stdout",
          "output_type": "stream",
          "text": [
            "loss 0.1425 - iou 0.7185 - val_loss 0.3082 - val_iou 0.0094\n",
            "Epoch [95/500]\n"
          ]
        },
        {
          "metadata": {
            "tags": null
          },
          "name": "stderr",
          "output_type": "stream",
          "text": [
            "100%|██████████| 48/48 [01:20<00:00,  1.68s/it, loss=0.142, iou=0.733]\n",
            "100%|██████████| 6/6 [00:04<00:00,  1.32it/s, loss=0.23, iou=0.278]\n",
            "  0%|          | 0/48 [00:00<?, ?it/s]"
          ]
        },
        {
          "metadata": {
            "tags": null
          },
          "name": "stdout",
          "output_type": "stream",
          "text": [
            "loss 0.1417 - iou 0.7327 - val_loss 0.2295 - val_iou 0.2778\n",
            "Epoch [96/500]\n"
          ]
        },
        {
          "metadata": {
            "tags": null
          },
          "name": "stderr",
          "output_type": "stream",
          "text": [
            "100%|██████████| 48/48 [01:19<00:00,  1.66s/it, loss=0.145, iou=0.708]\n",
            "100%|██████████| 6/6 [00:04<00:00,  1.26it/s, loss=0.23, iou=0.398]\n",
            "  0%|          | 0/48 [00:00<?, ?it/s]"
          ]
        },
        {
          "metadata": {
            "tags": null
          },
          "name": "stdout",
          "output_type": "stream",
          "text": [
            "loss 0.1455 - iou 0.7082 - val_loss 0.2295 - val_iou 0.3980\n",
            "Epoch [97/500]\n"
          ]
        },
        {
          "metadata": {
            "tags": null
          },
          "name": "stderr",
          "output_type": "stream",
          "text": [
            "100%|██████████| 48/48 [01:19<00:00,  1.65s/it, loss=0.142, iou=0.712]\n",
            "100%|██████████| 6/6 [00:04<00:00,  1.25it/s, loss=0.251, iou=0.377]\n",
            "  0%|          | 0/48 [00:00<?, ?it/s]"
          ]
        },
        {
          "metadata": {
            "tags": null
          },
          "name": "stdout",
          "output_type": "stream",
          "text": [
            "loss 0.1420 - iou 0.7120 - val_loss 0.2511 - val_iou 0.3765\n",
            "Epoch [98/500]\n"
          ]
        },
        {
          "metadata": {
            "tags": null
          },
          "name": "stderr",
          "output_type": "stream",
          "text": [
            "100%|██████████| 48/48 [01:19<00:00,  1.67s/it, loss=0.141, iou=0.721]\n",
            "100%|██████████| 6/6 [00:04<00:00,  1.23it/s, loss=0.303, iou=0.529]\n",
            "  0%|          | 0/48 [00:00<?, ?it/s]"
          ]
        },
        {
          "metadata": {
            "tags": null
          },
          "name": "stdout",
          "output_type": "stream",
          "text": [
            "loss 0.1410 - iou 0.7205 - val_loss 0.3031 - val_iou 0.5293\n",
            "=> saved best model\n",
            "Epoch [99/500]\n"
          ]
        },
        {
          "metadata": {
            "tags": null
          },
          "name": "stderr",
          "output_type": "stream",
          "text": [
            "100%|██████████| 48/48 [01:18<00:00,  1.64s/it, loss=0.139, iou=0.728]\n",
            "100%|██████████| 6/6 [00:04<00:00,  1.26it/s, loss=0.258, iou=0.292]\n",
            "  0%|          | 0/48 [00:00<?, ?it/s]"
          ]
        },
        {
          "metadata": {
            "tags": null
          },
          "name": "stdout",
          "output_type": "stream",
          "text": [
            "loss 0.1388 - iou 0.7284 - val_loss 0.2579 - val_iou 0.2924\n",
            "Epoch [100/500]\n"
          ]
        },
        {
          "metadata": {
            "tags": null
          },
          "name": "stderr",
          "output_type": "stream",
          "text": [
            "100%|██████████| 48/48 [01:18<00:00,  1.65s/it, loss=0.146, iou=0.704]\n",
            "100%|██████████| 6/6 [00:04<00:00,  1.31it/s, loss=0.289, iou=0.192]\n",
            "  0%|          | 0/48 [00:00<?, ?it/s]"
          ]
        },
        {
          "metadata": {
            "tags": null
          },
          "name": "stdout",
          "output_type": "stream",
          "text": [
            "loss 0.1459 - iou 0.7043 - val_loss 0.2894 - val_iou 0.1920\n",
            "Epoch [101/500]\n"
          ]
        },
        {
          "metadata": {
            "tags": null
          },
          "name": "stderr",
          "output_type": "stream",
          "text": [
            "100%|██████████| 48/48 [01:19<00:00,  1.65s/it, loss=0.14, iou=0.714]\n",
            "100%|██████████| 6/6 [00:04<00:00,  1.37it/s, loss=0.236, iou=0.265]\n",
            "  0%|          | 0/48 [00:00<?, ?it/s]"
          ]
        },
        {
          "metadata": {
            "tags": null
          },
          "name": "stdout",
          "output_type": "stream",
          "text": [
            "loss 0.1401 - iou 0.7135 - val_loss 0.2363 - val_iou 0.2649\n",
            "Epoch [102/500]\n"
          ]
        },
        {
          "metadata": {
            "tags": null
          },
          "name": "stderr",
          "output_type": "stream",
          "text": [
            "100%|██████████| 48/48 [01:19<00:00,  1.66s/it, loss=0.14, iou=0.737]\n",
            "100%|██████████| 6/6 [00:04<00:00,  1.41it/s, loss=0.25, iou=0.219]\n",
            "  0%|          | 0/48 [00:00<?, ?it/s]"
          ]
        },
        {
          "metadata": {
            "tags": null
          },
          "name": "stdout",
          "output_type": "stream",
          "text": [
            "loss 0.1395 - iou 0.7367 - val_loss 0.2501 - val_iou 0.2187\n",
            "Epoch [103/500]\n"
          ]
        },
        {
          "metadata": {
            "tags": null
          },
          "name": "stderr",
          "output_type": "stream",
          "text": [
            "100%|██████████| 48/48 [01:19<00:00,  1.66s/it, loss=0.137, iou=0.744]\n",
            "100%|██████████| 6/6 [00:04<00:00,  1.40it/s, loss=0.276, iou=0.247]\n",
            "  0%|          | 0/48 [00:00<?, ?it/s]"
          ]
        },
        {
          "metadata": {
            "tags": null
          },
          "name": "stdout",
          "output_type": "stream",
          "text": [
            "loss 0.1367 - iou 0.7437 - val_loss 0.2764 - val_iou 0.2471\n",
            "Epoch [104/500]\n"
          ]
        },
        {
          "metadata": {
            "tags": null
          },
          "name": "stderr",
          "output_type": "stream",
          "text": [
            "100%|██████████| 48/48 [01:19<00:00,  1.65s/it, loss=0.139, iou=0.737]\n",
            "100%|██████████| 6/6 [00:04<00:00,  1.40it/s, loss=0.501, iou=0.211]\n",
            "  0%|          | 0/48 [00:00<?, ?it/s]"
          ]
        },
        {
          "metadata": {
            "tags": null
          },
          "name": "stdout",
          "output_type": "stream",
          "text": [
            "loss 0.1386 - iou 0.7371 - val_loss 0.5012 - val_iou 0.2109\n",
            "Epoch [105/500]\n"
          ]
        },
        {
          "metadata": {
            "tags": null
          },
          "name": "stderr",
          "output_type": "stream",
          "text": [
            "100%|██████████| 48/48 [01:19<00:00,  1.66s/it, loss=0.141, iou=0.731]\n",
            "100%|██████████| 6/6 [00:04<00:00,  1.40it/s, loss=0.277, iou=0.141]\n",
            "  0%|          | 0/48 [00:00<?, ?it/s]"
          ]
        },
        {
          "metadata": {
            "tags": null
          },
          "name": "stdout",
          "output_type": "stream",
          "text": [
            "loss 0.1415 - iou 0.7309 - val_loss 0.2772 - val_iou 0.1412\n",
            "Epoch [106/500]\n"
          ]
        },
        {
          "metadata": {
            "tags": null
          },
          "name": "stderr",
          "output_type": "stream",
          "text": [
            "100%|██████████| 48/48 [01:19<00:00,  1.66s/it, loss=0.136, iou=0.738]\n",
            "100%|██████████| 6/6 [00:04<00:00,  1.39it/s, loss=0.346, iou=1.3e-10]\n",
            "  0%|          | 0/48 [00:00<?, ?it/s]"
          ]
        },
        {
          "metadata": {
            "tags": null
          },
          "name": "stdout",
          "output_type": "stream",
          "text": [
            "loss 0.1362 - iou 0.7383 - val_loss 0.3462 - val_iou 0.0000\n",
            "Epoch [107/500]\n"
          ]
        },
        {
          "metadata": {
            "tags": null
          },
          "name": "stderr",
          "output_type": "stream",
          "text": [
            "100%|██████████| 48/48 [01:19<00:00,  1.66s/it, loss=0.137, iou=0.735]\n",
            "100%|██████████| 6/6 [00:04<00:00,  1.35it/s, loss=0.254, iou=0.392]\n",
            "  0%|          | 0/48 [00:00<?, ?it/s]"
          ]
        },
        {
          "metadata": {
            "tags": null
          },
          "name": "stdout",
          "output_type": "stream",
          "text": [
            "loss 0.1368 - iou 0.7351 - val_loss 0.2538 - val_iou 0.3920\n",
            "Epoch [108/500]\n"
          ]
        },
        {
          "metadata": {
            "tags": null
          },
          "name": "stderr",
          "output_type": "stream",
          "text": [
            "100%|██████████| 48/48 [01:19<00:00,  1.65s/it, loss=0.134, iou=0.753]\n",
            "100%|██████████| 6/6 [00:04<00:00,  1.31it/s, loss=0.311, iou=0.000153]\n",
            "  0%|          | 0/48 [00:00<?, ?it/s]"
          ]
        },
        {
          "metadata": {
            "tags": null
          },
          "name": "stdout",
          "output_type": "stream",
          "text": [
            "loss 0.1338 - iou 0.7526 - val_loss 0.3113 - val_iou 0.0002\n",
            "Epoch [109/500]\n"
          ]
        },
        {
          "metadata": {
            "tags": null
          },
          "name": "stderr",
          "output_type": "stream",
          "text": [
            "100%|██████████| 48/48 [01:19<00:00,  1.66s/it, loss=0.137, iou=0.75]\n",
            "100%|██████████| 6/6 [00:04<00:00,  1.26it/s, loss=0.318, iou=0.00957]\n",
            "  0%|          | 0/48 [00:00<?, ?it/s]"
          ]
        },
        {
          "metadata": {
            "tags": null
          },
          "name": "stdout",
          "output_type": "stream",
          "text": [
            "loss 0.1370 - iou 0.7505 - val_loss 0.3181 - val_iou 0.0096\n",
            "Epoch [110/500]\n"
          ]
        },
        {
          "metadata": {
            "tags": null
          },
          "name": "stderr",
          "output_type": "stream",
          "text": [
            "100%|██████████| 48/48 [01:18<00:00,  1.64s/it, loss=0.136, iou=0.75]\n",
            "100%|██████████| 6/6 [00:04<00:00,  1.22it/s, loss=0.266, iou=0.131]\n",
            "  0%|          | 0/48 [00:00<?, ?it/s]"
          ]
        },
        {
          "metadata": {
            "tags": null
          },
          "name": "stdout",
          "output_type": "stream",
          "text": [
            "loss 0.1356 - iou 0.7500 - val_loss 0.2661 - val_iou 0.1313\n",
            "Epoch [111/500]\n"
          ]
        },
        {
          "metadata": {
            "tags": null
          },
          "name": "stderr",
          "output_type": "stream",
          "text": [
            "100%|██████████| 48/48 [01:18<00:00,  1.64s/it, loss=0.132, iou=0.767]\n",
            "100%|██████████| 6/6 [00:04<00:00,  1.22it/s, loss=0.343, iou=0.187]\n",
            "  0%|          | 0/48 [00:00<?, ?it/s]"
          ]
        },
        {
          "metadata": {
            "tags": null
          },
          "name": "stdout",
          "output_type": "stream",
          "text": [
            "loss 0.1323 - iou 0.7669 - val_loss 0.3429 - val_iou 0.1865\n",
            "Epoch [112/500]\n"
          ]
        },
        {
          "metadata": {
            "tags": null
          },
          "name": "stderr",
          "output_type": "stream",
          "text": [
            "100%|██████████| 48/48 [01:19<00:00,  1.65s/it, loss=0.134, iou=0.756]\n",
            "100%|██████████| 6/6 [00:04<00:00,  1.26it/s, loss=0.223, iou=0.372]\n",
            "  0%|          | 0/48 [00:00<?, ?it/s]"
          ]
        },
        {
          "metadata": {
            "tags": null
          },
          "name": "stdout",
          "output_type": "stream",
          "text": [
            "loss 0.1339 - iou 0.7557 - val_loss 0.2226 - val_iou 0.3717\n",
            "Epoch [113/500]\n"
          ]
        },
        {
          "metadata": {
            "tags": null
          },
          "name": "stderr",
          "output_type": "stream",
          "text": [
            "100%|██████████| 48/48 [01:19<00:00,  1.65s/it, loss=0.133, iou=0.755]\n",
            "100%|██████████| 6/6 [00:04<00:00,  1.29it/s, loss=0.313, iou=0.12]\n",
            "  0%|          | 0/48 [00:00<?, ?it/s]"
          ]
        },
        {
          "metadata": {
            "tags": null
          },
          "name": "stdout",
          "output_type": "stream",
          "text": [
            "loss 0.1334 - iou 0.7554 - val_loss 0.3126 - val_iou 0.1196\n",
            "Epoch [114/500]\n"
          ]
        },
        {
          "metadata": {
            "tags": null
          },
          "name": "stderr",
          "output_type": "stream",
          "text": [
            "100%|██████████| 48/48 [01:18<00:00,  1.64s/it, loss=0.134, iou=0.749]\n",
            "100%|██████████| 6/6 [00:04<00:00,  1.33it/s, loss=0.251, iou=0.276]\n",
            "  0%|          | 0/48 [00:00<?, ?it/s]"
          ]
        },
        {
          "metadata": {
            "tags": null
          },
          "name": "stdout",
          "output_type": "stream",
          "text": [
            "loss 0.1342 - iou 0.7488 - val_loss 0.2507 - val_iou 0.2764\n",
            "Epoch [115/500]\n"
          ]
        },
        {
          "metadata": {
            "tags": null
          },
          "name": "stderr",
          "output_type": "stream",
          "text": [
            "100%|██████████| 48/48 [01:19<00:00,  1.65s/it, loss=0.136, iou=0.752]\n",
            "100%|██████████| 6/6 [00:04<00:00,  1.38it/s, loss=0.389, iou=0.324]\n",
            "  0%|          | 0/48 [00:00<?, ?it/s]"
          ]
        },
        {
          "metadata": {
            "tags": null
          },
          "name": "stdout",
          "output_type": "stream",
          "text": [
            "loss 0.1358 - iou 0.7521 - val_loss 0.3887 - val_iou 0.3243\n",
            "Epoch [116/500]\n"
          ]
        },
        {
          "metadata": {
            "tags": null
          },
          "name": "stderr",
          "output_type": "stream",
          "text": [
            "100%|██████████| 48/48 [01:19<00:00,  1.65s/it, loss=0.133, iou=0.749]\n",
            "100%|██████████| 6/6 [00:04<00:00,  1.40it/s, loss=0.326, iou=0.00188]\n",
            "  0%|          | 0/48 [00:00<?, ?it/s]"
          ]
        },
        {
          "metadata": {
            "tags": null
          },
          "name": "stdout",
          "output_type": "stream",
          "text": [
            "loss 0.1332 - iou 0.7486 - val_loss 0.3257 - val_iou 0.0019\n",
            "Epoch [117/500]\n"
          ]
        },
        {
          "metadata": {
            "tags": null
          },
          "name": "stderr",
          "output_type": "stream",
          "text": [
            "100%|██████████| 48/48 [01:19<00:00,  1.66s/it, loss=0.134, iou=0.743]\n",
            "100%|██████████| 6/6 [00:04<00:00,  1.39it/s, loss=0.287, iou=0.0824]\n",
            "  0%|          | 0/48 [00:00<?, ?it/s]"
          ]
        },
        {
          "metadata": {
            "tags": null
          },
          "name": "stdout",
          "output_type": "stream",
          "text": [
            "loss 0.1337 - iou 0.7434 - val_loss 0.2871 - val_iou 0.0824\n",
            "Epoch [118/500]\n"
          ]
        },
        {
          "metadata": {
            "tags": null
          },
          "name": "stderr",
          "output_type": "stream",
          "text": [
            "100%|██████████| 48/48 [01:19<00:00,  1.66s/it, loss=0.134, iou=0.749]\n",
            "100%|██████████| 6/6 [00:04<00:00,  1.41it/s, loss=0.327, iou=0.135]\n",
            "  0%|          | 0/48 [00:00<?, ?it/s]"
          ]
        },
        {
          "metadata": {
            "tags": null
          },
          "name": "stdout",
          "output_type": "stream",
          "text": [
            "loss 0.1343 - iou 0.7485 - val_loss 0.3267 - val_iou 0.1347\n",
            "Epoch [119/500]\n"
          ]
        },
        {
          "metadata": {
            "tags": null
          },
          "name": "stderr",
          "output_type": "stream",
          "text": [
            "100%|██████████| 48/48 [01:18<00:00,  1.64s/it, loss=0.131, iou=0.761]\n",
            "100%|██████████| 6/6 [00:04<00:00,  1.41it/s, loss=0.235, iou=0.343]\n",
            "  0%|          | 0/48 [00:00<?, ?it/s]"
          ]
        },
        {
          "metadata": {
            "tags": null
          },
          "name": "stdout",
          "output_type": "stream",
          "text": [
            "loss 0.1313 - iou 0.7615 - val_loss 0.2348 - val_iou 0.3433\n",
            "Epoch [120/500]\n"
          ]
        },
        {
          "metadata": {
            "tags": null
          },
          "name": "stderr",
          "output_type": "stream",
          "text": [
            "100%|██████████| 48/48 [01:19<00:00,  1.66s/it, loss=0.133, iou=0.757]\n",
            "100%|██████████| 6/6 [00:04<00:00,  1.40it/s, loss=0.236, iou=0.296]\n",
            "  0%|          | 0/48 [00:00<?, ?it/s]"
          ]
        },
        {
          "metadata": {
            "tags": null
          },
          "name": "stdout",
          "output_type": "stream",
          "text": [
            "loss 0.1326 - iou 0.7575 - val_loss 0.2362 - val_iou 0.2960\n",
            "Epoch [121/500]\n"
          ]
        },
        {
          "metadata": {
            "tags": null
          },
          "name": "stderr",
          "output_type": "stream",
          "text": [
            "100%|██████████| 48/48 [01:19<00:00,  1.66s/it, loss=0.133, iou=0.75]\n",
            "100%|██████████| 6/6 [00:04<00:00,  1.40it/s, loss=0.29, iou=0.0851]\n",
            "  0%|          | 0/48 [00:00<?, ?it/s]"
          ]
        },
        {
          "metadata": {
            "tags": null
          },
          "name": "stdout",
          "output_type": "stream",
          "text": [
            "loss 0.1330 - iou 0.7496 - val_loss 0.2901 - val_iou 0.0851\n",
            "Epoch [122/500]\n"
          ]
        },
        {
          "metadata": {
            "tags": null
          },
          "name": "stderr",
          "output_type": "stream",
          "text": [
            "100%|██████████| 48/48 [01:19<00:00,  1.65s/it, loss=0.132, iou=0.76]\n",
            "100%|██████████| 6/6 [00:04<00:00,  1.39it/s, loss=0.295, iou=0.0233]\n",
            "  0%|          | 0/48 [00:00<?, ?it/s]"
          ]
        },
        {
          "metadata": {
            "tags": null
          },
          "name": "stdout",
          "output_type": "stream",
          "text": [
            "loss 0.1324 - iou 0.7605 - val_loss 0.2950 - val_iou 0.0233\n",
            "Epoch [123/500]\n"
          ]
        },
        {
          "metadata": {
            "tags": null
          },
          "name": "stderr",
          "output_type": "stream",
          "text": [
            "100%|██████████| 48/48 [01:19<00:00,  1.66s/it, loss=0.132, iou=0.759]\n",
            "100%|██████████| 6/6 [00:04<00:00,  1.40it/s, loss=0.343, iou=0.00348]\n",
            "  0%|          | 0/48 [00:00<?, ?it/s]"
          ]
        },
        {
          "metadata": {
            "tags": null
          },
          "name": "stdout",
          "output_type": "stream",
          "text": [
            "loss 0.1320 - iou 0.7590 - val_loss 0.3429 - val_iou 0.0035\n",
            "Epoch [124/500]\n"
          ]
        },
        {
          "metadata": {
            "tags": null
          },
          "name": "stderr",
          "output_type": "stream",
          "text": [
            "100%|██████████| 48/48 [01:20<00:00,  1.67s/it, loss=0.131, iou=0.763]\n",
            "100%|██████████| 6/6 [00:04<00:00,  1.39it/s, loss=0.371, iou=0.0183]\n",
            "  0%|          | 0/48 [00:00<?, ?it/s]"
          ]
        },
        {
          "metadata": {
            "tags": null
          },
          "name": "stdout",
          "output_type": "stream",
          "text": [
            "loss 0.1312 - iou 0.7628 - val_loss 0.3708 - val_iou 0.0183\n",
            "Epoch [125/500]\n"
          ]
        },
        {
          "metadata": {
            "tags": null
          },
          "name": "stderr",
          "output_type": "stream",
          "text": [
            "100%|██████████| 48/48 [01:20<00:00,  1.67s/it, loss=0.133, iou=0.76]\n",
            "100%|██████████| 6/6 [00:04<00:00,  1.31it/s, loss=0.219, iou=0.408]\n",
            "  0%|          | 0/48 [00:00<?, ?it/s]"
          ]
        },
        {
          "metadata": {
            "tags": null
          },
          "name": "stdout",
          "output_type": "stream",
          "text": [
            "loss 0.1333 - iou 0.7604 - val_loss 0.2188 - val_iou 0.4077\n",
            "Epoch [126/500]\n"
          ]
        },
        {
          "metadata": {
            "tags": null
          },
          "name": "stderr",
          "output_type": "stream",
          "text": [
            "100%|██████████| 48/48 [01:19<00:00,  1.65s/it, loss=0.131, iou=0.753]\n",
            "100%|██████████| 6/6 [00:04<00:00,  1.23it/s, loss=0.253, iou=0.157]\n",
            "  0%|          | 0/48 [00:00<?, ?it/s]"
          ]
        },
        {
          "metadata": {
            "tags": null
          },
          "name": "stdout",
          "output_type": "stream",
          "text": [
            "loss 0.1315 - iou 0.7526 - val_loss 0.2528 - val_iou 0.1566\n",
            "Epoch [127/500]\n"
          ]
        },
        {
          "metadata": {
            "tags": null
          },
          "name": "stderr",
          "output_type": "stream",
          "text": [
            "100%|██████████| 48/48 [01:19<00:00,  1.66s/it, loss=0.131, iou=0.759]\n",
            "100%|██████████| 6/6 [00:04<00:00,  1.21it/s, loss=0.242, iou=0.232]\n",
            "  0%|          | 0/48 [00:00<?, ?it/s]"
          ]
        },
        {
          "metadata": {
            "tags": null
          },
          "name": "stdout",
          "output_type": "stream",
          "text": [
            "loss 0.1310 - iou 0.7592 - val_loss 0.2424 - val_iou 0.2324\n",
            "Epoch [128/500]\n"
          ]
        },
        {
          "metadata": {
            "tags": null
          },
          "name": "stderr",
          "output_type": "stream",
          "text": [
            "100%|██████████| 48/48 [01:18<00:00,  1.63s/it, loss=0.131, iou=0.767]\n",
            "100%|██████████| 6/6 [00:04<00:00,  1.23it/s, loss=0.225, iou=0.385]\n",
            "  0%|          | 0/48 [00:00<?, ?it/s]"
          ]
        },
        {
          "metadata": {
            "tags": null
          },
          "name": "stdout",
          "output_type": "stream",
          "text": [
            "loss 0.1314 - iou 0.7673 - val_loss 0.2252 - val_iou 0.3846\n",
            "Epoch [129/500]\n"
          ]
        },
        {
          "metadata": {
            "tags": null
          },
          "name": "stderr",
          "output_type": "stream",
          "text": [
            "100%|██████████| 48/48 [01:19<00:00,  1.65s/it, loss=0.133, iou=0.754]\n",
            "100%|██████████| 6/6 [00:04<00:00,  1.27it/s, loss=0.391, iou=2.89e-5]\n",
            "  0%|          | 0/48 [00:00<?, ?it/s]"
          ]
        },
        {
          "metadata": {
            "tags": null
          },
          "name": "stdout",
          "output_type": "stream",
          "text": [
            "loss 0.1330 - iou 0.7539 - val_loss 0.3908 - val_iou 0.0000\n",
            "Epoch [130/500]\n"
          ]
        },
        {
          "metadata": {
            "tags": null
          },
          "name": "stderr",
          "output_type": "stream",
          "text": [
            "100%|██████████| 48/48 [01:19<00:00,  1.66s/it, loss=0.129, iou=0.769]\n",
            "100%|██████████| 6/6 [00:04<00:00,  1.31it/s, loss=0.239, iou=0.291]\n",
            "  0%|          | 0/48 [00:00<?, ?it/s]"
          ]
        },
        {
          "metadata": {
            "tags": null
          },
          "name": "stdout",
          "output_type": "stream",
          "text": [
            "loss 0.1286 - iou 0.7690 - val_loss 0.2394 - val_iou 0.2908\n",
            "Epoch [131/500]\n"
          ]
        },
        {
          "metadata": {
            "tags": null
          },
          "name": "stderr",
          "output_type": "stream",
          "text": [
            "100%|██████████| 48/48 [01:19<00:00,  1.65s/it, loss=0.129, iou=0.773]\n",
            "100%|██████████| 6/6 [00:04<00:00,  1.37it/s, loss=0.227, iou=0.355]\n",
            "  0%|          | 0/48 [00:00<?, ?it/s]"
          ]
        },
        {
          "metadata": {
            "tags": null
          },
          "name": "stdout",
          "output_type": "stream",
          "text": [
            "loss 0.1290 - iou 0.7732 - val_loss 0.2275 - val_iou 0.3549\n",
            "Epoch [132/500]\n"
          ]
        },
        {
          "metadata": {
            "tags": null
          },
          "name": "stderr",
          "output_type": "stream",
          "text": [
            "100%|██████████| 48/48 [01:19<00:00,  1.66s/it, loss=0.135, iou=0.746]\n",
            "100%|██████████| 6/6 [00:04<00:00,  1.39it/s, loss=0.211, iou=0.346]\n",
            "  0%|          | 0/48 [00:00<?, ?it/s]"
          ]
        },
        {
          "metadata": {
            "tags": null
          },
          "name": "stdout",
          "output_type": "stream",
          "text": [
            "loss 0.1346 - iou 0.7465 - val_loss 0.2108 - val_iou 0.3463\n",
            "Epoch [133/500]\n"
          ]
        },
        {
          "metadata": {
            "tags": null
          },
          "name": "stderr",
          "output_type": "stream",
          "text": [
            "100%|██████████| 48/48 [01:19<00:00,  1.65s/it, loss=0.129, iou=0.775]\n",
            "100%|██████████| 6/6 [00:04<00:00,  1.41it/s, loss=0.372, iou=0.0177]\n",
            "  0%|          | 0/48 [00:00<?, ?it/s]"
          ]
        },
        {
          "metadata": {
            "tags": null
          },
          "name": "stdout",
          "output_type": "stream",
          "text": [
            "loss 0.1292 - iou 0.7754 - val_loss 0.3723 - val_iou 0.0177\n",
            "Epoch [134/500]\n"
          ]
        },
        {
          "metadata": {
            "tags": null
          },
          "name": "stderr",
          "output_type": "stream",
          "text": [
            "100%|██████████| 48/48 [01:19<00:00,  1.66s/it, loss=0.131, iou=0.764]\n",
            "100%|██████████| 6/6 [00:04<00:00,  1.39it/s, loss=0.254, iou=0.306]\n",
            "  0%|          | 0/48 [00:00<?, ?it/s]"
          ]
        },
        {
          "metadata": {
            "tags": null
          },
          "name": "stdout",
          "output_type": "stream",
          "text": [
            "loss 0.1307 - iou 0.7636 - val_loss 0.2539 - val_iou 0.3058\n",
            "Epoch [135/500]\n"
          ]
        },
        {
          "metadata": {
            "tags": null
          },
          "name": "stderr",
          "output_type": "stream",
          "text": [
            "100%|██████████| 48/48 [01:19<00:00,  1.65s/it, loss=0.132, iou=0.76]\n",
            "100%|██████████| 6/6 [00:04<00:00,  1.39it/s, loss=0.245, iou=0.254]\n",
            "  0%|          | 0/48 [00:00<?, ?it/s]"
          ]
        },
        {
          "metadata": {
            "tags": null
          },
          "name": "stdout",
          "output_type": "stream",
          "text": [
            "loss 0.1321 - iou 0.7603 - val_loss 0.2453 - val_iou 0.2535\n",
            "Epoch [136/500]\n"
          ]
        },
        {
          "metadata": {
            "tags": null
          },
          "name": "stderr",
          "output_type": "stream",
          "text": [
            "100%|██████████| 48/48 [01:19<00:00,  1.65s/it, loss=0.13, iou=0.76]\n",
            "100%|██████████| 6/6 [00:04<00:00,  1.41it/s, loss=0.238, iou=0.25]\n",
            "  0%|          | 0/48 [00:00<?, ?it/s]"
          ]
        },
        {
          "metadata": {
            "tags": null
          },
          "name": "stdout",
          "output_type": "stream",
          "text": [
            "loss 0.1301 - iou 0.7605 - val_loss 0.2379 - val_iou 0.2503\n",
            "Epoch [137/500]\n"
          ]
        },
        {
          "metadata": {
            "tags": null
          },
          "name": "stderr",
          "output_type": "stream",
          "text": [
            "100%|██████████| 48/48 [01:19<00:00,  1.65s/it, loss=0.128, iou=0.775]\n",
            "100%|██████████| 6/6 [00:04<00:00,  1.40it/s, loss=0.269, iou=0.141]\n",
            "  0%|          | 0/48 [00:00<?, ?it/s]"
          ]
        },
        {
          "metadata": {
            "tags": null
          },
          "name": "stdout",
          "output_type": "stream",
          "text": [
            "loss 0.1284 - iou 0.7752 - val_loss 0.2688 - val_iou 0.1412\n",
            "Epoch [138/500]\n"
          ]
        },
        {
          "metadata": {
            "tags": null
          },
          "name": "stderr",
          "output_type": "stream",
          "text": [
            "100%|██████████| 48/48 [01:19<00:00,  1.66s/it, loss=0.129, iou=0.769]\n",
            "100%|██████████| 6/6 [00:04<00:00,  1.41it/s, loss=0.257, iou=0.276]\n",
            "  0%|          | 0/48 [00:00<?, ?it/s]"
          ]
        },
        {
          "metadata": {
            "tags": null
          },
          "name": "stdout",
          "output_type": "stream",
          "text": [
            "loss 0.1293 - iou 0.7688 - val_loss 0.2572 - val_iou 0.2755\n",
            "Epoch [139/500]\n"
          ]
        },
        {
          "metadata": {
            "tags": null
          },
          "name": "stderr",
          "output_type": "stream",
          "text": [
            "100%|██████████| 48/48 [01:19<00:00,  1.65s/it, loss=0.129, iou=0.766]\n",
            "100%|██████████| 6/6 [00:04<00:00,  1.41it/s, loss=0.188, iou=0.555]\n",
            "  0%|          | 0/48 [00:00<?, ?it/s]"
          ]
        },
        {
          "metadata": {
            "tags": null
          },
          "name": "stdout",
          "output_type": "stream",
          "text": [
            "loss 0.1293 - iou 0.7657 - val_loss 0.1881 - val_iou 0.5551\n",
            "=> saved best model\n",
            "Epoch [140/500]\n"
          ]
        },
        {
          "metadata": {
            "tags": null
          },
          "name": "stderr",
          "output_type": "stream",
          "text": [
            "100%|██████████| 48/48 [01:19<00:00,  1.66s/it, loss=0.129, iou=0.782]\n",
            "100%|██████████| 6/6 [00:04<00:00,  1.37it/s, loss=0.186, iou=0.549]\n",
            "  0%|          | 0/48 [00:00<?, ?it/s]"
          ]
        },
        {
          "metadata": {
            "tags": null
          },
          "name": "stdout",
          "output_type": "stream",
          "text": [
            "loss 0.1288 - iou 0.7820 - val_loss 0.1859 - val_iou 0.5492\n",
            "Epoch [141/500]\n"
          ]
        },
        {
          "metadata": {
            "tags": null
          },
          "name": "stderr",
          "output_type": "stream",
          "text": [
            "100%|██████████| 48/48 [01:19<00:00,  1.66s/it, loss=0.125, iou=0.788]\n",
            "100%|██████████| 6/6 [00:04<00:00,  1.25it/s, loss=0.191, iou=0.497]\n",
            "  0%|          | 0/48 [00:00<?, ?it/s]"
          ]
        },
        {
          "metadata": {
            "tags": null
          },
          "name": "stdout",
          "output_type": "stream",
          "text": [
            "loss 0.1249 - iou 0.7881 - val_loss 0.1907 - val_iou 0.4970\n",
            "Epoch [142/500]\n"
          ]
        },
        {
          "metadata": {
            "tags": null
          },
          "name": "stderr",
          "output_type": "stream",
          "text": [
            "100%|██████████| 48/48 [01:18<00:00,  1.63s/it, loss=0.127, iou=0.782]\n",
            "100%|██████████| 6/6 [00:04<00:00,  1.23it/s, loss=0.326, iou=0.434]\n",
            "  0%|          | 0/48 [00:00<?, ?it/s]"
          ]
        },
        {
          "metadata": {
            "tags": null
          },
          "name": "stdout",
          "output_type": "stream",
          "text": [
            "loss 0.1266 - iou 0.7821 - val_loss 0.3259 - val_iou 0.4343\n",
            "Epoch [143/500]\n"
          ]
        },
        {
          "metadata": {
            "tags": null
          },
          "name": "stderr",
          "output_type": "stream",
          "text": [
            "100%|██████████| 48/48 [01:19<00:00,  1.66s/it, loss=0.127, iou=0.773]\n",
            "100%|██████████| 6/6 [00:04<00:00,  1.22it/s, loss=0.166, iou=0.632]\n",
            "  0%|          | 0/48 [00:00<?, ?it/s]"
          ]
        },
        {
          "metadata": {
            "tags": null
          },
          "name": "stdout",
          "output_type": "stream",
          "text": [
            "loss 0.1274 - iou 0.7730 - val_loss 0.1663 - val_iou 0.6316\n",
            "=> saved best model\n",
            "Epoch [144/500]\n"
          ]
        },
        {
          "metadata": {
            "tags": null
          },
          "name": "stderr",
          "output_type": "stream",
          "text": [
            "100%|██████████| 48/48 [01:18<00:00,  1.64s/it, loss=0.126, iou=0.774]\n",
            "100%|██████████| 6/6 [00:04<00:00,  1.27it/s, loss=0.292, iou=0.379]\n",
            "  0%|          | 0/48 [00:00<?, ?it/s]"
          ]
        },
        {
          "metadata": {
            "tags": null
          },
          "name": "stdout",
          "output_type": "stream",
          "text": [
            "loss 0.1261 - iou 0.7743 - val_loss 0.2915 - val_iou 0.3786\n",
            "Epoch [145/500]\n"
          ]
        },
        {
          "metadata": {
            "tags": null
          },
          "name": "stderr",
          "output_type": "stream",
          "text": [
            "100%|██████████| 48/48 [01:18<00:00,  1.64s/it, loss=0.124, iou=0.781]\n",
            "100%|██████████| 6/6 [00:04<00:00,  1.29it/s, loss=0.289, iou=0.146]\n",
            "  0%|          | 0/48 [00:00<?, ?it/s]"
          ]
        },
        {
          "metadata": {
            "tags": null
          },
          "name": "stdout",
          "output_type": "stream",
          "text": [
            "loss 0.1241 - iou 0.7810 - val_loss 0.2886 - val_iou 0.1459\n",
            "Epoch [146/500]\n"
          ]
        },
        {
          "metadata": {
            "tags": null
          },
          "name": "stderr",
          "output_type": "stream",
          "text": [
            "100%|██████████| 48/48 [01:19<00:00,  1.65s/it, loss=0.125, iou=0.78]\n",
            "100%|██████████| 6/6 [00:04<00:00,  1.31it/s, loss=0.295, iou=0.0682]\n",
            "  0%|          | 0/48 [00:00<?, ?it/s]"
          ]
        },
        {
          "metadata": {
            "tags": null
          },
          "name": "stdout",
          "output_type": "stream",
          "text": [
            "loss 0.1247 - iou 0.7802 - val_loss 0.2946 - val_iou 0.0682\n",
            "Epoch [147/500]\n"
          ]
        },
        {
          "metadata": {
            "tags": null
          },
          "name": "stderr",
          "output_type": "stream",
          "text": [
            "100%|██████████| 48/48 [01:20<00:00,  1.67s/it, loss=0.127, iou=0.78]\n",
            "100%|██████████| 6/6 [00:04<00:00,  1.35it/s, loss=0.291, iou=0.156]\n",
            "  0%|          | 0/48 [00:00<?, ?it/s]"
          ]
        },
        {
          "metadata": {
            "tags": null
          },
          "name": "stdout",
          "output_type": "stream",
          "text": [
            "loss 0.1270 - iou 0.7804 - val_loss 0.2906 - val_iou 0.1557\n",
            "Epoch [148/500]\n"
          ]
        },
        {
          "metadata": {
            "tags": null
          },
          "name": "stderr",
          "output_type": "stream",
          "text": [
            "100%|██████████| 48/48 [01:19<00:00,  1.66s/it, loss=0.127, iou=0.777]\n",
            "100%|██████████| 6/6 [00:04<00:00,  1.40it/s, loss=0.271, iou=0.278]\n",
            "  0%|          | 0/48 [00:00<?, ?it/s]"
          ]
        },
        {
          "metadata": {
            "tags": null
          },
          "name": "stdout",
          "output_type": "stream",
          "text": [
            "loss 0.1269 - iou 0.7768 - val_loss 0.2708 - val_iou 0.2783\n",
            "Epoch [149/500]\n"
          ]
        },
        {
          "metadata": {
            "tags": null
          },
          "name": "stderr",
          "output_type": "stream",
          "text": [
            "100%|██████████| 48/48 [01:19<00:00,  1.66s/it, loss=0.128, iou=0.774]\n",
            "100%|██████████| 6/6 [00:04<00:00,  1.40it/s, loss=0.234, iou=0.35]\n",
            "  0%|          | 0/48 [00:00<?, ?it/s]"
          ]
        },
        {
          "metadata": {
            "tags": null
          },
          "name": "stdout",
          "output_type": "stream",
          "text": [
            "loss 0.1275 - iou 0.7738 - val_loss 0.2344 - val_iou 0.3505\n",
            "Epoch [150/500]\n"
          ]
        },
        {
          "metadata": {
            "tags": null
          },
          "name": "stderr",
          "output_type": "stream",
          "text": [
            "100%|██████████| 48/48 [01:19<00:00,  1.66s/it, loss=0.127, iou=0.779]\n",
            "100%|██████████| 6/6 [00:04<00:00,  1.41it/s, loss=0.319, iou=0.123]\n",
            "  0%|          | 0/48 [00:00<?, ?it/s]"
          ]
        },
        {
          "metadata": {
            "tags": null
          },
          "name": "stdout",
          "output_type": "stream",
          "text": [
            "loss 0.1275 - iou 0.7794 - val_loss 0.3191 - val_iou 0.1233\n",
            "Epoch [151/500]\n"
          ]
        },
        {
          "metadata": {
            "tags": null
          },
          "name": "stderr",
          "output_type": "stream",
          "text": [
            "100%|██████████| 48/48 [01:19<00:00,  1.65s/it, loss=0.128, iou=0.776]\n",
            "100%|██████████| 6/6 [00:04<00:00,  1.41it/s, loss=0.33, iou=0.0383]\n",
            "  0%|          | 0/48 [00:00<?, ?it/s]"
          ]
        },
        {
          "metadata": {
            "tags": null
          },
          "name": "stdout",
          "output_type": "stream",
          "text": [
            "loss 0.1276 - iou 0.7757 - val_loss 0.3297 - val_iou 0.0383\n",
            "Epoch [152/500]\n"
          ]
        },
        {
          "metadata": {
            "tags": null
          },
          "name": "stderr",
          "output_type": "stream",
          "text": [
            "100%|██████████| 48/48 [01:19<00:00,  1.65s/it, loss=0.124, iou=0.783]\n",
            "100%|██████████| 6/6 [00:04<00:00,  1.39it/s, loss=0.259, iou=0.411]\n",
            "  0%|          | 0/48 [00:00<?, ?it/s]"
          ]
        },
        {
          "metadata": {
            "tags": null
          },
          "name": "stdout",
          "output_type": "stream",
          "text": [
            "loss 0.1241 - iou 0.7829 - val_loss 0.2586 - val_iou 0.4111\n",
            "Epoch [153/500]\n"
          ]
        },
        {
          "metadata": {
            "tags": null
          },
          "name": "stderr",
          "output_type": "stream",
          "text": [
            "100%|██████████| 48/48 [01:18<00:00,  1.65s/it, loss=0.128, iou=0.773]\n",
            "100%|██████████| 6/6 [00:04<00:00,  1.39it/s, loss=0.35, iou=0.182]\n",
            "  0%|          | 0/48 [00:00<?, ?it/s]"
          ]
        },
        {
          "metadata": {
            "tags": null
          },
          "name": "stdout",
          "output_type": "stream",
          "text": [
            "loss 0.1280 - iou 0.7731 - val_loss 0.3505 - val_iou 0.1825\n",
            "Epoch [154/500]\n"
          ]
        },
        {
          "metadata": {
            "tags": null
          },
          "name": "stderr",
          "output_type": "stream",
          "text": [
            "100%|██████████| 48/48 [01:20<00:00,  1.67s/it, loss=0.129, iou=0.769]\n",
            "100%|██████████| 6/6 [00:04<00:00,  1.38it/s, loss=0.233, iou=0.404]\n",
            "  0%|          | 0/48 [00:00<?, ?it/s]"
          ]
        },
        {
          "metadata": {
            "tags": null
          },
          "name": "stdout",
          "output_type": "stream",
          "text": [
            "loss 0.1288 - iou 0.7693 - val_loss 0.2326 - val_iou 0.4038\n",
            "Epoch [155/500]\n"
          ]
        },
        {
          "metadata": {
            "tags": null
          },
          "name": "stderr",
          "output_type": "stream",
          "text": [
            "100%|██████████| 48/48 [01:19<00:00,  1.65s/it, loss=0.123, iou=0.789]\n",
            "100%|██████████| 6/6 [00:04<00:00,  1.37it/s, loss=0.225, iou=0.345]\n",
            "  0%|          | 0/48 [00:00<?, ?it/s]"
          ]
        },
        {
          "metadata": {
            "tags": null
          },
          "name": "stdout",
          "output_type": "stream",
          "text": [
            "loss 0.1227 - iou 0.7889 - val_loss 0.2254 - val_iou 0.3451\n",
            "Epoch [156/500]\n"
          ]
        },
        {
          "metadata": {
            "tags": null
          },
          "name": "stderr",
          "output_type": "stream",
          "text": [
            "100%|██████████| 48/48 [01:19<00:00,  1.66s/it, loss=0.125, iou=0.787]\n",
            "100%|██████████| 6/6 [00:04<00:00,  1.34it/s, loss=0.264, iou=0.254]\n",
            "  0%|          | 0/48 [00:00<?, ?it/s]"
          ]
        },
        {
          "metadata": {
            "tags": null
          },
          "name": "stdout",
          "output_type": "stream",
          "text": [
            "loss 0.1249 - iou 0.7865 - val_loss 0.2638 - val_iou 0.2544\n",
            "Epoch [157/500]\n"
          ]
        },
        {
          "metadata": {
            "tags": null
          },
          "name": "stderr",
          "output_type": "stream",
          "text": [
            "100%|██████████| 48/48 [01:20<00:00,  1.67s/it, loss=0.126, iou=0.781]\n",
            "100%|██████████| 6/6 [00:04<00:00,  1.27it/s, loss=0.367, iou=0.000823]\n",
            "  0%|          | 0/48 [00:00<?, ?it/s]"
          ]
        },
        {
          "metadata": {
            "tags": null
          },
          "name": "stdout",
          "output_type": "stream",
          "text": [
            "loss 0.1265 - iou 0.7813 - val_loss 0.3669 - val_iou 0.0008\n",
            "Epoch [158/500]\n"
          ]
        },
        {
          "metadata": {
            "tags": null
          },
          "name": "stderr",
          "output_type": "stream",
          "text": [
            "100%|██████████| 48/48 [01:18<00:00,  1.64s/it, loss=0.123, iou=0.802]\n",
            "100%|██████████| 6/6 [00:04<00:00,  1.24it/s, loss=0.35, iou=0.312]\n",
            "  0%|          | 0/48 [00:00<?, ?it/s]"
          ]
        },
        {
          "metadata": {
            "tags": null
          },
          "name": "stdout",
          "output_type": "stream",
          "text": [
            "loss 0.1233 - iou 0.8018 - val_loss 0.3497 - val_iou 0.3116\n",
            "Epoch [159/500]\n"
          ]
        },
        {
          "metadata": {
            "tags": null
          },
          "name": "stderr",
          "output_type": "stream",
          "text": [
            "100%|██████████| 48/48 [01:19<00:00,  1.65s/it, loss=0.124, iou=0.798]\n",
            "100%|██████████| 6/6 [00:04<00:00,  1.22it/s, loss=0.287, iou=0.195]\n",
            "  0%|          | 0/48 [00:00<?, ?it/s]"
          ]
        },
        {
          "metadata": {
            "tags": null
          },
          "name": "stdout",
          "output_type": "stream",
          "text": [
            "loss 0.1237 - iou 0.7981 - val_loss 0.2867 - val_iou 0.1955\n",
            "Epoch [160/500]\n"
          ]
        },
        {
          "metadata": {
            "tags": null
          },
          "name": "stderr",
          "output_type": "stream",
          "text": [
            "100%|██████████| 48/48 [01:19<00:00,  1.65s/it, loss=0.127, iou=0.782]\n",
            "100%|██████████| 6/6 [00:04<00:00,  1.24it/s, loss=0.19, iou=0.495]\n",
            "  0%|          | 0/48 [00:00<?, ?it/s]"
          ]
        },
        {
          "metadata": {
            "tags": null
          },
          "name": "stdout",
          "output_type": "stream",
          "text": [
            "loss 0.1275 - iou 0.7817 - val_loss 0.1904 - val_iou 0.4954\n",
            "Epoch [161/500]\n"
          ]
        },
        {
          "metadata": {
            "tags": null
          },
          "name": "stderr",
          "output_type": "stream",
          "text": [
            "100%|██████████| 48/48 [01:18<00:00,  1.64s/it, loss=0.126, iou=0.782]\n",
            "100%|██████████| 6/6 [00:04<00:00,  1.27it/s, loss=0.31, iou=0.238]\n",
            "  0%|          | 0/48 [00:00<?, ?it/s]"
          ]
        },
        {
          "metadata": {
            "tags": null
          },
          "name": "stdout",
          "output_type": "stream",
          "text": [
            "loss 0.1256 - iou 0.7824 - val_loss 0.3102 - val_iou 0.2382\n",
            "Epoch [162/500]\n"
          ]
        },
        {
          "metadata": {
            "tags": null
          },
          "name": "stderr",
          "output_type": "stream",
          "text": [
            "100%|██████████| 48/48 [01:18<00:00,  1.64s/it, loss=0.126, iou=0.781]\n",
            "100%|██████████| 6/6 [00:04<00:00,  1.23it/s, loss=0.248, iou=0.486]\n",
            "  0%|          | 0/48 [00:00<?, ?it/s]"
          ]
        },
        {
          "metadata": {
            "tags": null
          },
          "name": "stdout",
          "output_type": "stream",
          "text": [
            "loss 0.1256 - iou 0.7813 - val_loss 0.2480 - val_iou 0.4859\n",
            "Epoch [163/500]\n"
          ]
        },
        {
          "metadata": {
            "tags": null
          },
          "name": "stderr",
          "output_type": "stream",
          "text": [
            "100%|██████████| 48/48 [01:18<00:00,  1.64s/it, loss=0.122, iou=0.809]\n",
            "100%|██████████| 6/6 [00:04<00:00,  1.34it/s, loss=0.289, iou=0.399]\n",
            "  0%|          | 0/48 [00:00<?, ?it/s]"
          ]
        },
        {
          "metadata": {
            "tags": null
          },
          "name": "stdout",
          "output_type": "stream",
          "text": [
            "loss 0.1220 - iou 0.8088 - val_loss 0.2889 - val_iou 0.3985\n",
            "Epoch [164/500]\n"
          ]
        },
        {
          "metadata": {
            "tags": null
          },
          "name": "stderr",
          "output_type": "stream",
          "text": [
            "100%|██████████| 48/48 [01:18<00:00,  1.64s/it, loss=0.123, iou=0.797]\n",
            "100%|██████████| 6/6 [00:04<00:00,  1.33it/s, loss=0.247, iou=0.217]\n",
            "  0%|          | 0/48 [00:00<?, ?it/s]"
          ]
        },
        {
          "metadata": {
            "tags": null
          },
          "name": "stdout",
          "output_type": "stream",
          "text": [
            "loss 0.1225 - iou 0.7974 - val_loss 0.2470 - val_iou 0.2173\n",
            "Epoch [165/500]\n"
          ]
        },
        {
          "metadata": {
            "tags": null
          },
          "name": "stderr",
          "output_type": "stream",
          "text": [
            "100%|██████████| 48/48 [01:19<00:00,  1.65s/it, loss=0.131, iou=0.768]\n",
            "100%|██████████| 6/6 [00:04<00:00,  1.36it/s, loss=0.195, iou=0.641]\n",
            "  0%|          | 0/48 [00:00<?, ?it/s]"
          ]
        },
        {
          "metadata": {
            "tags": null
          },
          "name": "stdout",
          "output_type": "stream",
          "text": [
            "loss 0.1313 - iou 0.7680 - val_loss 0.1954 - val_iou 0.6405\n",
            "=> saved best model\n",
            "Epoch [166/500]\n"
          ]
        },
        {
          "metadata": {
            "tags": null
          },
          "name": "stderr",
          "output_type": "stream",
          "text": [
            "100%|██████████| 48/48 [01:19<00:00,  1.65s/it, loss=0.122, iou=0.8]\n",
            "100%|██████████| 6/6 [00:04<00:00,  1.41it/s, loss=0.354, iou=0.113]\n",
            "  0%|          | 0/48 [00:00<?, ?it/s]"
          ]
        },
        {
          "metadata": {
            "tags": null
          },
          "name": "stdout",
          "output_type": "stream",
          "text": [
            "loss 0.1222 - iou 0.7996 - val_loss 0.3537 - val_iou 0.1131\n",
            "Epoch [167/500]\n"
          ]
        },
        {
          "metadata": {
            "tags": null
          },
          "name": "stderr",
          "output_type": "stream",
          "text": [
            "100%|██████████| 48/48 [01:18<00:00,  1.64s/it, loss=0.12, iou=0.799]\n",
            "100%|██████████| 6/6 [00:04<00:00,  1.41it/s, loss=0.363, iou=0.0351]\n",
            "  0%|          | 0/48 [00:00<?, ?it/s]"
          ]
        },
        {
          "metadata": {
            "tags": null
          },
          "name": "stdout",
          "output_type": "stream",
          "text": [
            "loss 0.1195 - iou 0.7990 - val_loss 0.3634 - val_iou 0.0351\n",
            "Epoch [168/500]\n"
          ]
        },
        {
          "metadata": {
            "tags": null
          },
          "name": "stderr",
          "output_type": "stream",
          "text": [
            "100%|██████████| 48/48 [01:19<00:00,  1.65s/it, loss=0.123, iou=0.795]\n",
            "100%|██████████| 6/6 [00:04<00:00,  1.39it/s, loss=0.287, iou=0.434]\n",
            "  0%|          | 0/48 [00:00<?, ?it/s]"
          ]
        },
        {
          "metadata": {
            "tags": null
          },
          "name": "stdout",
          "output_type": "stream",
          "text": [
            "loss 0.1231 - iou 0.7952 - val_loss 0.2868 - val_iou 0.4345\n",
            "Epoch [169/500]\n"
          ]
        },
        {
          "metadata": {
            "tags": null
          },
          "name": "stderr",
          "output_type": "stream",
          "text": [
            "100%|██████████| 48/48 [01:19<00:00,  1.66s/it, loss=0.125, iou=0.782]\n",
            "100%|██████████| 6/6 [00:04<00:00,  1.40it/s, loss=0.229, iou=0.352]\n",
            "  0%|          | 0/48 [00:00<?, ?it/s]"
          ]
        },
        {
          "metadata": {
            "tags": null
          },
          "name": "stdout",
          "output_type": "stream",
          "text": [
            "loss 0.1253 - iou 0.7816 - val_loss 0.2288 - val_iou 0.3525\n",
            "Epoch [170/500]\n"
          ]
        },
        {
          "metadata": {
            "tags": null
          },
          "name": "stderr",
          "output_type": "stream",
          "text": [
            "100%|██████████| 48/48 [01:18<00:00,  1.64s/it, loss=0.126, iou=0.781]\n",
            "100%|██████████| 6/6 [00:04<00:00,  1.39it/s, loss=0.301, iou=0.0121]\n",
            "  0%|          | 0/48 [00:00<?, ?it/s]"
          ]
        },
        {
          "metadata": {
            "tags": null
          },
          "name": "stdout",
          "output_type": "stream",
          "text": [
            "loss 0.1262 - iou 0.7811 - val_loss 0.3009 - val_iou 0.0121\n",
            "Epoch [171/500]\n"
          ]
        },
        {
          "metadata": {
            "tags": null
          },
          "name": "stderr",
          "output_type": "stream",
          "text": [
            "100%|██████████| 48/48 [01:19<00:00,  1.65s/it, loss=0.125, iou=0.795]\n",
            "100%|██████████| 6/6 [00:04<00:00,  1.40it/s, loss=0.417, iou=0.0157]\n",
            "  0%|          | 0/48 [00:00<?, ?it/s]"
          ]
        },
        {
          "metadata": {
            "tags": null
          },
          "name": "stdout",
          "output_type": "stream",
          "text": [
            "loss 0.1246 - iou 0.7951 - val_loss 0.4169 - val_iou 0.0157\n",
            "Epoch [172/500]\n"
          ]
        },
        {
          "metadata": {
            "tags": null
          },
          "name": "stderr",
          "output_type": "stream",
          "text": [
            "100%|██████████| 48/48 [01:19<00:00,  1.65s/it, loss=0.122, iou=0.793]\n",
            "100%|██████████| 6/6 [00:04<00:00,  1.41it/s, loss=0.323, iou=0.187]\n",
            "  0%|          | 0/48 [00:00<?, ?it/s]"
          ]
        },
        {
          "metadata": {
            "tags": null
          },
          "name": "stdout",
          "output_type": "stream",
          "text": [
            "loss 0.1221 - iou 0.7933 - val_loss 0.3232 - val_iou 0.1868\n",
            "Epoch [173/500]\n"
          ]
        },
        {
          "metadata": {
            "tags": null
          },
          "name": "stderr",
          "output_type": "stream",
          "text": [
            "100%|██████████| 48/48 [01:18<00:00,  1.64s/it, loss=0.123, iou=0.79]\n",
            "100%|██████████| 6/6 [00:04<00:00,  1.39it/s, loss=0.291, iou=0.303]\n",
            "  0%|          | 0/48 [00:00<?, ?it/s]"
          ]
        },
        {
          "metadata": {
            "tags": null
          },
          "name": "stdout",
          "output_type": "stream",
          "text": [
            "loss 0.1231 - iou 0.7903 - val_loss 0.2912 - val_iou 0.3030\n",
            "Epoch [174/500]\n"
          ]
        },
        {
          "metadata": {
            "tags": null
          },
          "name": "stderr",
          "output_type": "stream",
          "text": [
            "100%|██████████| 48/48 [01:19<00:00,  1.65s/it, loss=0.123, iou=0.791]\n",
            "100%|██████████| 6/6 [00:04<00:00,  1.40it/s, loss=0.42, iou=0.222]\n",
            "  0%|          | 0/48 [00:00<?, ?it/s]"
          ]
        },
        {
          "metadata": {
            "tags": null
          },
          "name": "stdout",
          "output_type": "stream",
          "text": [
            "loss 0.1231 - iou 0.7912 - val_loss 0.4204 - val_iou 0.2220\n",
            "Epoch [175/500]\n"
          ]
        },
        {
          "metadata": {
            "tags": null
          },
          "name": "stderr",
          "output_type": "stream",
          "text": [
            "100%|██████████| 48/48 [01:18<00:00,  1.64s/it, loss=0.121, iou=0.792]\n",
            "100%|██████████| 6/6 [00:04<00:00,  1.40it/s, loss=0.206, iou=0.433]\n",
            "  0%|          | 0/48 [00:00<?, ?it/s]"
          ]
        },
        {
          "metadata": {
            "tags": null
          },
          "name": "stdout",
          "output_type": "stream",
          "text": [
            "loss 0.1209 - iou 0.7922 - val_loss 0.2063 - val_iou 0.4330\n",
            "Epoch [176/500]\n"
          ]
        },
        {
          "metadata": {
            "tags": null
          },
          "name": "stderr",
          "output_type": "stream",
          "text": [
            "100%|██████████| 48/48 [01:19<00:00,  1.65s/it, loss=0.118, iou=0.808]\n",
            "100%|██████████| 6/6 [00:04<00:00,  1.41it/s, loss=0.331, iou=0.0873]\n",
            "  0%|          | 0/48 [00:00<?, ?it/s]"
          ]
        },
        {
          "metadata": {
            "tags": null
          },
          "name": "stdout",
          "output_type": "stream",
          "text": [
            "loss 0.1185 - iou 0.8076 - val_loss 0.3312 - val_iou 0.0873\n",
            "Epoch [177/500]\n"
          ]
        },
        {
          "metadata": {
            "tags": null
          },
          "name": "stderr",
          "output_type": "stream",
          "text": [
            "100%|██████████| 48/48 [01:19<00:00,  1.65s/it, loss=0.123, iou=0.788]\n",
            "100%|██████████| 6/6 [00:04<00:00,  1.40it/s, loss=0.272, iou=0.201]\n",
            "  0%|          | 0/48 [00:00<?, ?it/s]"
          ]
        },
        {
          "metadata": {
            "tags": null
          },
          "name": "stdout",
          "output_type": "stream",
          "text": [
            "loss 0.1231 - iou 0.7877 - val_loss 0.2717 - val_iou 0.2013\n",
            "Epoch [178/500]\n"
          ]
        },
        {
          "metadata": {
            "tags": null
          },
          "name": "stderr",
          "output_type": "stream",
          "text": [
            "100%|██████████| 48/48 [01:19<00:00,  1.67s/it, loss=0.124, iou=0.794]\n",
            "100%|██████████| 6/6 [00:04<00:00,  1.40it/s, loss=0.313, iou=0.095]\n",
            "  0%|          | 0/48 [00:00<?, ?it/s]"
          ]
        },
        {
          "metadata": {
            "tags": null
          },
          "name": "stdout",
          "output_type": "stream",
          "text": [
            "loss 0.1240 - iou 0.7938 - val_loss 0.3134 - val_iou 0.0950\n",
            "Epoch [179/500]\n"
          ]
        },
        {
          "metadata": {
            "tags": null
          },
          "name": "stderr",
          "output_type": "stream",
          "text": [
            "100%|██████████| 48/48 [01:19<00:00,  1.65s/it, loss=0.121, iou=0.799]\n",
            "100%|██████████| 6/6 [00:04<00:00,  1.37it/s, loss=0.242, iou=0.423]\n",
            "  0%|          | 0/48 [00:00<?, ?it/s]"
          ]
        },
        {
          "metadata": {
            "tags": null
          },
          "name": "stdout",
          "output_type": "stream",
          "text": [
            "loss 0.1209 - iou 0.7987 - val_loss 0.2425 - val_iou 0.4232\n",
            "Epoch [180/500]\n"
          ]
        },
        {
          "metadata": {
            "tags": null
          },
          "name": "stderr",
          "output_type": "stream",
          "text": [
            "100%|██████████| 48/48 [01:18<00:00,  1.64s/it, loss=0.124, iou=0.794]\n",
            "100%|██████████| 6/6 [00:04<00:00,  1.40it/s, loss=0.31, iou=0.0782]\n",
            "  0%|          | 0/48 [00:00<?, ?it/s]"
          ]
        },
        {
          "metadata": {
            "tags": null
          },
          "name": "stdout",
          "output_type": "stream",
          "text": [
            "loss 0.1237 - iou 0.7939 - val_loss 0.3096 - val_iou 0.0782\n",
            "Epoch [181/500]\n"
          ]
        },
        {
          "metadata": {
            "tags": null
          },
          "name": "stderr",
          "output_type": "stream",
          "text": [
            "100%|██████████| 48/48 [01:19<00:00,  1.65s/it, loss=0.125, iou=0.78]\n",
            "100%|██████████| 6/6 [00:04<00:00,  1.41it/s, loss=0.615, iou=0.142]\n",
            "  0%|          | 0/48 [00:00<?, ?it/s]"
          ]
        },
        {
          "metadata": {
            "tags": null
          },
          "name": "stdout",
          "output_type": "stream",
          "text": [
            "loss 0.1253 - iou 0.7800 - val_loss 0.6150 - val_iou 0.1417\n",
            "Epoch [182/500]\n"
          ]
        },
        {
          "metadata": {
            "tags": null
          },
          "name": "stderr",
          "output_type": "stream",
          "text": [
            "100%|██████████| 48/48 [01:19<00:00,  1.65s/it, loss=0.12, iou=0.804]\n",
            "100%|██████████| 6/6 [00:04<00:00,  1.36it/s, loss=0.321, iou=0.066]\n",
            "  0%|          | 0/48 [00:00<?, ?it/s]"
          ]
        },
        {
          "metadata": {
            "tags": null
          },
          "name": "stdout",
          "output_type": "stream",
          "text": [
            "loss 0.1204 - iou 0.8039 - val_loss 0.3212 - val_iou 0.0660\n",
            "Epoch [183/500]\n"
          ]
        },
        {
          "metadata": {
            "tags": null
          },
          "name": "stderr",
          "output_type": "stream",
          "text": [
            "100%|██████████| 48/48 [01:19<00:00,  1.65s/it, loss=0.117, iou=0.807]\n",
            "100%|██████████| 6/6 [00:04<00:00,  1.32it/s, loss=0.308, iou=0.0988]\n",
            "  0%|          | 0/48 [00:00<?, ?it/s]"
          ]
        },
        {
          "metadata": {
            "tags": null
          },
          "name": "stdout",
          "output_type": "stream",
          "text": [
            "loss 0.1172 - iou 0.8072 - val_loss 0.3078 - val_iou 0.0988\n",
            "Epoch [184/500]\n"
          ]
        },
        {
          "metadata": {
            "tags": null
          },
          "name": "stderr",
          "output_type": "stream",
          "text": [
            "100%|██████████| 48/48 [01:19<00:00,  1.65s/it, loss=0.118, iou=0.817]\n",
            "100%|██████████| 6/6 [00:04<00:00,  1.30it/s, loss=0.234, iou=0.341]\n",
            "  0%|          | 0/48 [00:00<?, ?it/s]"
          ]
        },
        {
          "metadata": {
            "tags": null
          },
          "name": "stdout",
          "output_type": "stream",
          "text": [
            "loss 0.1177 - iou 0.8175 - val_loss 0.2344 - val_iou 0.3408\n",
            "Epoch [185/500]\n"
          ]
        },
        {
          "metadata": {
            "tags": null
          },
          "name": "stderr",
          "output_type": "stream",
          "text": [
            "100%|██████████| 48/48 [01:18<00:00,  1.63s/it, loss=0.12, iou=0.801]\n",
            "100%|██████████| 6/6 [00:04<00:00,  1.30it/s, loss=0.36, iou=0.214]\n",
            "  0%|          | 0/48 [00:00<?, ?it/s]"
          ]
        },
        {
          "metadata": {
            "tags": null
          },
          "name": "stdout",
          "output_type": "stream",
          "text": [
            "loss 0.1198 - iou 0.8010 - val_loss 0.3601 - val_iou 0.2143\n",
            "Epoch [186/500]\n"
          ]
        },
        {
          "metadata": {
            "tags": null
          },
          "name": "stderr",
          "output_type": "stream",
          "text": [
            "100%|██████████| 48/48 [01:18<00:00,  1.64s/it, loss=0.124, iou=0.787]\n",
            "100%|██████████| 6/6 [00:04<00:00,  1.28it/s, loss=0.222, iou=0.465]\n",
            "  0%|          | 0/48 [00:00<?, ?it/s]"
          ]
        },
        {
          "metadata": {
            "tags": null
          },
          "name": "stdout",
          "output_type": "stream",
          "text": [
            "loss 0.1238 - iou 0.7867 - val_loss 0.2218 - val_iou 0.4648\n",
            "Epoch [187/500]\n"
          ]
        },
        {
          "metadata": {
            "tags": null
          },
          "name": "stderr",
          "output_type": "stream",
          "text": [
            "100%|██████████| 48/48 [01:18<00:00,  1.64s/it, loss=0.121, iou=0.799]\n",
            "100%|██████████| 6/6 [00:04<00:00,  1.27it/s, loss=0.233, iou=0.422]\n",
            "  0%|          | 0/48 [00:00<?, ?it/s]"
          ]
        },
        {
          "metadata": {
            "tags": null
          },
          "name": "stdout",
          "output_type": "stream",
          "text": [
            "loss 0.1206 - iou 0.7992 - val_loss 0.2331 - val_iou 0.4225\n",
            "Epoch [188/500]\n"
          ]
        },
        {
          "metadata": {
            "tags": null
          },
          "name": "stderr",
          "output_type": "stream",
          "text": [
            "100%|██████████| 48/48 [01:17<00:00,  1.62s/it, loss=0.117, iou=0.813]\n",
            "100%|██████████| 6/6 [00:04<00:00,  1.26it/s, loss=0.203, iou=0.564]\n",
            "  0%|          | 0/48 [00:00<?, ?it/s]"
          ]
        },
        {
          "metadata": {
            "tags": null
          },
          "name": "stdout",
          "output_type": "stream",
          "text": [
            "loss 0.1174 - iou 0.8133 - val_loss 0.2031 - val_iou 0.5641\n",
            "Epoch [189/500]\n"
          ]
        },
        {
          "metadata": {
            "tags": null
          },
          "name": "stderr",
          "output_type": "stream",
          "text": [
            "100%|██████████| 48/48 [01:18<00:00,  1.64s/it, loss=0.121, iou=0.804]\n",
            "100%|██████████| 6/6 [00:04<00:00,  1.24it/s, loss=0.23, iou=0.281]\n",
            "  0%|          | 0/48 [00:00<?, ?it/s]"
          ]
        },
        {
          "metadata": {
            "tags": null
          },
          "name": "stdout",
          "output_type": "stream",
          "text": [
            "loss 0.1206 - iou 0.8042 - val_loss 0.2296 - val_iou 0.2813\n",
            "Epoch [190/500]\n"
          ]
        },
        {
          "metadata": {
            "tags": null
          },
          "name": "stderr",
          "output_type": "stream",
          "text": [
            "100%|██████████| 48/48 [01:18<00:00,  1.64s/it, loss=0.121, iou=0.802]\n",
            "100%|██████████| 6/6 [00:04<00:00,  1.22it/s, loss=0.289, iou=0.126]\n",
            "  0%|          | 0/48 [00:00<?, ?it/s]"
          ]
        },
        {
          "metadata": {
            "tags": null
          },
          "name": "stdout",
          "output_type": "stream",
          "text": [
            "loss 0.1215 - iou 0.8017 - val_loss 0.2894 - val_iou 0.1264\n",
            "Epoch [191/500]\n"
          ]
        },
        {
          "metadata": {
            "tags": null
          },
          "name": "stderr",
          "output_type": "stream",
          "text": [
            "100%|██████████| 48/48 [01:18<00:00,  1.64s/it, loss=0.12, iou=0.809]\n",
            "100%|██████████| 6/6 [00:05<00:00,  1.20it/s, loss=0.275, iou=0.223]\n",
            "  0%|          | 0/48 [00:00<?, ?it/s]"
          ]
        },
        {
          "metadata": {
            "tags": null
          },
          "name": "stdout",
          "output_type": "stream",
          "text": [
            "loss 0.1196 - iou 0.8088 - val_loss 0.2753 - val_iou 0.2234\n",
            "Epoch [192/500]\n"
          ]
        },
        {
          "metadata": {
            "tags": null
          },
          "name": "stderr",
          "output_type": "stream",
          "text": [
            "100%|██████████| 48/48 [01:18<00:00,  1.64s/it, loss=0.122, iou=0.793]\n",
            "100%|██████████| 6/6 [00:04<00:00,  1.21it/s, loss=0.229, iou=0.411]\n",
            "  0%|          | 0/48 [00:00<?, ?it/s]"
          ]
        },
        {
          "metadata": {
            "tags": null
          },
          "name": "stdout",
          "output_type": "stream",
          "text": [
            "loss 0.1220 - iou 0.7929 - val_loss 0.2288 - val_iou 0.4108\n",
            "Epoch [193/500]\n"
          ]
        },
        {
          "metadata": {
            "tags": null
          },
          "name": "stderr",
          "output_type": "stream",
          "text": [
            "100%|██████████| 48/48 [01:18<00:00,  1.63s/it, loss=0.122, iou=0.792]\n",
            "100%|██████████| 6/6 [00:04<00:00,  1.23it/s, loss=0.195, iou=0.515]\n",
            "  0%|          | 0/48 [00:00<?, ?it/s]"
          ]
        },
        {
          "metadata": {
            "tags": null
          },
          "name": "stdout",
          "output_type": "stream",
          "text": [
            "loss 0.1221 - iou 0.7920 - val_loss 0.1947 - val_iou 0.5148\n",
            "Epoch [194/500]\n"
          ]
        },
        {
          "metadata": {
            "tags": null
          },
          "name": "stderr",
          "output_type": "stream",
          "text": [
            "100%|██████████| 48/48 [01:19<00:00,  1.66s/it, loss=0.118, iou=0.807]\n",
            "100%|██████████| 6/6 [00:04<00:00,  1.31it/s, loss=0.317, iou=0.0348]\n",
            "  0%|          | 0/48 [00:00<?, ?it/s]"
          ]
        },
        {
          "metadata": {
            "tags": null
          },
          "name": "stdout",
          "output_type": "stream",
          "text": [
            "loss 0.1185 - iou 0.8075 - val_loss 0.3168 - val_iou 0.0348\n",
            "Epoch [195/500]\n"
          ]
        },
        {
          "metadata": {
            "tags": null
          },
          "name": "stderr",
          "output_type": "stream",
          "text": [
            "100%|██████████| 48/48 [01:18<00:00,  1.64s/it, loss=0.124, iou=0.784]\n",
            "100%|██████████| 6/6 [00:04<00:00,  1.32it/s, loss=0.248, iou=0.304]\n",
            "  0%|          | 0/48 [00:00<?, ?it/s]"
          ]
        },
        {
          "metadata": {
            "tags": null
          },
          "name": "stdout",
          "output_type": "stream",
          "text": [
            "loss 0.1238 - iou 0.7836 - val_loss 0.2484 - val_iou 0.3038\n",
            "Epoch [196/500]\n"
          ]
        },
        {
          "metadata": {
            "tags": null
          },
          "name": "stderr",
          "output_type": "stream",
          "text": [
            "100%|██████████| 48/48 [01:19<00:00,  1.65s/it, loss=0.122, iou=0.801]\n",
            "100%|██████████| 6/6 [00:04<00:00,  1.35it/s, loss=0.16, iou=0.627]\n",
            "  0%|          | 0/48 [00:00<?, ?it/s]"
          ]
        },
        {
          "metadata": {
            "tags": null
          },
          "name": "stdout",
          "output_type": "stream",
          "text": [
            "loss 0.1219 - iou 0.8006 - val_loss 0.1596 - val_iou 0.6270\n",
            "Epoch [197/500]\n"
          ]
        },
        {
          "metadata": {
            "tags": null
          },
          "name": "stderr",
          "output_type": "stream",
          "text": [
            "100%|██████████| 48/48 [01:18<00:00,  1.64s/it, loss=0.117, iou=0.81]\n",
            "100%|██████████| 6/6 [00:04<00:00,  1.34it/s, loss=0.291, iou=0.118]\n",
            "  0%|          | 0/48 [00:00<?, ?it/s]"
          ]
        },
        {
          "metadata": {
            "tags": null
          },
          "name": "stdout",
          "output_type": "stream",
          "text": [
            "loss 0.1169 - iou 0.8103 - val_loss 0.2913 - val_iou 0.1183\n",
            "Epoch [198/500]\n"
          ]
        },
        {
          "metadata": {
            "tags": null
          },
          "name": "stderr",
          "output_type": "stream",
          "text": [
            "100%|██████████| 48/48 [01:18<00:00,  1.65s/it, loss=0.119, iou=0.807]\n",
            "100%|██████████| 6/6 [00:04<00:00,  1.37it/s, loss=0.348, iou=0.02]\n",
            "  0%|          | 0/48 [00:00<?, ?it/s]"
          ]
        },
        {
          "metadata": {
            "tags": null
          },
          "name": "stdout",
          "output_type": "stream",
          "text": [
            "loss 0.1189 - iou 0.8066 - val_loss 0.3477 - val_iou 0.0200\n",
            "Epoch [199/500]\n"
          ]
        },
        {
          "metadata": {
            "tags": null
          },
          "name": "stderr",
          "output_type": "stream",
          "text": [
            "100%|██████████| 48/48 [01:18<00:00,  1.64s/it, loss=0.117, iou=0.813]\n",
            "100%|██████████| 6/6 [00:04<00:00,  1.37it/s, loss=0.338, iou=0.01]\n",
            "  0%|          | 0/48 [00:00<?, ?it/s]"
          ]
        },
        {
          "metadata": {
            "tags": null
          },
          "name": "stdout",
          "output_type": "stream",
          "text": [
            "loss 0.1172 - iou 0.8130 - val_loss 0.3379 - val_iou 0.0100\n",
            "Epoch [200/500]\n"
          ]
        },
        {
          "metadata": {
            "tags": null
          },
          "name": "stderr",
          "output_type": "stream",
          "text": [
            "100%|██████████| 48/48 [01:18<00:00,  1.64s/it, loss=0.124, iou=0.789]\n",
            "100%|██████████| 6/6 [00:04<00:00,  1.35it/s, loss=0.21, iou=0.513]\n",
            "  0%|          | 0/48 [00:00<?, ?it/s]"
          ]
        },
        {
          "metadata": {
            "tags": null
          },
          "name": "stdout",
          "output_type": "stream",
          "text": [
            "loss 0.1236 - iou 0.7888 - val_loss 0.2102 - val_iou 0.5128\n",
            "Epoch [201/500]\n"
          ]
        },
        {
          "metadata": {
            "tags": null
          },
          "name": "stderr",
          "output_type": "stream",
          "text": [
            "100%|██████████| 48/48 [01:18<00:00,  1.64s/it, loss=0.12, iou=0.803]\n",
            "100%|██████████| 6/6 [00:04<00:00,  1.31it/s, loss=0.286, iou=0.136]\n",
            "  0%|          | 0/48 [00:00<?, ?it/s]"
          ]
        },
        {
          "metadata": {
            "tags": null
          },
          "name": "stdout",
          "output_type": "stream",
          "text": [
            "loss 0.1201 - iou 0.8032 - val_loss 0.2862 - val_iou 0.1364\n",
            "Epoch [202/500]\n"
          ]
        },
        {
          "metadata": {
            "tags": null
          },
          "name": "stderr",
          "output_type": "stream",
          "text": [
            "100%|██████████| 48/48 [01:18<00:00,  1.64s/it, loss=0.117, iou=0.817]\n",
            "100%|██████████| 6/6 [00:04<00:00,  1.30it/s, loss=0.211, iou=0.472]\n",
            "  0%|          | 0/48 [00:00<?, ?it/s]"
          ]
        },
        {
          "metadata": {
            "tags": null
          },
          "name": "stdout",
          "output_type": "stream",
          "text": [
            "loss 0.1168 - iou 0.8170 - val_loss 0.2112 - val_iou 0.4717\n",
            "Epoch [203/500]\n"
          ]
        },
        {
          "metadata": {
            "tags": null
          },
          "name": "stderr",
          "output_type": "stream",
          "text": [
            "100%|██████████| 48/48 [01:18<00:00,  1.64s/it, loss=0.116, iou=0.816]\n",
            "100%|██████████| 6/6 [00:04<00:00,  1.29it/s, loss=0.24, iou=0.422]\n",
            "  0%|          | 0/48 [00:00<?, ?it/s]"
          ]
        },
        {
          "metadata": {
            "tags": null
          },
          "name": "stdout",
          "output_type": "stream",
          "text": [
            "loss 0.1158 - iou 0.8155 - val_loss 0.2403 - val_iou 0.4219\n",
            "Epoch [204/500]\n"
          ]
        },
        {
          "metadata": {
            "tags": null
          },
          "name": "stderr",
          "output_type": "stream",
          "text": [
            "100%|██████████| 48/48 [01:18<00:00,  1.63s/it, loss=0.119, iou=0.81]\n",
            "100%|██████████| 6/6 [00:04<00:00,  1.31it/s, loss=0.299, iou=0.21]\n",
            "  0%|          | 0/48 [00:00<?, ?it/s]"
          ]
        },
        {
          "metadata": {
            "tags": null
          },
          "name": "stdout",
          "output_type": "stream",
          "text": [
            "loss 0.1188 - iou 0.8095 - val_loss 0.2985 - val_iou 0.2097\n",
            "Epoch [205/500]\n"
          ]
        },
        {
          "metadata": {
            "tags": null
          },
          "name": "stderr",
          "output_type": "stream",
          "text": [
            "100%|██████████| 48/48 [01:18<00:00,  1.64s/it, loss=0.116, iou=0.821]\n",
            "100%|██████████| 6/6 [00:04<00:00,  1.32it/s, loss=0.223, iou=0.42]\n",
            "  0%|          | 0/48 [00:00<?, ?it/s]"
          ]
        },
        {
          "metadata": {
            "tags": null
          },
          "name": "stdout",
          "output_type": "stream",
          "text": [
            "loss 0.1159 - iou 0.8207 - val_loss 0.2225 - val_iou 0.4201\n",
            "Epoch [206/500]\n"
          ]
        },
        {
          "metadata": {
            "tags": null
          },
          "name": "stderr",
          "output_type": "stream",
          "text": [
            "100%|██████████| 48/48 [01:18<00:00,  1.63s/it, loss=0.119, iou=0.805]\n",
            "100%|██████████| 6/6 [00:04<00:00,  1.31it/s, loss=0.398, iou=0.00658]\n",
            "  0%|          | 0/48 [00:00<?, ?it/s]"
          ]
        },
        {
          "metadata": {
            "tags": null
          },
          "name": "stdout",
          "output_type": "stream",
          "text": [
            "loss 0.1189 - iou 0.8047 - val_loss 0.3983 - val_iou 0.0066\n",
            "Epoch [207/500]\n"
          ]
        },
        {
          "metadata": {
            "tags": null
          },
          "name": "stderr",
          "output_type": "stream",
          "text": [
            "100%|██████████| 48/48 [01:18<00:00,  1.64s/it, loss=0.116, iou=0.814]\n",
            "100%|██████████| 6/6 [00:04<00:00,  1.27it/s, loss=0.211, iou=0.356]\n",
            "  0%|          | 0/48 [00:00<?, ?it/s]"
          ]
        },
        {
          "metadata": {
            "tags": null
          },
          "name": "stdout",
          "output_type": "stream",
          "text": [
            "loss 0.1162 - iou 0.8139 - val_loss 0.2111 - val_iou 0.3558\n",
            "Epoch [208/500]\n"
          ]
        },
        {
          "metadata": {
            "tags": null
          },
          "name": "stderr",
          "output_type": "stream",
          "text": [
            "100%|██████████| 48/48 [01:19<00:00,  1.65s/it, loss=0.116, iou=0.817]\n",
            "100%|██████████| 6/6 [00:04<00:00,  1.30it/s, loss=0.227, iou=0.394]\n",
            "  0%|          | 0/48 [00:00<?, ?it/s]"
          ]
        },
        {
          "metadata": {
            "tags": null
          },
          "name": "stdout",
          "output_type": "stream",
          "text": [
            "loss 0.1162 - iou 0.8174 - val_loss 0.2270 - val_iou 0.3938\n",
            "Epoch [209/500]\n"
          ]
        },
        {
          "metadata": {
            "tags": null
          },
          "name": "stderr",
          "output_type": "stream",
          "text": [
            "100%|██████████| 48/48 [01:19<00:00,  1.65s/it, loss=0.119, iou=0.803]\n",
            "100%|██████████| 6/6 [00:04<00:00,  1.28it/s, loss=0.175, iou=0.604]\n",
            "  0%|          | 0/48 [00:00<?, ?it/s]"
          ]
        },
        {
          "metadata": {
            "tags": null
          },
          "name": "stdout",
          "output_type": "stream",
          "text": [
            "loss 0.1195 - iou 0.8030 - val_loss 0.1751 - val_iou 0.6045\n",
            "Epoch [210/500]\n"
          ]
        },
        {
          "metadata": {
            "tags": null
          },
          "name": "stderr",
          "output_type": "stream",
          "text": [
            "100%|██████████| 48/48 [01:18<00:00,  1.64s/it, loss=0.122, iou=0.789]\n",
            "100%|██████████| 6/6 [00:04<00:00,  1.28it/s, loss=0.261, iou=0.299]\n",
            "  0%|          | 0/48 [00:00<?, ?it/s]"
          ]
        },
        {
          "metadata": {
            "tags": null
          },
          "name": "stdout",
          "output_type": "stream",
          "text": [
            "loss 0.1218 - iou 0.7892 - val_loss 0.2612 - val_iou 0.2985\n",
            "Epoch [211/500]\n"
          ]
        },
        {
          "metadata": {
            "tags": null
          },
          "name": "stderr",
          "output_type": "stream",
          "text": [
            "100%|██████████| 48/48 [01:18<00:00,  1.63s/it, loss=0.119, iou=0.81]\n",
            "100%|██████████| 6/6 [00:04<00:00,  1.27it/s, loss=0.205, iou=0.426]\n",
            "  0%|          | 0/48 [00:00<?, ?it/s]"
          ]
        },
        {
          "metadata": {
            "tags": null
          },
          "name": "stdout",
          "output_type": "stream",
          "text": [
            "loss 0.1192 - iou 0.8096 - val_loss 0.2052 - val_iou 0.4255\n",
            "Epoch [212/500]\n"
          ]
        },
        {
          "metadata": {
            "tags": null
          },
          "name": "stderr",
          "output_type": "stream",
          "text": [
            "100%|██████████| 48/48 [01:18<00:00,  1.64s/it, loss=0.116, iou=0.819]\n",
            "100%|██████████| 6/6 [00:04<00:00,  1.29it/s, loss=0.199, iou=0.463]\n",
            "  0%|          | 0/48 [00:00<?, ?it/s]"
          ]
        },
        {
          "metadata": {
            "tags": null
          },
          "name": "stdout",
          "output_type": "stream",
          "text": [
            "loss 0.1160 - iou 0.8189 - val_loss 0.1992 - val_iou 0.4634\n",
            "Epoch [213/500]\n"
          ]
        },
        {
          "metadata": {
            "tags": null
          },
          "name": "stderr",
          "output_type": "stream",
          "text": [
            "100%|██████████| 48/48 [01:18<00:00,  1.64s/it, loss=0.117, iou=0.818]\n",
            "100%|██████████| 6/6 [00:04<00:00,  1.28it/s, loss=0.328, iou=0.148]\n",
            "  0%|          | 0/48 [00:00<?, ?it/s]"
          ]
        },
        {
          "metadata": {
            "tags": null
          },
          "name": "stdout",
          "output_type": "stream",
          "text": [
            "loss 0.1169 - iou 0.8181 - val_loss 0.3283 - val_iou 0.1479\n",
            "Epoch [214/500]\n"
          ]
        },
        {
          "metadata": {
            "tags": null
          },
          "name": "stderr",
          "output_type": "stream",
          "text": [
            "100%|██████████| 48/48 [01:17<00:00,  1.62s/it, loss=0.118, iou=0.804]\n",
            "100%|██████████| 6/6 [00:04<00:00,  1.27it/s, loss=0.402, iou=0.131]\n",
            "  0%|          | 0/48 [00:00<?, ?it/s]"
          ]
        },
        {
          "metadata": {
            "tags": null
          },
          "name": "stdout",
          "output_type": "stream",
          "text": [
            "loss 0.1182 - iou 0.8036 - val_loss 0.4020 - val_iou 0.1306\n",
            "Epoch [215/500]\n"
          ]
        },
        {
          "metadata": {
            "tags": null
          },
          "name": "stderr",
          "output_type": "stream",
          "text": [
            "100%|██████████| 48/48 [01:18<00:00,  1.63s/it, loss=0.12, iou=0.805]\n",
            "100%|██████████| 6/6 [00:04<00:00,  1.25it/s, loss=0.271, iou=0.116]\n",
            "  0%|          | 0/48 [00:00<?, ?it/s]"
          ]
        },
        {
          "metadata": {
            "tags": null
          },
          "name": "stdout",
          "output_type": "stream",
          "text": [
            "loss 0.1203 - iou 0.8052 - val_loss 0.2711 - val_iou 0.1163\n",
            "Epoch [216/500]\n"
          ]
        },
        {
          "metadata": {
            "tags": null
          },
          "name": "stderr",
          "output_type": "stream",
          "text": [
            "100%|██████████| 48/48 [01:17<00:00,  1.62s/it, loss=0.115, iou=0.824]\n",
            "100%|██████████| 6/6 [00:04<00:00,  1.23it/s, loss=0.314, iou=0.204]\n",
            "  0%|          | 0/48 [00:00<?, ?it/s]"
          ]
        },
        {
          "metadata": {
            "tags": null
          },
          "name": "stdout",
          "output_type": "stream",
          "text": [
            "loss 0.1145 - iou 0.8243 - val_loss 0.3142 - val_iou 0.2038\n",
            "Epoch [217/500]\n"
          ]
        },
        {
          "metadata": {
            "tags": null
          },
          "name": "stderr",
          "output_type": "stream",
          "text": [
            "100%|██████████| 48/48 [01:18<00:00,  1.64s/it, loss=0.116, iou=0.825]\n",
            "100%|██████████| 6/6 [00:04<00:00,  1.25it/s, loss=0.317, iou=0.0977]\n",
            "  0%|          | 0/48 [00:00<?, ?it/s]"
          ]
        },
        {
          "metadata": {
            "tags": null
          },
          "name": "stdout",
          "output_type": "stream",
          "text": [
            "loss 0.1160 - iou 0.8251 - val_loss 0.3167 - val_iou 0.0977\n",
            "Epoch [218/500]\n"
          ]
        },
        {
          "metadata": {
            "tags": null
          },
          "name": "stderr",
          "output_type": "stream",
          "text": [
            "100%|██████████| 48/48 [01:18<00:00,  1.64s/it, loss=0.121, iou=0.807]\n",
            "100%|██████████| 6/6 [00:04<00:00,  1.24it/s, loss=0.33, iou=0.0317]\n",
            "  0%|          | 0/48 [00:00<?, ?it/s]"
          ]
        },
        {
          "metadata": {
            "tags": null
          },
          "name": "stdout",
          "output_type": "stream",
          "text": [
            "loss 0.1215 - iou 0.8067 - val_loss 0.3300 - val_iou 0.0317\n",
            "Epoch [219/500]\n"
          ]
        },
        {
          "metadata": {
            "tags": null
          },
          "name": "stderr",
          "output_type": "stream",
          "text": [
            "100%|██████████| 48/48 [01:18<00:00,  1.63s/it, loss=0.117, iou=0.808]\n",
            "100%|██████████| 6/6 [00:04<00:00,  1.24it/s, loss=0.285, iou=0.146]\n",
            "  0%|          | 0/48 [00:00<?, ?it/s]"
          ]
        },
        {
          "metadata": {
            "tags": null
          },
          "name": "stdout",
          "output_type": "stream",
          "text": [
            "loss 0.1167 - iou 0.8081 - val_loss 0.2847 - val_iou 0.1465\n",
            "Epoch [220/500]\n"
          ]
        },
        {
          "metadata": {
            "tags": null
          },
          "name": "stderr",
          "output_type": "stream",
          "text": [
            "100%|██████████| 48/48 [01:18<00:00,  1.63s/it, loss=0.119, iou=0.8]\n",
            "100%|██████████| 6/6 [00:04<00:00,  1.26it/s, loss=0.253, iou=0.346]\n",
            "  0%|          | 0/48 [00:00<?, ?it/s]"
          ]
        },
        {
          "metadata": {
            "tags": null
          },
          "name": "stdout",
          "output_type": "stream",
          "text": [
            "loss 0.1192 - iou 0.7999 - val_loss 0.2525 - val_iou 0.3461\n",
            "Epoch [221/500]\n"
          ]
        },
        {
          "metadata": {
            "tags": null
          },
          "name": "stderr",
          "output_type": "stream",
          "text": [
            "100%|██████████| 48/48 [01:17<00:00,  1.62s/it, loss=0.118, iou=0.805]\n",
            "100%|██████████| 6/6 [00:04<00:00,  1.21it/s, loss=0.249, iou=0.273]\n",
            "  0%|          | 0/48 [00:00<?, ?it/s]"
          ]
        },
        {
          "metadata": {
            "tags": null
          },
          "name": "stdout",
          "output_type": "stream",
          "text": [
            "loss 0.1180 - iou 0.8049 - val_loss 0.2486 - val_iou 0.2728\n",
            "Epoch [222/500]\n"
          ]
        },
        {
          "metadata": {
            "tags": null
          },
          "name": "stderr",
          "output_type": "stream",
          "text": [
            "100%|██████████| 48/48 [01:18<00:00,  1.63s/it, loss=0.118, iou=0.815]\n",
            "100%|██████████| 6/6 [00:04<00:00,  1.23it/s, loss=0.301, iou=0.000424]\n",
            "  0%|          | 0/48 [00:00<?, ?it/s]"
          ]
        },
        {
          "metadata": {
            "tags": null
          },
          "name": "stdout",
          "output_type": "stream",
          "text": [
            "loss 0.1183 - iou 0.8147 - val_loss 0.3005 - val_iou 0.0004\n",
            "Epoch [223/500]\n"
          ]
        },
        {
          "metadata": {
            "tags": null
          },
          "name": "stderr",
          "output_type": "stream",
          "text": [
            "100%|██████████| 48/48 [01:18<00:00,  1.64s/it, loss=0.116, iou=0.818]\n",
            "100%|██████████| 6/6 [00:04<00:00,  1.27it/s, loss=0.298, iou=0.0939]\n",
            "  0%|          | 0/48 [00:00<?, ?it/s]"
          ]
        },
        {
          "metadata": {
            "tags": null
          },
          "name": "stdout",
          "output_type": "stream",
          "text": [
            "loss 0.1160 - iou 0.8181 - val_loss 0.2983 - val_iou 0.0939\n",
            "Epoch [224/500]\n"
          ]
        },
        {
          "metadata": {
            "tags": null
          },
          "name": "stderr",
          "output_type": "stream",
          "text": [
            "100%|██████████| 48/48 [01:18<00:00,  1.63s/it, loss=0.114, iou=0.83]\n",
            "100%|██████████| 6/6 [00:04<00:00,  1.22it/s, loss=0.336, iou=0.0869]\n",
            "  0%|          | 0/48 [00:00<?, ?it/s]"
          ]
        },
        {
          "metadata": {
            "tags": null
          },
          "name": "stdout",
          "output_type": "stream",
          "text": [
            "loss 0.1143 - iou 0.8295 - val_loss 0.3358 - val_iou 0.0869\n",
            "Epoch [225/500]\n"
          ]
        },
        {
          "metadata": {
            "tags": null
          },
          "name": "stderr",
          "output_type": "stream",
          "text": [
            "100%|██████████| 48/48 [01:17<00:00,  1.62s/it, loss=0.118, iou=0.81]\n",
            "100%|██████████| 6/6 [00:05<00:00,  1.19it/s, loss=0.219, iou=0.392]\n",
            "  0%|          | 0/48 [00:00<?, ?it/s]"
          ]
        },
        {
          "metadata": {
            "tags": null
          },
          "name": "stdout",
          "output_type": "stream",
          "text": [
            "loss 0.1176 - iou 0.8099 - val_loss 0.2191 - val_iou 0.3919\n",
            "Epoch [226/500]\n"
          ]
        },
        {
          "metadata": {
            "tags": null
          },
          "name": "stderr",
          "output_type": "stream",
          "text": [
            "100%|██████████| 48/48 [01:18<00:00,  1.63s/it, loss=0.116, iou=0.818]\n",
            "100%|██████████| 6/6 [00:04<00:00,  1.27it/s, loss=0.354, iou=0.0465]\n",
            "  0%|          | 0/48 [00:00<?, ?it/s]"
          ]
        },
        {
          "metadata": {
            "tags": null
          },
          "name": "stdout",
          "output_type": "stream",
          "text": [
            "loss 0.1155 - iou 0.8179 - val_loss 0.3544 - val_iou 0.0465\n",
            "Epoch [227/500]\n"
          ]
        },
        {
          "metadata": {
            "tags": null
          },
          "name": "stderr",
          "output_type": "stream",
          "text": [
            "100%|██████████| 48/48 [01:18<00:00,  1.63s/it, loss=0.118, iou=0.813]\n",
            "100%|██████████| 6/6 [00:04<00:00,  1.27it/s, loss=0.35, iou=0.0865]\n",
            "  0%|          | 0/48 [00:00<?, ?it/s]"
          ]
        },
        {
          "metadata": {
            "tags": null
          },
          "name": "stdout",
          "output_type": "stream",
          "text": [
            "loss 0.1176 - iou 0.8127 - val_loss 0.3502 - val_iou 0.0865\n",
            "Epoch [228/500]\n"
          ]
        },
        {
          "metadata": {
            "tags": null
          },
          "name": "stderr",
          "output_type": "stream",
          "text": [
            "100%|██████████| 48/48 [01:18<00:00,  1.64s/it, loss=0.118, iou=0.82]\n",
            "100%|██████████| 6/6 [00:04<00:00,  1.26it/s, loss=0.269, iou=0.344]\n",
            "  0%|          | 0/48 [00:00<?, ?it/s]"
          ]
        },
        {
          "metadata": {
            "tags": null
          },
          "name": "stdout",
          "output_type": "stream",
          "text": [
            "loss 0.1175 - iou 0.8203 - val_loss 0.2692 - val_iou 0.3444\n",
            "Epoch [229/500]\n"
          ]
        },
        {
          "metadata": {
            "tags": null
          },
          "name": "stderr",
          "output_type": "stream",
          "text": [
            "100%|██████████| 48/48 [01:18<00:00,  1.64s/it, loss=0.116, iou=0.812]\n",
            "100%|██████████| 6/6 [00:05<00:00,  1.19it/s, loss=0.293, iou=0.188]\n",
            "  0%|          | 0/48 [00:00<?, ?it/s]"
          ]
        },
        {
          "metadata": {
            "tags": null
          },
          "name": "stdout",
          "output_type": "stream",
          "text": [
            "loss 0.1158 - iou 0.8125 - val_loss 0.2930 - val_iou 0.1881\n",
            "Epoch [230/500]\n"
          ]
        },
        {
          "metadata": {
            "tags": null
          },
          "name": "stderr",
          "output_type": "stream",
          "text": [
            "100%|██████████| 48/48 [01:17<00:00,  1.62s/it, loss=0.116, iou=0.82]\n",
            "100%|██████████| 6/6 [00:04<00:00,  1.21it/s, loss=0.277, iou=0.246]\n",
            "  0%|          | 0/48 [00:00<?, ?it/s]"
          ]
        },
        {
          "metadata": {
            "tags": null
          },
          "name": "stdout",
          "output_type": "stream",
          "text": [
            "loss 0.1160 - iou 0.8201 - val_loss 0.2775 - val_iou 0.2456\n",
            "Epoch [231/500]\n"
          ]
        },
        {
          "metadata": {
            "tags": null
          },
          "name": "stderr",
          "output_type": "stream",
          "text": [
            "100%|██████████| 48/48 [01:18<00:00,  1.64s/it, loss=0.121, iou=0.807]\n",
            "100%|██████████| 6/6 [00:04<00:00,  1.23it/s, loss=0.254, iou=0.353]\n",
            "  0%|          | 0/48 [00:00<?, ?it/s]"
          ]
        },
        {
          "metadata": {
            "tags": null
          },
          "name": "stdout",
          "output_type": "stream",
          "text": [
            "loss 0.1210 - iou 0.8071 - val_loss 0.2536 - val_iou 0.3529\n",
            "Epoch [232/500]\n"
          ]
        },
        {
          "metadata": {
            "tags": null
          },
          "name": "stderr",
          "output_type": "stream",
          "text": [
            "100%|██████████| 48/48 [01:18<00:00,  1.64s/it, loss=0.122, iou=0.797]\n",
            "100%|██████████| 6/6 [00:04<00:00,  1.25it/s, loss=0.23, iou=0.401]\n",
            "  0%|          | 0/48 [00:00<?, ?it/s]"
          ]
        },
        {
          "metadata": {
            "tags": null
          },
          "name": "stdout",
          "output_type": "stream",
          "text": [
            "loss 0.1219 - iou 0.7966 - val_loss 0.2304 - val_iou 0.4013\n",
            "Epoch [233/500]\n"
          ]
        },
        {
          "metadata": {
            "tags": null
          },
          "name": "stderr",
          "output_type": "stream",
          "text": [
            "100%|██████████| 48/48 [01:18<00:00,  1.64s/it, loss=0.116, iou=0.809]\n",
            "100%|██████████| 6/6 [00:04<00:00,  1.25it/s, loss=0.154, iou=0.681]\n"
          ]
        },
        {
          "metadata": {
            "tags": null
          },
          "name": "stdout",
          "output_type": "stream",
          "text": [
            "loss 0.1162 - iou 0.8087 - val_loss 0.1541 - val_iou 0.6808\n"
          ]
        },
        {
          "metadata": {
            "tags": null
          },
          "name": "stderr",
          "output_type": "stream",
          "text": [
            "\r  0%|          | 0/48 [00:00<?, ?it/s]"
          ]
        },
        {
          "metadata": {
            "tags": null
          },
          "name": "stdout",
          "output_type": "stream",
          "text": [
            "=> saved best model\n",
            "Epoch [234/500]\n"
          ]
        },
        {
          "metadata": {
            "tags": null
          },
          "name": "stderr",
          "output_type": "stream",
          "text": [
            "100%|██████████| 48/48 [01:18<00:00,  1.64s/it, loss=0.113, iou=0.83]\n",
            "100%|██████████| 6/6 [00:04<00:00,  1.22it/s, loss=0.191, iou=0.521]\n",
            "  0%|          | 0/48 [00:00<?, ?it/s]"
          ]
        },
        {
          "metadata": {
            "tags": null
          },
          "name": "stdout",
          "output_type": "stream",
          "text": [
            "loss 0.1132 - iou 0.8295 - val_loss 0.1905 - val_iou 0.5210\n",
            "Epoch [235/500]\n"
          ]
        },
        {
          "metadata": {
            "tags": null
          },
          "name": "stderr",
          "output_type": "stream",
          "text": [
            "100%|██████████| 48/48 [01:17<00:00,  1.62s/it, loss=0.116, iou=0.82]\n",
            "100%|██████████| 6/6 [00:04<00:00,  1.22it/s, loss=0.231, iou=0.358]\n",
            "  0%|          | 0/48 [00:00<?, ?it/s]"
          ]
        },
        {
          "metadata": {
            "tags": null
          },
          "name": "stdout",
          "output_type": "stream",
          "text": [
            "loss 0.1158 - iou 0.8204 - val_loss 0.2306 - val_iou 0.3576\n",
            "Epoch [236/500]\n"
          ]
        },
        {
          "metadata": {
            "tags": null
          },
          "name": "stderr",
          "output_type": "stream",
          "text": [
            "100%|██████████| 48/48 [01:18<00:00,  1.63s/it, loss=0.114, iou=0.83]\n",
            "100%|██████████| 6/6 [00:04<00:00,  1.23it/s, loss=0.362, iou=0.0812]\n",
            "  0%|          | 0/48 [00:00<?, ?it/s]"
          ]
        },
        {
          "metadata": {
            "tags": null
          },
          "name": "stdout",
          "output_type": "stream",
          "text": [
            "loss 0.1140 - iou 0.8302 - val_loss 0.3621 - val_iou 0.0812\n",
            "Epoch [237/500]\n"
          ]
        },
        {
          "metadata": {
            "tags": null
          },
          "name": "stderr",
          "output_type": "stream",
          "text": [
            "100%|██████████| 48/48 [01:19<00:00,  1.65s/it, loss=0.114, iou=0.821]\n",
            "100%|██████████| 6/6 [00:04<00:00,  1.26it/s, loss=0.237, iou=0.353]\n",
            "  0%|          | 0/48 [00:00<?, ?it/s]"
          ]
        },
        {
          "metadata": {
            "tags": null
          },
          "name": "stdout",
          "output_type": "stream",
          "text": [
            "loss 0.1142 - iou 0.8207 - val_loss 0.2375 - val_iou 0.3535\n",
            "Epoch [238/500]\n"
          ]
        },
        {
          "metadata": {
            "tags": null
          },
          "name": "stderr",
          "output_type": "stream",
          "text": [
            "100%|██████████| 48/48 [01:18<00:00,  1.64s/it, loss=0.119, iou=0.81]\n",
            "100%|██████████| 6/6 [00:04<00:00,  1.24it/s, loss=0.26, iou=0.255]\n",
            "  0%|          | 0/48 [00:00<?, ?it/s]"
          ]
        },
        {
          "metadata": {
            "tags": null
          },
          "name": "stdout",
          "output_type": "stream",
          "text": [
            "loss 0.1186 - iou 0.8098 - val_loss 0.2597 - val_iou 0.2551\n",
            "Epoch [239/500]\n"
          ]
        },
        {
          "metadata": {
            "tags": null
          },
          "name": "stderr",
          "output_type": "stream",
          "text": [
            "100%|██████████| 48/48 [01:18<00:00,  1.64s/it, loss=0.114, iou=0.813]\n",
            "100%|██████████| 6/6 [00:04<00:00,  1.26it/s, loss=0.313, iou=0.142]\n",
            "  0%|          | 0/48 [00:00<?, ?it/s]"
          ]
        },
        {
          "metadata": {
            "tags": null
          },
          "name": "stdout",
          "output_type": "stream",
          "text": [
            "loss 0.1142 - iou 0.8131 - val_loss 0.3125 - val_iou 0.1424\n",
            "Epoch [240/500]\n"
          ]
        },
        {
          "metadata": {
            "tags": null
          },
          "name": "stderr",
          "output_type": "stream",
          "text": [
            "100%|██████████| 48/48 [01:18<00:00,  1.63s/it, loss=0.115, iou=0.817]\n",
            "100%|██████████| 6/6 [00:04<00:00,  1.27it/s, loss=0.294, iou=0.149]\n",
            "  0%|          | 0/48 [00:00<?, ?it/s]"
          ]
        },
        {
          "metadata": {
            "tags": null
          },
          "name": "stdout",
          "output_type": "stream",
          "text": [
            "loss 0.1150 - iou 0.8171 - val_loss 0.2942 - val_iou 0.1489\n",
            "Epoch [241/500]\n"
          ]
        },
        {
          "metadata": {
            "tags": null
          },
          "name": "stderr",
          "output_type": "stream",
          "text": [
            "100%|██████████| 48/48 [01:18<00:00,  1.63s/it, loss=0.119, iou=0.794]\n",
            "100%|██████████| 6/6 [00:04<00:00,  1.28it/s, loss=0.275, iou=0.108]\n",
            "  0%|          | 0/48 [00:00<?, ?it/s]"
          ]
        },
        {
          "metadata": {
            "tags": null
          },
          "name": "stdout",
          "output_type": "stream",
          "text": [
            "loss 0.1193 - iou 0.7944 - val_loss 0.2752 - val_iou 0.1083\n",
            "Epoch [242/500]\n"
          ]
        },
        {
          "metadata": {
            "tags": null
          },
          "name": "stderr",
          "output_type": "stream",
          "text": [
            "100%|██████████| 48/48 [01:18<00:00,  1.64s/it, loss=0.114, iou=0.823]\n",
            "100%|██████████| 6/6 [00:04<00:00,  1.28it/s, loss=0.264, iou=0.204]\n",
            "  0%|          | 0/48 [00:00<?, ?it/s]"
          ]
        },
        {
          "metadata": {
            "tags": null
          },
          "name": "stdout",
          "output_type": "stream",
          "text": [
            "loss 0.1136 - iou 0.8229 - val_loss 0.2643 - val_iou 0.2040\n",
            "Epoch [243/500]\n"
          ]
        },
        {
          "metadata": {
            "tags": null
          },
          "name": "stderr",
          "output_type": "stream",
          "text": [
            "100%|██████████| 48/48 [01:18<00:00,  1.64s/it, loss=0.114, iou=0.829]\n",
            "100%|██████████| 6/6 [00:04<00:00,  1.31it/s, loss=0.276, iou=0.134]\n",
            "  0%|          | 0/48 [00:00<?, ?it/s]"
          ]
        },
        {
          "metadata": {
            "tags": null
          },
          "name": "stdout",
          "output_type": "stream",
          "text": [
            "loss 0.1143 - iou 0.8291 - val_loss 0.2763 - val_iou 0.1338\n",
            "Epoch [244/500]\n"
          ]
        },
        {
          "metadata": {
            "tags": null
          },
          "name": "stderr",
          "output_type": "stream",
          "text": [
            "100%|██████████| 48/48 [01:18<00:00,  1.64s/it, loss=0.117, iou=0.823]\n",
            "100%|██████████| 6/6 [00:04<00:00,  1.28it/s, loss=0.341, iou=0.0608]\n",
            "  0%|          | 0/48 [00:00<?, ?it/s]"
          ]
        },
        {
          "metadata": {
            "tags": null
          },
          "name": "stdout",
          "output_type": "stream",
          "text": [
            "loss 0.1166 - iou 0.8232 - val_loss 0.3406 - val_iou 0.0608\n",
            "Epoch [245/500]\n"
          ]
        },
        {
          "metadata": {
            "tags": null
          },
          "name": "stderr",
          "output_type": "stream",
          "text": [
            "100%|██████████| 48/48 [01:19<00:00,  1.66s/it, loss=0.118, iou=0.81]\n",
            "100%|██████████| 6/6 [00:04<00:00,  1.37it/s, loss=0.174, iou=0.583]\n",
            "  0%|          | 0/48 [00:00<?, ?it/s]"
          ]
        },
        {
          "metadata": {
            "tags": null
          },
          "name": "stdout",
          "output_type": "stream",
          "text": [
            "loss 0.1182 - iou 0.8096 - val_loss 0.1736 - val_iou 0.5827\n",
            "Epoch [246/500]\n"
          ]
        },
        {
          "metadata": {
            "tags": null
          },
          "name": "stderr",
          "output_type": "stream",
          "text": [
            "100%|██████████| 48/48 [01:18<00:00,  1.63s/it, loss=0.118, iou=0.809]\n",
            "100%|██████████| 6/6 [00:04<00:00,  1.40it/s, loss=0.322, iou=0.00845]\n",
            "  0%|          | 0/48 [00:00<?, ?it/s]"
          ]
        },
        {
          "metadata": {
            "tags": null
          },
          "name": "stdout",
          "output_type": "stream",
          "text": [
            "loss 0.1178 - iou 0.8092 - val_loss 0.3217 - val_iou 0.0085\n",
            "Epoch [247/500]\n"
          ]
        },
        {
          "metadata": {
            "tags": null
          },
          "name": "stderr",
          "output_type": "stream",
          "text": [
            "100%|██████████| 48/48 [01:19<00:00,  1.65s/it, loss=0.117, iou=0.808]\n",
            "100%|██████████| 6/6 [00:04<00:00,  1.41it/s, loss=0.256, iou=0.198]\n",
            "  0%|          | 0/48 [00:00<?, ?it/s]"
          ]
        },
        {
          "metadata": {
            "tags": null
          },
          "name": "stdout",
          "output_type": "stream",
          "text": [
            "loss 0.1174 - iou 0.8081 - val_loss 0.2563 - val_iou 0.1975\n",
            "Epoch [248/500]\n"
          ]
        },
        {
          "metadata": {
            "tags": null
          },
          "name": "stderr",
          "output_type": "stream",
          "text": [
            "100%|██████████| 48/48 [01:18<00:00,  1.64s/it, loss=0.111, iou=0.833]\n",
            "100%|██████████| 6/6 [00:04<00:00,  1.39it/s, loss=0.268, iou=0.312]\n",
            "  0%|          | 0/48 [00:00<?, ?it/s]"
          ]
        },
        {
          "metadata": {
            "tags": null
          },
          "name": "stdout",
          "output_type": "stream",
          "text": [
            "loss 0.1114 - iou 0.8334 - val_loss 0.2681 - val_iou 0.3121\n",
            "Epoch [249/500]\n"
          ]
        },
        {
          "metadata": {
            "tags": null
          },
          "name": "stderr",
          "output_type": "stream",
          "text": [
            "100%|██████████| 48/48 [01:19<00:00,  1.67s/it, loss=0.114, iou=0.817]\n",
            "100%|██████████| 6/6 [00:04<00:00,  1.36it/s, loss=0.198, iou=0.376]\n",
            "  0%|          | 0/48 [00:00<?, ?it/s]"
          ]
        },
        {
          "metadata": {
            "tags": null
          },
          "name": "stdout",
          "output_type": "stream",
          "text": [
            "loss 0.1145 - iou 0.8170 - val_loss 0.1977 - val_iou 0.3765\n",
            "Epoch [250/500]\n"
          ]
        },
        {
          "metadata": {
            "tags": null
          },
          "name": "stderr",
          "output_type": "stream",
          "text": [
            "100%|██████████| 48/48 [01:20<00:00,  1.67s/it, loss=0.116, iou=0.813]\n",
            "100%|██████████| 6/6 [00:04<00:00,  1.29it/s, loss=0.264, iou=0.251]\n",
            "  0%|          | 0/48 [00:00<?, ?it/s]"
          ]
        },
        {
          "metadata": {
            "tags": null
          },
          "name": "stdout",
          "output_type": "stream",
          "text": [
            "loss 0.1160 - iou 0.8131 - val_loss 0.2641 - val_iou 0.2512\n",
            "Epoch [251/500]\n"
          ]
        },
        {
          "metadata": {
            "tags": null
          },
          "name": "stderr",
          "output_type": "stream",
          "text": [
            "100%|██████████| 48/48 [01:19<00:00,  1.65s/it, loss=0.118, iou=0.815]\n",
            "100%|██████████| 6/6 [00:04<00:00,  1.28it/s, loss=0.271, iou=0.162]\n",
            "  0%|          | 0/48 [00:00<?, ?it/s]"
          ]
        },
        {
          "metadata": {
            "tags": null
          },
          "name": "stdout",
          "output_type": "stream",
          "text": [
            "loss 0.1179 - iou 0.8145 - val_loss 0.2713 - val_iou 0.1620\n",
            "Epoch [252/500]\n"
          ]
        },
        {
          "metadata": {
            "tags": null
          },
          "name": "stderr",
          "output_type": "stream",
          "text": [
            "100%|██████████| 48/48 [01:18<00:00,  1.64s/it, loss=0.117, iou=0.813]\n",
            "100%|██████████| 6/6 [00:04<00:00,  1.27it/s, loss=0.326, iou=0.361]\n",
            "  0%|          | 0/48 [00:00<?, ?it/s]"
          ]
        },
        {
          "metadata": {
            "tags": null
          },
          "name": "stdout",
          "output_type": "stream",
          "text": [
            "loss 0.1173 - iou 0.8130 - val_loss 0.3265 - val_iou 0.3610\n",
            "Epoch [253/500]\n"
          ]
        },
        {
          "metadata": {
            "tags": null
          },
          "name": "stderr",
          "output_type": "stream",
          "text": [
            "100%|██████████| 48/48 [01:19<00:00,  1.65s/it, loss=0.114, iou=0.818]\n",
            "100%|██████████| 6/6 [00:04<00:00,  1.24it/s, loss=0.314, iou=0.219]\n",
            "  0%|          | 0/48 [00:00<?, ?it/s]"
          ]
        },
        {
          "metadata": {
            "tags": null
          },
          "name": "stdout",
          "output_type": "stream",
          "text": [
            "loss 0.1137 - iou 0.8184 - val_loss 0.3139 - val_iou 0.2192\n",
            "Epoch [254/500]\n"
          ]
        },
        {
          "metadata": {
            "tags": null
          },
          "name": "stderr",
          "output_type": "stream",
          "text": [
            "100%|██████████| 48/48 [01:19<00:00,  1.65s/it, loss=0.112, iou=0.832]\n",
            "100%|██████████| 6/6 [00:04<00:00,  1.22it/s, loss=0.21, iou=0.456]\n",
            "  0%|          | 0/48 [00:00<?, ?it/s]"
          ]
        },
        {
          "metadata": {
            "tags": null
          },
          "name": "stdout",
          "output_type": "stream",
          "text": [
            "loss 0.1119 - iou 0.8316 - val_loss 0.2102 - val_iou 0.4558\n",
            "Epoch [255/500]\n"
          ]
        },
        {
          "metadata": {
            "tags": null
          },
          "name": "stderr",
          "output_type": "stream",
          "text": [
            "100%|██████████| 48/48 [01:19<00:00,  1.66s/it, loss=0.113, iou=0.821]\n",
            "100%|██████████| 6/6 [00:04<00:00,  1.23it/s, loss=0.279, iou=0.116]\n",
            "  0%|          | 0/48 [00:00<?, ?it/s]"
          ]
        },
        {
          "metadata": {
            "tags": null
          },
          "name": "stdout",
          "output_type": "stream",
          "text": [
            "loss 0.1127 - iou 0.8208 - val_loss 0.2794 - val_iou 0.1162\n",
            "Epoch [256/500]\n"
          ]
        },
        {
          "metadata": {
            "tags": null
          },
          "name": "stderr",
          "output_type": "stream",
          "text": [
            "100%|██████████| 48/48 [01:18<00:00,  1.63s/it, loss=0.112, iou=0.835]\n",
            "100%|██████████| 6/6 [00:04<00:00,  1.23it/s, loss=0.265, iou=0.264]\n",
            "  0%|          | 0/48 [00:00<?, ?it/s]"
          ]
        },
        {
          "metadata": {
            "tags": null
          },
          "name": "stdout",
          "output_type": "stream",
          "text": [
            "loss 0.1122 - iou 0.8347 - val_loss 0.2654 - val_iou 0.2640\n",
            "Epoch [257/500]\n"
          ]
        },
        {
          "metadata": {
            "tags": null
          },
          "name": "stderr",
          "output_type": "stream",
          "text": [
            "100%|██████████| 48/48 [01:18<00:00,  1.63s/it, loss=0.115, iou=0.824]\n",
            "100%|██████████| 6/6 [00:04<00:00,  1.22it/s, loss=0.23, iou=0.437]\n",
            "  0%|          | 0/48 [00:00<?, ?it/s]"
          ]
        },
        {
          "metadata": {
            "tags": null
          },
          "name": "stdout",
          "output_type": "stream",
          "text": [
            "loss 0.1145 - iou 0.8238 - val_loss 0.2303 - val_iou 0.4368\n",
            "Epoch [258/500]\n"
          ]
        },
        {
          "metadata": {
            "tags": null
          },
          "name": "stderr",
          "output_type": "stream",
          "text": [
            "100%|██████████| 48/48 [01:19<00:00,  1.65s/it, loss=0.114, iou=0.827]\n",
            "100%|██████████| 6/6 [00:04<00:00,  1.24it/s, loss=0.239, iou=0.326]\n",
            "  0%|          | 0/48 [00:00<?, ?it/s]"
          ]
        },
        {
          "metadata": {
            "tags": null
          },
          "name": "stdout",
          "output_type": "stream",
          "text": [
            "loss 0.1137 - iou 0.8266 - val_loss 0.2392 - val_iou 0.3255\n",
            "Epoch [259/500]\n"
          ]
        },
        {
          "metadata": {
            "tags": null
          },
          "name": "stderr",
          "output_type": "stream",
          "text": [
            "100%|██████████| 48/48 [01:17<00:00,  1.62s/it, loss=0.111, iou=0.834]\n",
            "100%|██████████| 6/6 [00:04<00:00,  1.25it/s, loss=0.18, iou=0.533]\n",
            "  0%|          | 0/48 [00:00<?, ?it/s]"
          ]
        },
        {
          "metadata": {
            "tags": null
          },
          "name": "stdout",
          "output_type": "stream",
          "text": [
            "loss 0.1112 - iou 0.8343 - val_loss 0.1795 - val_iou 0.5326\n",
            "Epoch [260/500]\n"
          ]
        },
        {
          "metadata": {
            "tags": null
          },
          "name": "stderr",
          "output_type": "stream",
          "text": [
            "100%|██████████| 48/48 [01:17<00:00,  1.62s/it, loss=0.113, iou=0.823]\n",
            "100%|██████████| 6/6 [00:04<00:00,  1.24it/s, loss=0.418, iou=0.292]\n",
            "  0%|          | 0/48 [00:00<?, ?it/s]"
          ]
        },
        {
          "metadata": {
            "tags": null
          },
          "name": "stdout",
          "output_type": "stream",
          "text": [
            "loss 0.1126 - iou 0.8226 - val_loss 0.4185 - val_iou 0.2916\n",
            "Epoch [261/500]\n"
          ]
        },
        {
          "metadata": {
            "tags": null
          },
          "name": "stderr",
          "output_type": "stream",
          "text": [
            "100%|██████████| 48/48 [01:18<00:00,  1.64s/it, loss=0.113, iou=0.826]\n",
            "100%|██████████| 6/6 [00:04<00:00,  1.23it/s, loss=0.336, iou=0.0478]\n",
            "  0%|          | 0/48 [00:00<?, ?it/s]"
          ]
        },
        {
          "metadata": {
            "tags": null
          },
          "name": "stdout",
          "output_type": "stream",
          "text": [
            "loss 0.1131 - iou 0.8262 - val_loss 0.3356 - val_iou 0.0478\n",
            "Epoch [262/500]\n"
          ]
        },
        {
          "metadata": {
            "tags": null
          },
          "name": "stderr",
          "output_type": "stream",
          "text": [
            "100%|██████████| 48/48 [01:18<00:00,  1.63s/it, loss=0.114, iou=0.83]\n",
            "100%|██████████| 6/6 [00:04<00:00,  1.22it/s, loss=0.253, iou=0.348]\n",
            "  0%|          | 0/48 [00:00<?, ?it/s]"
          ]
        },
        {
          "metadata": {
            "tags": null
          },
          "name": "stdout",
          "output_type": "stream",
          "text": [
            "loss 0.1140 - iou 0.8299 - val_loss 0.2527 - val_iou 0.3478\n",
            "Epoch [263/500]\n"
          ]
        },
        {
          "metadata": {
            "tags": null
          },
          "name": "stderr",
          "output_type": "stream",
          "text": [
            "100%|██████████| 48/48 [01:18<00:00,  1.63s/it, loss=0.113, iou=0.826]\n",
            "100%|██████████| 6/6 [00:04<00:00,  1.25it/s, loss=0.273, iou=0.141]\n",
            "  0%|          | 0/48 [00:00<?, ?it/s]"
          ]
        },
        {
          "metadata": {
            "tags": null
          },
          "name": "stdout",
          "output_type": "stream",
          "text": [
            "loss 0.1127 - iou 0.8255 - val_loss 0.2726 - val_iou 0.1414\n",
            "Epoch [264/500]\n"
          ]
        },
        {
          "metadata": {
            "tags": null
          },
          "name": "stderr",
          "output_type": "stream",
          "text": [
            "100%|██████████| 48/48 [01:18<00:00,  1.63s/it, loss=0.114, iou=0.83]\n",
            "100%|██████████| 6/6 [00:04<00:00,  1.27it/s, loss=0.331, iou=0.254]\n",
            "  0%|          | 0/48 [00:00<?, ?it/s]"
          ]
        },
        {
          "metadata": {
            "tags": null
          },
          "name": "stdout",
          "output_type": "stream",
          "text": [
            "loss 0.1140 - iou 0.8296 - val_loss 0.3313 - val_iou 0.2542\n",
            "Epoch [265/500]\n"
          ]
        },
        {
          "metadata": {
            "tags": null
          },
          "name": "stderr",
          "output_type": "stream",
          "text": [
            "100%|██████████| 48/48 [01:18<00:00,  1.63s/it, loss=0.111, iou=0.839]\n",
            "100%|██████████| 6/6 [00:04<00:00,  1.28it/s, loss=0.2, iou=0.476]\n",
            "  0%|          | 0/48 [00:00<?, ?it/s]"
          ]
        },
        {
          "metadata": {
            "tags": null
          },
          "name": "stdout",
          "output_type": "stream",
          "text": [
            "loss 0.1105 - iou 0.8386 - val_loss 0.2003 - val_iou 0.4762\n",
            "Epoch [266/500]\n"
          ]
        },
        {
          "metadata": {
            "tags": null
          },
          "name": "stderr",
          "output_type": "stream",
          "text": [
            "100%|██████████| 48/48 [01:19<00:00,  1.65s/it, loss=0.112, iou=0.833]\n",
            "100%|██████████| 6/6 [00:04<00:00,  1.25it/s, loss=0.301, iou=0.218]\n",
            "  0%|          | 0/48 [00:00<?, ?it/s]"
          ]
        },
        {
          "metadata": {
            "tags": null
          },
          "name": "stdout",
          "output_type": "stream",
          "text": [
            "loss 0.1119 - iou 0.8335 - val_loss 0.3015 - val_iou 0.2181\n",
            "Epoch [267/500]\n"
          ]
        },
        {
          "metadata": {
            "tags": null
          },
          "name": "stderr",
          "output_type": "stream",
          "text": [
            "100%|██████████| 48/48 [01:17<00:00,  1.62s/it, loss=0.112, iou=0.831]\n",
            "100%|██████████| 6/6 [00:04<00:00,  1.23it/s, loss=0.232, iou=0.42]\n",
            "  0%|          | 0/48 [00:00<?, ?it/s]"
          ]
        },
        {
          "metadata": {
            "tags": null
          },
          "name": "stdout",
          "output_type": "stream",
          "text": [
            "loss 0.1118 - iou 0.8313 - val_loss 0.2323 - val_iou 0.4200\n",
            "Epoch [268/500]\n"
          ]
        },
        {
          "metadata": {
            "tags": null
          },
          "name": "stderr",
          "output_type": "stream",
          "text": [
            "100%|██████████| 48/48 [01:18<00:00,  1.63s/it, loss=0.115, iou=0.819]\n",
            "100%|██████████| 6/6 [00:04<00:00,  1.23it/s, loss=0.295, iou=0.376]\n",
            "  0%|          | 0/48 [00:00<?, ?it/s]"
          ]
        },
        {
          "metadata": {
            "tags": null
          },
          "name": "stdout",
          "output_type": "stream",
          "text": [
            "loss 0.1146 - iou 0.8190 - val_loss 0.2952 - val_iou 0.3764\n",
            "Epoch [269/500]\n"
          ]
        },
        {
          "metadata": {
            "tags": null
          },
          "name": "stderr",
          "output_type": "stream",
          "text": [
            "100%|██████████| 48/48 [01:19<00:00,  1.65s/it, loss=0.115, iou=0.822]\n",
            "100%|██████████| 6/6 [00:04<00:00,  1.33it/s, loss=0.228, iou=0.481]\n",
            "  0%|          | 0/48 [00:00<?, ?it/s]"
          ]
        },
        {
          "metadata": {
            "tags": null
          },
          "name": "stdout",
          "output_type": "stream",
          "text": [
            "loss 0.1146 - iou 0.8218 - val_loss 0.2277 - val_iou 0.4806\n",
            "Epoch [270/500]\n"
          ]
        },
        {
          "metadata": {
            "tags": null
          },
          "name": "stderr",
          "output_type": "stream",
          "text": [
            "100%|██████████| 48/48 [01:18<00:00,  1.64s/it, loss=0.109, iou=0.843]\n",
            "100%|██████████| 6/6 [00:04<00:00,  1.33it/s, loss=0.168, iou=0.6]\n",
            "  0%|          | 0/48 [00:00<?, ?it/s]"
          ]
        },
        {
          "metadata": {
            "tags": null
          },
          "name": "stdout",
          "output_type": "stream",
          "text": [
            "loss 0.1086 - iou 0.8426 - val_loss 0.1680 - val_iou 0.5999\n",
            "Epoch [271/500]\n"
          ]
        },
        {
          "metadata": {
            "tags": null
          },
          "name": "stderr",
          "output_type": "stream",
          "text": [
            "100%|██████████| 48/48 [01:18<00:00,  1.64s/it, loss=0.112, iou=0.836]\n",
            "100%|██████████| 6/6 [00:04<00:00,  1.33it/s, loss=0.41, iou=0.0223]\n",
            "  0%|          | 0/48 [00:00<?, ?it/s]"
          ]
        },
        {
          "metadata": {
            "tags": null
          },
          "name": "stdout",
          "output_type": "stream",
          "text": [
            "loss 0.1120 - iou 0.8362 - val_loss 0.4098 - val_iou 0.0223\n",
            "Epoch [272/500]\n"
          ]
        },
        {
          "metadata": {
            "tags": null
          },
          "name": "stderr",
          "output_type": "stream",
          "text": [
            "100%|██████████| 48/48 [01:18<00:00,  1.64s/it, loss=0.113, iou=0.834]\n",
            "100%|██████████| 6/6 [00:04<00:00,  1.28it/s, loss=0.316, iou=0.158]\n",
            "  0%|          | 0/48 [00:00<?, ?it/s]"
          ]
        },
        {
          "metadata": {
            "tags": null
          },
          "name": "stdout",
          "output_type": "stream",
          "text": [
            "loss 0.1128 - iou 0.8343 - val_loss 0.3156 - val_iou 0.1584\n",
            "Epoch [273/500]\n"
          ]
        },
        {
          "metadata": {
            "tags": null
          },
          "name": "stderr",
          "output_type": "stream",
          "text": [
            "100%|██████████| 48/48 [01:18<00:00,  1.64s/it, loss=0.116, iou=0.808]\n",
            "100%|██████████| 6/6 [00:04<00:00,  1.27it/s, loss=0.23, iou=0.388]\n",
            "  0%|          | 0/48 [00:00<?, ?it/s]"
          ]
        },
        {
          "metadata": {
            "tags": null
          },
          "name": "stdout",
          "output_type": "stream",
          "text": [
            "loss 0.1162 - iou 0.8082 - val_loss 0.2300 - val_iou 0.3880\n",
            "Epoch [274/500]\n"
          ]
        },
        {
          "metadata": {
            "tags": null
          },
          "name": "stderr",
          "output_type": "stream",
          "text": [
            "100%|██████████| 48/48 [01:19<00:00,  1.66s/it, loss=0.112, iou=0.832]\n",
            "100%|██████████| 6/6 [00:04<00:00,  1.26it/s, loss=0.241, iou=0.476]\n",
            "  0%|          | 0/48 [00:00<?, ?it/s]"
          ]
        },
        {
          "metadata": {
            "tags": null
          },
          "name": "stdout",
          "output_type": "stream",
          "text": [
            "loss 0.1118 - iou 0.8324 - val_loss 0.2406 - val_iou 0.4762\n",
            "Epoch [275/500]\n"
          ]
        },
        {
          "metadata": {
            "tags": null
          },
          "name": "stderr",
          "output_type": "stream",
          "text": [
            "100%|██████████| 48/48 [01:18<00:00,  1.63s/it, loss=0.112, iou=0.83]\n",
            "100%|██████████| 6/6 [00:04<00:00,  1.26it/s, loss=0.292, iou=0.495]\n",
            "  0%|          | 0/48 [00:00<?, ?it/s]"
          ]
        },
        {
          "metadata": {
            "tags": null
          },
          "name": "stdout",
          "output_type": "stream",
          "text": [
            "loss 0.1118 - iou 0.8297 - val_loss 0.2922 - val_iou 0.4954\n",
            "Epoch [276/500]\n"
          ]
        },
        {
          "metadata": {
            "tags": null
          },
          "name": "stderr",
          "output_type": "stream",
          "text": [
            "100%|██████████| 48/48 [01:18<00:00,  1.64s/it, loss=0.115, iou=0.829]\n",
            "100%|██████████| 6/6 [00:04<00:00,  1.24it/s, loss=0.226, iou=0.348]\n",
            "  0%|          | 0/48 [00:00<?, ?it/s]"
          ]
        },
        {
          "metadata": {
            "tags": null
          },
          "name": "stdout",
          "output_type": "stream",
          "text": [
            "loss 0.1149 - iou 0.8292 - val_loss 0.2260 - val_iou 0.3481\n",
            "Epoch [277/500]\n"
          ]
        },
        {
          "metadata": {
            "tags": null
          },
          "name": "stderr",
          "output_type": "stream",
          "text": [
            "100%|██████████| 48/48 [01:18<00:00,  1.64s/it, loss=0.116, iou=0.816]\n",
            "100%|██████████| 6/6 [00:04<00:00,  1.23it/s, loss=0.269, iou=0.288]\n",
            "  0%|          | 0/48 [00:00<?, ?it/s]"
          ]
        },
        {
          "metadata": {
            "tags": null
          },
          "name": "stdout",
          "output_type": "stream",
          "text": [
            "loss 0.1162 - iou 0.8158 - val_loss 0.2694 - val_iou 0.2878\n",
            "Epoch [278/500]\n"
          ]
        },
        {
          "metadata": {
            "tags": null
          },
          "name": "stderr",
          "output_type": "stream",
          "text": [
            "100%|██████████| 48/48 [01:18<00:00,  1.63s/it, loss=0.112, iou=0.828]\n",
            "100%|██████████| 6/6 [00:04<00:00,  1.22it/s, loss=0.209, iou=0.409]\n",
            "  0%|          | 0/48 [00:00<?, ?it/s]"
          ]
        },
        {
          "metadata": {
            "tags": null
          },
          "name": "stdout",
          "output_type": "stream",
          "text": [
            "loss 0.1121 - iou 0.8280 - val_loss 0.2086 - val_iou 0.4089\n",
            "Epoch [279/500]\n"
          ]
        },
        {
          "metadata": {
            "tags": null
          },
          "name": "stderr",
          "output_type": "stream",
          "text": [
            "100%|██████████| 48/48 [01:17<00:00,  1.62s/it, loss=0.111, iou=0.837]\n",
            "100%|██████████| 6/6 [00:04<00:00,  1.23it/s, loss=0.225, iou=0.291]\n",
            "  0%|          | 0/48 [00:00<?, ?it/s]"
          ]
        },
        {
          "metadata": {
            "tags": null
          },
          "name": "stdout",
          "output_type": "stream",
          "text": [
            "loss 0.1105 - iou 0.8370 - val_loss 0.2254 - val_iou 0.2909\n",
            "Epoch [280/500]\n"
          ]
        },
        {
          "metadata": {
            "tags": null
          },
          "name": "stderr",
          "output_type": "stream",
          "text": [
            "100%|██████████| 48/48 [01:18<00:00,  1.64s/it, loss=0.116, iou=0.819]\n",
            "100%|██████████| 6/6 [00:04<00:00,  1.25it/s, loss=0.27, iou=0.137]\n",
            "  0%|          | 0/48 [00:00<?, ?it/s]"
          ]
        },
        {
          "metadata": {
            "tags": null
          },
          "name": "stdout",
          "output_type": "stream",
          "text": [
            "loss 0.1156 - iou 0.8188 - val_loss 0.2705 - val_iou 0.1371\n",
            "Epoch [281/500]\n"
          ]
        },
        {
          "metadata": {
            "tags": null
          },
          "name": "stderr",
          "output_type": "stream",
          "text": [
            "100%|██████████| 48/48 [01:17<00:00,  1.62s/it, loss=0.114, iou=0.832]\n",
            "100%|██████████| 6/6 [00:04<00:00,  1.23it/s, loss=0.164, iou=0.684]\n",
            "  0%|          | 0/48 [00:00<?, ?it/s]"
          ]
        },
        {
          "metadata": {
            "tags": null
          },
          "name": "stdout",
          "output_type": "stream",
          "text": [
            "loss 0.1143 - iou 0.8315 - val_loss 0.1641 - val_iou 0.6839\n",
            "=> saved best model\n",
            "Epoch [282/500]\n"
          ]
        },
        {
          "metadata": {
            "tags": null
          },
          "name": "stderr",
          "output_type": "stream",
          "text": [
            "100%|██████████| 48/48 [01:18<00:00,  1.63s/it, loss=0.111, iou=0.831]\n",
            "100%|██████████| 6/6 [00:04<00:00,  1.26it/s, loss=0.215, iou=0.429]\n",
            "  0%|          | 0/48 [00:00<?, ?it/s]"
          ]
        },
        {
          "metadata": {
            "tags": null
          },
          "name": "stdout",
          "output_type": "stream",
          "text": [
            "loss 0.1110 - iou 0.8307 - val_loss 0.2154 - val_iou 0.4287\n",
            "Epoch [283/500]\n"
          ]
        },
        {
          "metadata": {
            "tags": null
          },
          "name": "stderr",
          "output_type": "stream",
          "text": [
            "100%|██████████| 48/48 [01:19<00:00,  1.65s/it, loss=0.11, iou=0.84]\n",
            "100%|██████████| 6/6 [00:04<00:00,  1.22it/s, loss=0.245, iou=0.416]\n",
            "  0%|          | 0/48 [00:00<?, ?it/s]"
          ]
        },
        {
          "metadata": {
            "tags": null
          },
          "name": "stdout",
          "output_type": "stream",
          "text": [
            "loss 0.1095 - iou 0.8398 - val_loss 0.2454 - val_iou 0.4160\n",
            "Epoch [284/500]\n"
          ]
        },
        {
          "metadata": {
            "tags": null
          },
          "name": "stderr",
          "output_type": "stream",
          "text": [
            "100%|██████████| 48/48 [01:18<00:00,  1.63s/it, loss=0.118, iou=0.802]\n",
            "100%|██████████| 6/6 [00:04<00:00,  1.22it/s, loss=0.386, iou=0.00389]\n",
            "  0%|          | 0/48 [00:00<?, ?it/s]"
          ]
        },
        {
          "metadata": {
            "tags": null
          },
          "name": "stdout",
          "output_type": "stream",
          "text": [
            "loss 0.1176 - iou 0.8017 - val_loss 0.3858 - val_iou 0.0039\n",
            "Epoch [285/500]\n"
          ]
        },
        {
          "metadata": {
            "tags": null
          },
          "name": "stderr",
          "output_type": "stream",
          "text": [
            "100%|██████████| 48/48 [01:18<00:00,  1.63s/it, loss=0.117, iou=0.824]\n",
            "100%|██████████| 6/6 [00:04<00:00,  1.25it/s, loss=0.242, iou=0.433]\n",
            "  0%|          | 0/48 [00:00<?, ?it/s]"
          ]
        },
        {
          "metadata": {
            "tags": null
          },
          "name": "stdout",
          "output_type": "stream",
          "text": [
            "loss 0.1166 - iou 0.8237 - val_loss 0.2419 - val_iou 0.4330\n",
            "Epoch [286/500]\n"
          ]
        },
        {
          "metadata": {
            "tags": null
          },
          "name": "stderr",
          "output_type": "stream",
          "text": [
            "100%|██████████| 48/48 [01:18<00:00,  1.63s/it, loss=0.115, iou=0.815]\n",
            "100%|██████████| 6/6 [00:04<00:00,  1.22it/s, loss=0.238, iou=0.303]\n",
            "  0%|          | 0/48 [00:00<?, ?it/s]"
          ]
        },
        {
          "metadata": {
            "tags": null
          },
          "name": "stdout",
          "output_type": "stream",
          "text": [
            "loss 0.1151 - iou 0.8152 - val_loss 0.2385 - val_iou 0.3034\n",
            "Epoch [287/500]\n"
          ]
        },
        {
          "metadata": {
            "tags": null
          },
          "name": "stderr",
          "output_type": "stream",
          "text": [
            "100%|██████████| 48/48 [01:18<00:00,  1.63s/it, loss=0.112, iou=0.837]\n",
            "100%|██████████| 6/6 [00:04<00:00,  1.27it/s, loss=0.218, iou=0.416]\n",
            "  0%|          | 0/48 [00:00<?, ?it/s]"
          ]
        },
        {
          "metadata": {
            "tags": null
          },
          "name": "stdout",
          "output_type": "stream",
          "text": [
            "loss 0.1115 - iou 0.8375 - val_loss 0.2181 - val_iou 0.4162\n",
            "Epoch [288/500]\n"
          ]
        },
        {
          "metadata": {
            "tags": null
          },
          "name": "stderr",
          "output_type": "stream",
          "text": [
            "100%|██████████| 48/48 [01:19<00:00,  1.65s/it, loss=0.111, iou=0.839]\n",
            "100%|██████████| 6/6 [00:04<00:00,  1.32it/s, loss=0.497, iou=0.00808]\n",
            "  0%|          | 0/48 [00:00<?, ?it/s]"
          ]
        },
        {
          "metadata": {
            "tags": null
          },
          "name": "stdout",
          "output_type": "stream",
          "text": [
            "loss 0.1106 - iou 0.8388 - val_loss 0.4975 - val_iou 0.0081\n",
            "Epoch [289/500]\n"
          ]
        },
        {
          "metadata": {
            "tags": null
          },
          "name": "stderr",
          "output_type": "stream",
          "text": [
            "100%|██████████| 48/48 [01:18<00:00,  1.64s/it, loss=0.112, iou=0.834]\n",
            "100%|██████████| 6/6 [00:04<00:00,  1.36it/s, loss=0.263, iou=0.435]\n",
            "  0%|          | 0/48 [00:00<?, ?it/s]"
          ]
        },
        {
          "metadata": {
            "tags": null
          },
          "name": "stdout",
          "output_type": "stream",
          "text": [
            "loss 0.1120 - iou 0.8343 - val_loss 0.2628 - val_iou 0.4351\n",
            "Epoch [290/500]\n"
          ]
        },
        {
          "metadata": {
            "tags": null
          },
          "name": "stderr",
          "output_type": "stream",
          "text": [
            "100%|██████████| 48/48 [01:18<00:00,  1.64s/it, loss=0.109, iou=0.848]\n",
            "100%|██████████| 6/6 [00:04<00:00,  1.36it/s, loss=0.407, iou=1.3e-10]\n",
            "  0%|          | 0/48 [00:00<?, ?it/s]"
          ]
        },
        {
          "metadata": {
            "tags": null
          },
          "name": "stdout",
          "output_type": "stream",
          "text": [
            "loss 0.1089 - iou 0.8483 - val_loss 0.4073 - val_iou 0.0000\n",
            "Epoch [291/500]\n"
          ]
        },
        {
          "metadata": {
            "tags": null
          },
          "name": "stderr",
          "output_type": "stream",
          "text": [
            "100%|██████████| 48/48 [01:19<00:00,  1.65s/it, loss=0.111, iou=0.833]\n",
            "100%|██████████| 6/6 [00:04<00:00,  1.38it/s, loss=0.229, iou=0.415]\n",
            "  0%|          | 0/48 [00:00<?, ?it/s]"
          ]
        },
        {
          "metadata": {
            "tags": null
          },
          "name": "stdout",
          "output_type": "stream",
          "text": [
            "loss 0.1114 - iou 0.8331 - val_loss 0.2289 - val_iou 0.4155\n",
            "Epoch [292/500]\n"
          ]
        },
        {
          "metadata": {
            "tags": null
          },
          "name": "stderr",
          "output_type": "stream",
          "text": [
            "100%|██████████| 48/48 [01:18<00:00,  1.64s/it, loss=0.114, iou=0.818]\n",
            "100%|██████████| 6/6 [00:04<00:00,  1.39it/s, loss=0.312, iou=0.0789]\n",
            "  0%|          | 0/48 [00:00<?, ?it/s]"
          ]
        },
        {
          "metadata": {
            "tags": null
          },
          "name": "stdout",
          "output_type": "stream",
          "text": [
            "loss 0.1138 - iou 0.8184 - val_loss 0.3119 - val_iou 0.0789\n",
            "Epoch [293/500]\n"
          ]
        },
        {
          "metadata": {
            "tags": null
          },
          "name": "stderr",
          "output_type": "stream",
          "text": [
            "100%|██████████| 48/48 [01:18<00:00,  1.63s/it, loss=0.111, iou=0.834]\n",
            "100%|██████████| 6/6 [00:04<00:00,  1.37it/s, loss=0.299, iou=0.046]\n",
            "  0%|          | 0/48 [00:00<?, ?it/s]"
          ]
        },
        {
          "metadata": {
            "tags": null
          },
          "name": "stdout",
          "output_type": "stream",
          "text": [
            "loss 0.1114 - iou 0.8338 - val_loss 0.2986 - val_iou 0.0460\n",
            "Epoch [294/500]\n"
          ]
        },
        {
          "metadata": {
            "tags": null
          },
          "name": "stderr",
          "output_type": "stream",
          "text": [
            "100%|██████████| 48/48 [01:20<00:00,  1.68s/it, loss=0.114, iou=0.835]\n",
            "100%|██████████| 6/6 [00:04<00:00,  1.40it/s, loss=0.335, iou=0.0814]\n",
            "  0%|          | 0/48 [00:00<?, ?it/s]"
          ]
        },
        {
          "metadata": {
            "tags": null
          },
          "name": "stdout",
          "output_type": "stream",
          "text": [
            "loss 0.1135 - iou 0.8354 - val_loss 0.3352 - val_iou 0.0814\n",
            "Epoch [295/500]\n"
          ]
        },
        {
          "metadata": {
            "tags": null
          },
          "name": "stderr",
          "output_type": "stream",
          "text": [
            "100%|██████████| 48/48 [01:18<00:00,  1.65s/it, loss=0.11, iou=0.83]\n",
            "100%|██████████| 6/6 [00:04<00:00,  1.41it/s, loss=0.25, iou=0.378]\n",
            "  0%|          | 0/48 [00:00<?, ?it/s]"
          ]
        },
        {
          "metadata": {
            "tags": null
          },
          "name": "stdout",
          "output_type": "stream",
          "text": [
            "loss 0.1105 - iou 0.8304 - val_loss 0.2500 - val_iou 0.3781\n",
            "Epoch [296/500]\n"
          ]
        },
        {
          "metadata": {
            "tags": null
          },
          "name": "stderr",
          "output_type": "stream",
          "text": [
            "100%|██████████| 48/48 [01:18<00:00,  1.63s/it, loss=0.113, iou=0.826]\n",
            "100%|██████████| 6/6 [00:04<00:00,  1.40it/s, loss=0.222, iou=0.412]\n",
            "  0%|          | 0/48 [00:00<?, ?it/s]"
          ]
        },
        {
          "metadata": {
            "tags": null
          },
          "name": "stdout",
          "output_type": "stream",
          "text": [
            "loss 0.1127 - iou 0.8259 - val_loss 0.2222 - val_iou 0.4122\n",
            "Epoch [297/500]\n"
          ]
        },
        {
          "metadata": {
            "tags": null
          },
          "name": "stderr",
          "output_type": "stream",
          "text": [
            "100%|██████████| 48/48 [01:19<00:00,  1.66s/it, loss=0.106, iou=0.847]\n",
            "100%|██████████| 6/6 [00:04<00:00,  1.42it/s, loss=0.184, iou=0.542]\n",
            "  0%|          | 0/48 [00:00<?, ?it/s]"
          ]
        },
        {
          "metadata": {
            "tags": null
          },
          "name": "stdout",
          "output_type": "stream",
          "text": [
            "loss 0.1064 - iou 0.8471 - val_loss 0.1843 - val_iou 0.5422\n",
            "Epoch [298/500]\n"
          ]
        },
        {
          "metadata": {
            "tags": null
          },
          "name": "stderr",
          "output_type": "stream",
          "text": [
            "100%|██████████| 48/48 [01:18<00:00,  1.64s/it, loss=0.108, iou=0.842]\n",
            "100%|██████████| 6/6 [00:04<00:00,  1.41it/s, loss=0.189, iou=0.572]\n",
            "  0%|          | 0/48 [00:00<?, ?it/s]"
          ]
        },
        {
          "metadata": {
            "tags": null
          },
          "name": "stdout",
          "output_type": "stream",
          "text": [
            "loss 0.1080 - iou 0.8419 - val_loss 0.1890 - val_iou 0.5725\n",
            "Epoch [299/500]\n"
          ]
        },
        {
          "metadata": {
            "tags": null
          },
          "name": "stderr",
          "output_type": "stream",
          "text": [
            "100%|██████████| 48/48 [01:18<00:00,  1.64s/it, loss=0.112, iou=0.833]\n",
            "100%|██████████| 6/6 [00:04<00:00,  1.38it/s, loss=0.219, iou=0.456]\n",
            "  0%|          | 0/48 [00:00<?, ?it/s]"
          ]
        },
        {
          "metadata": {
            "tags": null
          },
          "name": "stdout",
          "output_type": "stream",
          "text": [
            "loss 0.1118 - iou 0.8332 - val_loss 0.2186 - val_iou 0.4561\n",
            "Epoch [300/500]\n"
          ]
        },
        {
          "metadata": {
            "tags": null
          },
          "name": "stderr",
          "output_type": "stream",
          "text": [
            "100%|██████████| 48/48 [01:19<00:00,  1.66s/it, loss=0.111, iou=0.836]\n",
            "100%|██████████| 6/6 [00:04<00:00,  1.39it/s, loss=0.27, iou=0.272]\n",
            "  0%|          | 0/48 [00:00<?, ?it/s]"
          ]
        },
        {
          "metadata": {
            "tags": null
          },
          "name": "stdout",
          "output_type": "stream",
          "text": [
            "loss 0.1112 - iou 0.8364 - val_loss 0.2700 - val_iou 0.2716\n",
            "Epoch [301/500]\n"
          ]
        },
        {
          "metadata": {
            "tags": null
          },
          "name": "stderr",
          "output_type": "stream",
          "text": [
            "100%|██████████| 48/48 [01:18<00:00,  1.64s/it, loss=0.112, iou=0.823]\n",
            "100%|██████████| 6/6 [00:04<00:00,  1.39it/s, loss=0.323, iou=0.0298]\n",
            "  0%|          | 0/48 [00:00<?, ?it/s]"
          ]
        },
        {
          "metadata": {
            "tags": null
          },
          "name": "stdout",
          "output_type": "stream",
          "text": [
            "loss 0.1116 - iou 0.8226 - val_loss 0.3233 - val_iou 0.0298\n",
            "Epoch [302/500]\n"
          ]
        },
        {
          "metadata": {
            "tags": null
          },
          "name": "stderr",
          "output_type": "stream",
          "text": [
            "100%|██████████| 48/48 [01:18<00:00,  1.63s/it, loss=0.11, iou=0.84]\n",
            "100%|██████████| 6/6 [00:04<00:00,  1.25it/s, loss=0.32, iou=0.00529]\n",
            "  0%|          | 0/48 [00:00<?, ?it/s]"
          ]
        },
        {
          "metadata": {
            "tags": null
          },
          "name": "stdout",
          "output_type": "stream",
          "text": [
            "loss 0.1101 - iou 0.8396 - val_loss 0.3201 - val_iou 0.0053\n",
            "Epoch [303/500]\n"
          ]
        },
        {
          "metadata": {
            "tags": null
          },
          "name": "stderr",
          "output_type": "stream",
          "text": [
            "100%|██████████| 48/48 [01:18<00:00,  1.64s/it, loss=0.109, iou=0.837]\n",
            "100%|██████████| 6/6 [00:04<00:00,  1.37it/s, loss=0.236, iou=0.529]\n",
            "  0%|          | 0/48 [00:00<?, ?it/s]"
          ]
        },
        {
          "metadata": {
            "tags": null
          },
          "name": "stdout",
          "output_type": "stream",
          "text": [
            "loss 0.1090 - iou 0.8365 - val_loss 0.2357 - val_iou 0.5292\n",
            "Epoch [304/500]\n"
          ]
        },
        {
          "metadata": {
            "tags": null
          },
          "name": "stderr",
          "output_type": "stream",
          "text": [
            "100%|██████████| 48/48 [01:18<00:00,  1.64s/it, loss=0.112, iou=0.833]\n",
            "100%|██████████| 6/6 [00:04<00:00,  1.35it/s, loss=0.31, iou=0.17]\n",
            "  0%|          | 0/48 [00:00<?, ?it/s]"
          ]
        },
        {
          "metadata": {
            "tags": null
          },
          "name": "stdout",
          "output_type": "stream",
          "text": [
            "loss 0.1125 - iou 0.8331 - val_loss 0.3103 - val_iou 0.1697\n",
            "Epoch [305/500]\n"
          ]
        },
        {
          "metadata": {
            "tags": null
          },
          "name": "stderr",
          "output_type": "stream",
          "text": [
            "100%|██████████| 48/48 [01:19<00:00,  1.66s/it, loss=0.11, iou=0.837]\n",
            "100%|██████████| 6/6 [00:04<00:00,  1.37it/s, loss=0.353, iou=0.258]\n",
            "  0%|          | 0/48 [00:00<?, ?it/s]"
          ]
        },
        {
          "metadata": {
            "tags": null
          },
          "name": "stdout",
          "output_type": "stream",
          "text": [
            "loss 0.1102 - iou 0.8368 - val_loss 0.3530 - val_iou 0.2577\n",
            "Epoch [306/500]\n"
          ]
        },
        {
          "metadata": {
            "tags": null
          },
          "name": "stderr",
          "output_type": "stream",
          "text": [
            "100%|██████████| 48/48 [01:18<00:00,  1.65s/it, loss=0.109, iou=0.837]\n",
            "100%|██████████| 6/6 [00:04<00:00,  1.37it/s, loss=0.205, iou=0.463]\n",
            "  0%|          | 0/48 [00:00<?, ?it/s]"
          ]
        },
        {
          "metadata": {
            "tags": null
          },
          "name": "stdout",
          "output_type": "stream",
          "text": [
            "loss 0.1090 - iou 0.8373 - val_loss 0.2053 - val_iou 0.4629\n",
            "Epoch [307/500]\n"
          ]
        },
        {
          "metadata": {
            "tags": null
          },
          "name": "stderr",
          "output_type": "stream",
          "text": [
            "100%|██████████| 48/48 [01:18<00:00,  1.64s/it, loss=0.112, iou=0.824]\n",
            "100%|██████████| 6/6 [00:04<00:00,  1.35it/s, loss=0.271, iou=0.167]\n",
            "  0%|          | 0/48 [00:00<?, ?it/s]"
          ]
        },
        {
          "metadata": {
            "tags": null
          },
          "name": "stdout",
          "output_type": "stream",
          "text": [
            "loss 0.1116 - iou 0.8242 - val_loss 0.2711 - val_iou 0.1668\n",
            "Epoch [308/500]\n"
          ]
        },
        {
          "metadata": {
            "tags": null
          },
          "name": "stderr",
          "output_type": "stream",
          "text": [
            "100%|██████████| 48/48 [01:19<00:00,  1.66s/it, loss=0.109, iou=0.839]\n",
            "100%|██████████| 6/6 [00:04<00:00,  1.39it/s, loss=0.233, iou=0.335]\n",
            "  0%|          | 0/48 [00:00<?, ?it/s]"
          ]
        },
        {
          "metadata": {
            "tags": null
          },
          "name": "stdout",
          "output_type": "stream",
          "text": [
            "loss 0.1089 - iou 0.8388 - val_loss 0.2334 - val_iou 0.3346\n",
            "Epoch [309/500]\n"
          ]
        },
        {
          "metadata": {
            "tags": null
          },
          "name": "stderr",
          "output_type": "stream",
          "text": [
            "100%|██████████| 48/48 [01:18<00:00,  1.63s/it, loss=0.107, iou=0.84]\n",
            "100%|██████████| 6/6 [00:04<00:00,  1.34it/s, loss=0.19, iou=0.47]\n",
            "  0%|          | 0/48 [00:00<?, ?it/s]"
          ]
        },
        {
          "metadata": {
            "tags": null
          },
          "name": "stdout",
          "output_type": "stream",
          "text": [
            "loss 0.1073 - iou 0.8396 - val_loss 0.1899 - val_iou 0.4698\n",
            "Epoch [310/500]\n"
          ]
        },
        {
          "metadata": {
            "tags": null
          },
          "name": "stderr",
          "output_type": "stream",
          "text": [
            "100%|██████████| 48/48 [01:18<00:00,  1.64s/it, loss=0.111, iou=0.837]\n",
            "100%|██████████| 6/6 [00:04<00:00,  1.37it/s, loss=0.415, iou=0.0542]\n",
            "  0%|          | 0/48 [00:00<?, ?it/s]"
          ]
        },
        {
          "metadata": {
            "tags": null
          },
          "name": "stdout",
          "output_type": "stream",
          "text": [
            "loss 0.1106 - iou 0.8371 - val_loss 0.4146 - val_iou 0.0542\n",
            "Epoch [311/500]\n"
          ]
        },
        {
          "metadata": {
            "tags": null
          },
          "name": "stderr",
          "output_type": "stream",
          "text": [
            "100%|██████████| 48/48 [01:19<00:00,  1.65s/it, loss=0.112, iou=0.832]\n",
            "100%|██████████| 6/6 [00:04<00:00,  1.36it/s, loss=0.326, iou=0.0853]\n",
            "  0%|          | 0/48 [00:00<?, ?it/s]"
          ]
        },
        {
          "metadata": {
            "tags": null
          },
          "name": "stdout",
          "output_type": "stream",
          "text": [
            "loss 0.1118 - iou 0.8323 - val_loss 0.3260 - val_iou 0.0853\n",
            "Epoch [312/500]\n"
          ]
        },
        {
          "metadata": {
            "tags": null
          },
          "name": "stderr",
          "output_type": "stream",
          "text": [
            "100%|██████████| 48/48 [01:18<00:00,  1.63s/it, loss=0.108, iou=0.843]\n",
            "100%|██████████| 6/6 [00:04<00:00,  1.31it/s, loss=0.193, iou=0.471]\n",
            "  0%|          | 0/48 [00:00<?, ?it/s]"
          ]
        },
        {
          "metadata": {
            "tags": null
          },
          "name": "stdout",
          "output_type": "stream",
          "text": [
            "loss 0.1085 - iou 0.8430 - val_loss 0.1934 - val_iou 0.4707\n",
            "Epoch [313/500]\n"
          ]
        },
        {
          "metadata": {
            "tags": null
          },
          "name": "stderr",
          "output_type": "stream",
          "text": [
            "100%|██████████| 48/48 [01:18<00:00,  1.63s/it, loss=0.11, iou=0.837]\n",
            "100%|██████████| 6/6 [00:04<00:00,  1.29it/s, loss=0.342, iou=0.0754]\n",
            "  0%|          | 0/48 [00:00<?, ?it/s]"
          ]
        },
        {
          "metadata": {
            "tags": null
          },
          "name": "stdout",
          "output_type": "stream",
          "text": [
            "loss 0.1103 - iou 0.8371 - val_loss 0.3424 - val_iou 0.0754\n",
            "Epoch [314/500]\n"
          ]
        },
        {
          "metadata": {
            "tags": null
          },
          "name": "stderr",
          "output_type": "stream",
          "text": [
            "100%|██████████| 48/48 [01:18<00:00,  1.63s/it, loss=0.111, iou=0.835]\n",
            "100%|██████████| 6/6 [00:04<00:00,  1.25it/s, loss=0.289, iou=0.0349]\n",
            "  0%|          | 0/48 [00:00<?, ?it/s]"
          ]
        },
        {
          "metadata": {
            "tags": null
          },
          "name": "stdout",
          "output_type": "stream",
          "text": [
            "loss 0.1107 - iou 0.8348 - val_loss 0.2891 - val_iou 0.0349\n",
            "Epoch [315/500]\n"
          ]
        },
        {
          "metadata": {
            "tags": null
          },
          "name": "stderr",
          "output_type": "stream",
          "text": [
            "100%|██████████| 48/48 [01:18<00:00,  1.64s/it, loss=0.112, iou=0.831]\n",
            "100%|██████████| 6/6 [00:04<00:00,  1.24it/s, loss=0.39, iou=0.000723]\n",
            "  0%|          | 0/48 [00:00<?, ?it/s]"
          ]
        },
        {
          "metadata": {
            "tags": null
          },
          "name": "stdout",
          "output_type": "stream",
          "text": [
            "loss 0.1119 - iou 0.8310 - val_loss 0.3900 - val_iou 0.0007\n",
            "Epoch [316/500]\n"
          ]
        },
        {
          "metadata": {
            "tags": null
          },
          "name": "stderr",
          "output_type": "stream",
          "text": [
            "100%|██████████| 48/48 [01:18<00:00,  1.63s/it, loss=0.113, iou=0.825]\n",
            "100%|██████████| 6/6 [00:04<00:00,  1.26it/s, loss=0.309, iou=0.114]\n",
            "  0%|          | 0/48 [00:00<?, ?it/s]"
          ]
        },
        {
          "metadata": {
            "tags": null
          },
          "name": "stdout",
          "output_type": "stream",
          "text": [
            "loss 0.1133 - iou 0.8247 - val_loss 0.3092 - val_iou 0.1140\n",
            "Epoch [317/500]\n"
          ]
        },
        {
          "metadata": {
            "tags": null
          },
          "name": "stderr",
          "output_type": "stream",
          "text": [
            "100%|██████████| 48/48 [01:18<00:00,  1.63s/it, loss=0.114, iou=0.825]\n",
            "100%|██████████| 6/6 [00:04<00:00,  1.25it/s, loss=0.252, iou=0.405]\n",
            "  0%|          | 0/48 [00:00<?, ?it/s]"
          ]
        },
        {
          "metadata": {
            "tags": null
          },
          "name": "stdout",
          "output_type": "stream",
          "text": [
            "loss 0.1142 - iou 0.8245 - val_loss 0.2520 - val_iou 0.4053\n",
            "Epoch [318/500]\n"
          ]
        },
        {
          "metadata": {
            "tags": null
          },
          "name": "stderr",
          "output_type": "stream",
          "text": [
            "100%|██████████| 48/48 [01:18<00:00,  1.63s/it, loss=0.112, iou=0.825]\n",
            "100%|██████████| 6/6 [00:04<00:00,  1.27it/s, loss=0.228, iou=0.309]\n",
            "  0%|          | 0/48 [00:00<?, ?it/s]"
          ]
        },
        {
          "metadata": {
            "tags": null
          },
          "name": "stdout",
          "output_type": "stream",
          "text": [
            "loss 0.1125 - iou 0.8251 - val_loss 0.2282 - val_iou 0.3094\n",
            "Epoch [319/500]\n"
          ]
        },
        {
          "metadata": {
            "tags": null
          },
          "name": "stderr",
          "output_type": "stream",
          "text": [
            "100%|██████████| 48/48 [01:18<00:00,  1.63s/it, loss=0.114, iou=0.817]\n",
            "100%|██████████| 6/6 [00:04<00:00,  1.24it/s, loss=0.278, iou=0.0857]\n",
            "  0%|          | 0/48 [00:00<?, ?it/s]"
          ]
        },
        {
          "metadata": {
            "tags": null
          },
          "name": "stdout",
          "output_type": "stream",
          "text": [
            "loss 0.1136 - iou 0.8174 - val_loss 0.2780 - val_iou 0.0857\n",
            "Epoch [320/500]\n"
          ]
        },
        {
          "metadata": {
            "tags": null
          },
          "name": "stderr",
          "output_type": "stream",
          "text": [
            "100%|██████████| 48/48 [01:18<00:00,  1.63s/it, loss=0.11, iou=0.842]\n",
            "100%|██████████| 6/6 [00:04<00:00,  1.24it/s, loss=0.205, iou=0.506]\n",
            "  0%|          | 0/48 [00:00<?, ?it/s]"
          ]
        },
        {
          "metadata": {
            "tags": null
          },
          "name": "stdout",
          "output_type": "stream",
          "text": [
            "loss 0.1100 - iou 0.8422 - val_loss 0.2048 - val_iou 0.5059\n",
            "Epoch [321/500]\n"
          ]
        },
        {
          "metadata": {
            "tags": null
          },
          "name": "stderr",
          "output_type": "stream",
          "text": [
            "100%|██████████| 48/48 [01:19<00:00,  1.65s/it, loss=0.108, iou=0.841]\n",
            "100%|██████████| 6/6 [00:04<00:00,  1.22it/s, loss=0.278, iou=0.163]\n",
            "  0%|          | 0/48 [00:00<?, ?it/s]"
          ]
        },
        {
          "metadata": {
            "tags": null
          },
          "name": "stdout",
          "output_type": "stream",
          "text": [
            "loss 0.1078 - iou 0.8415 - val_loss 0.2778 - val_iou 0.1627\n",
            "Epoch [322/500]\n"
          ]
        },
        {
          "metadata": {
            "tags": null
          },
          "name": "stderr",
          "output_type": "stream",
          "text": [
            "100%|██████████| 48/48 [01:18<00:00,  1.63s/it, loss=0.109, iou=0.842]\n",
            "100%|██████████| 6/6 [00:04<00:00,  1.24it/s, loss=0.293, iou=0.253]\n",
            "  0%|          | 0/48 [00:00<?, ?it/s]"
          ]
        },
        {
          "metadata": {
            "tags": null
          },
          "name": "stdout",
          "output_type": "stream",
          "text": [
            "loss 0.1090 - iou 0.8421 - val_loss 0.2929 - val_iou 0.2532\n",
            "Epoch [323/500]\n"
          ]
        },
        {
          "metadata": {
            "tags": null
          },
          "name": "stderr",
          "output_type": "stream",
          "text": [
            "100%|██████████| 48/48 [01:18<00:00,  1.63s/it, loss=0.11, iou=0.841]\n",
            "100%|██████████| 6/6 [00:04<00:00,  1.24it/s, loss=0.393, iou=0.0496]\n",
            "  0%|          | 0/48 [00:00<?, ?it/s]"
          ]
        },
        {
          "metadata": {
            "tags": null
          },
          "name": "stdout",
          "output_type": "stream",
          "text": [
            "loss 0.1095 - iou 0.8412 - val_loss 0.3933 - val_iou 0.0496\n",
            "Epoch [324/500]\n"
          ]
        },
        {
          "metadata": {
            "tags": null
          },
          "name": "stderr",
          "output_type": "stream",
          "text": [
            "100%|██████████| 48/48 [01:18<00:00,  1.64s/it, loss=0.11, iou=0.844]\n",
            "100%|██████████| 6/6 [00:04<00:00,  1.22it/s, loss=0.319, iou=0.148]\n",
            "  0%|          | 0/48 [00:00<?, ?it/s]"
          ]
        },
        {
          "metadata": {
            "tags": null
          },
          "name": "stdout",
          "output_type": "stream",
          "text": [
            "loss 0.1095 - iou 0.8441 - val_loss 0.3188 - val_iou 0.1480\n",
            "Epoch [325/500]\n"
          ]
        },
        {
          "metadata": {
            "tags": null
          },
          "name": "stderr",
          "output_type": "stream",
          "text": [
            "100%|██████████| 48/48 [01:17<00:00,  1.62s/it, loss=0.11, iou=0.84]\n",
            "100%|██████████| 6/6 [00:04<00:00,  1.21it/s, loss=0.138, iou=0.747]\n",
            "  0%|          | 0/48 [00:00<?, ?it/s]"
          ]
        },
        {
          "metadata": {
            "tags": null
          },
          "name": "stdout",
          "output_type": "stream",
          "text": [
            "loss 0.1105 - iou 0.8399 - val_loss 0.1379 - val_iou 0.7467\n",
            "=> saved best model\n",
            "Epoch [326/500]\n"
          ]
        },
        {
          "metadata": {
            "tags": null
          },
          "name": "stderr",
          "output_type": "stream",
          "text": [
            "100%|██████████| 48/48 [01:18<00:00,  1.63s/it, loss=0.107, iou=0.855]\n",
            "100%|██████████| 6/6 [00:04<00:00,  1.23it/s, loss=0.163, iou=0.644]\n",
            "  0%|          | 0/48 [00:00<?, ?it/s]"
          ]
        },
        {
          "metadata": {
            "tags": null
          },
          "name": "stdout",
          "output_type": "stream",
          "text": [
            "loss 0.1069 - iou 0.8546 - val_loss 0.1633 - val_iou 0.6445\n",
            "Epoch [327/500]\n"
          ]
        },
        {
          "metadata": {
            "tags": null
          },
          "name": "stderr",
          "output_type": "stream",
          "text": [
            "100%|██████████| 48/48 [01:18<00:00,  1.65s/it, loss=0.109, iou=0.844]\n",
            "100%|██████████| 6/6 [00:04<00:00,  1.26it/s, loss=0.302, iou=0.163]\n",
            "  0%|          | 0/48 [00:00<?, ?it/s]"
          ]
        },
        {
          "metadata": {
            "tags": null
          },
          "name": "stdout",
          "output_type": "stream",
          "text": [
            "loss 0.1087 - iou 0.8443 - val_loss 0.3021 - val_iou 0.1631\n",
            "Epoch [328/500]\n"
          ]
        },
        {
          "metadata": {
            "tags": null
          },
          "name": "stderr",
          "output_type": "stream",
          "text": [
            "100%|██████████| 48/48 [01:18<00:00,  1.64s/it, loss=0.106, iou=0.849]\n",
            "100%|██████████| 6/6 [00:04<00:00,  1.24it/s, loss=0.275, iou=0.217]\n",
            "  0%|          | 0/48 [00:00<?, ?it/s]"
          ]
        },
        {
          "metadata": {
            "tags": null
          },
          "name": "stdout",
          "output_type": "stream",
          "text": [
            "loss 0.1064 - iou 0.8487 - val_loss 0.2755 - val_iou 0.2174\n",
            "Epoch [329/500]\n"
          ]
        },
        {
          "metadata": {
            "tags": null
          },
          "name": "stderr",
          "output_type": "stream",
          "text": [
            "100%|██████████| 48/48 [01:18<00:00,  1.63s/it, loss=0.107, iou=0.847]\n",
            "100%|██████████| 6/6 [00:04<00:00,  1.22it/s, loss=0.344, iou=0.0795]\n",
            "  0%|          | 0/48 [00:00<?, ?it/s]"
          ]
        },
        {
          "metadata": {
            "tags": null
          },
          "name": "stdout",
          "output_type": "stream",
          "text": [
            "loss 0.1074 - iou 0.8465 - val_loss 0.3445 - val_iou 0.0795\n",
            "Epoch [330/500]\n"
          ]
        },
        {
          "metadata": {
            "tags": null
          },
          "name": "stderr",
          "output_type": "stream",
          "text": [
            "100%|██████████| 48/48 [01:19<00:00,  1.66s/it, loss=0.111, iou=0.831]\n",
            "100%|██████████| 6/6 [00:04<00:00,  1.26it/s, loss=0.275, iou=0.106]\n",
            "  0%|          | 0/48 [00:00<?, ?it/s]"
          ]
        },
        {
          "metadata": {
            "tags": null
          },
          "name": "stdout",
          "output_type": "stream",
          "text": [
            "loss 0.1106 - iou 0.8307 - val_loss 0.2745 - val_iou 0.1059\n",
            "Epoch [331/500]\n"
          ]
        },
        {
          "metadata": {
            "tags": null
          },
          "name": "stderr",
          "output_type": "stream",
          "text": [
            "100%|██████████| 48/48 [01:18<00:00,  1.64s/it, loss=0.11, iou=0.839]\n",
            "100%|██████████| 6/6 [00:04<00:00,  1.22it/s, loss=0.283, iou=0.268]\n",
            "  0%|          | 0/48 [00:00<?, ?it/s]"
          ]
        },
        {
          "metadata": {
            "tags": null
          },
          "name": "stdout",
          "output_type": "stream",
          "text": [
            "loss 0.1101 - iou 0.8389 - val_loss 0.2826 - val_iou 0.2676\n",
            "Epoch [332/500]\n"
          ]
        },
        {
          "metadata": {
            "tags": null
          },
          "name": "stderr",
          "output_type": "stream",
          "text": [
            "100%|██████████| 48/48 [01:18<00:00,  1.63s/it, loss=0.112, iou=0.834]\n",
            "100%|██████████| 6/6 [00:04<00:00,  1.22it/s, loss=0.444, iou=1.3e-10]\n",
            "  0%|          | 0/48 [00:00<?, ?it/s]"
          ]
        },
        {
          "metadata": {
            "tags": null
          },
          "name": "stdout",
          "output_type": "stream",
          "text": [
            "loss 0.1119 - iou 0.8343 - val_loss 0.4443 - val_iou 0.0000\n",
            "Epoch [333/500]\n"
          ]
        },
        {
          "metadata": {
            "tags": null
          },
          "name": "stderr",
          "output_type": "stream",
          "text": [
            "100%|██████████| 48/48 [01:18<00:00,  1.64s/it, loss=0.11, iou=0.835]\n",
            "100%|██████████| 6/6 [00:04<00:00,  1.22it/s, loss=0.25, iou=0.358]\n",
            "  0%|          | 0/48 [00:00<?, ?it/s]"
          ]
        },
        {
          "metadata": {
            "tags": null
          },
          "name": "stdout",
          "output_type": "stream",
          "text": [
            "loss 0.1098 - iou 0.8354 - val_loss 0.2500 - val_iou 0.3580\n",
            "Epoch [334/500]\n"
          ]
        },
        {
          "metadata": {
            "tags": null
          },
          "name": "stderr",
          "output_type": "stream",
          "text": [
            "100%|██████████| 48/48 [01:18<00:00,  1.63s/it, loss=0.107, iou=0.845]\n",
            "100%|██████████| 6/6 [00:04<00:00,  1.22it/s, loss=0.221, iou=0.499]\n",
            "  0%|          | 0/48 [00:00<?, ?it/s]"
          ]
        },
        {
          "metadata": {
            "tags": null
          },
          "name": "stdout",
          "output_type": "stream",
          "text": [
            "loss 0.1075 - iou 0.8448 - val_loss 0.2208 - val_iou 0.4986\n",
            "Epoch [335/500]\n"
          ]
        },
        {
          "metadata": {
            "tags": null
          },
          "name": "stderr",
          "output_type": "stream",
          "text": [
            "100%|██████████| 48/48 [01:17<00:00,  1.62s/it, loss=0.111, iou=0.825]\n",
            "100%|██████████| 6/6 [00:04<00:00,  1.24it/s, loss=0.354, iou=0.0956]\n",
            "  0%|          | 0/48 [00:00<?, ?it/s]"
          ]
        },
        {
          "metadata": {
            "tags": null
          },
          "name": "stdout",
          "output_type": "stream",
          "text": [
            "loss 0.1107 - iou 0.8250 - val_loss 0.3538 - val_iou 0.0956\n",
            "Epoch [336/500]\n"
          ]
        },
        {
          "metadata": {
            "tags": null
          },
          "name": "stderr",
          "output_type": "stream",
          "text": [
            "100%|██████████| 48/48 [01:19<00:00,  1.65s/it, loss=0.117, iou=0.807]\n",
            "100%|██████████| 6/6 [00:04<00:00,  1.25it/s, loss=0.17, iou=0.582]\n",
            "  0%|          | 0/48 [00:00<?, ?it/s]"
          ]
        },
        {
          "metadata": {
            "tags": null
          },
          "name": "stdout",
          "output_type": "stream",
          "text": [
            "loss 0.1172 - iou 0.8067 - val_loss 0.1698 - val_iou 0.5823\n",
            "Epoch [337/500]\n"
          ]
        },
        {
          "metadata": {
            "tags": null
          },
          "name": "stderr",
          "output_type": "stream",
          "text": [
            "100%|██████████| 48/48 [01:18<00:00,  1.63s/it, loss=0.111, iou=0.836]\n",
            "100%|██████████| 6/6 [00:04<00:00,  1.25it/s, loss=0.189, iou=0.585]\n",
            "  0%|          | 0/48 [00:00<?, ?it/s]"
          ]
        },
        {
          "metadata": {
            "tags": null
          },
          "name": "stdout",
          "output_type": "stream",
          "text": [
            "loss 0.1114 - iou 0.8364 - val_loss 0.1886 - val_iou 0.5852\n",
            "Epoch [338/500]\n"
          ]
        },
        {
          "metadata": {
            "tags": null
          },
          "name": "stderr",
          "output_type": "stream",
          "text": [
            "100%|██████████| 48/48 [01:18<00:00,  1.63s/it, loss=0.109, iou=0.833]\n",
            "100%|██████████| 6/6 [00:05<00:00,  1.06it/s, loss=0.356, iou=0.364]\n",
            "  0%|          | 0/48 [00:00<?, ?it/s]"
          ]
        },
        {
          "metadata": {
            "tags": null
          },
          "name": "stdout",
          "output_type": "stream",
          "text": [
            "loss 0.1090 - iou 0.8327 - val_loss 0.3563 - val_iou 0.3637\n",
            "Epoch [339/500]\n"
          ]
        },
        {
          "metadata": {
            "tags": null
          },
          "name": "stderr",
          "output_type": "stream",
          "text": [
            "100%|██████████| 48/48 [01:18<00:00,  1.63s/it, loss=0.106, iou=0.844]\n",
            "100%|██████████| 6/6 [00:04<00:00,  1.22it/s, loss=0.168, iou=0.597]\n",
            "  0%|          | 0/48 [00:00<?, ?it/s]"
          ]
        },
        {
          "metadata": {
            "tags": null
          },
          "name": "stdout",
          "output_type": "stream",
          "text": [
            "loss 0.1063 - iou 0.8441 - val_loss 0.1682 - val_iou 0.5969\n",
            "Epoch [340/500]\n"
          ]
        },
        {
          "metadata": {
            "tags": null
          },
          "name": "stderr",
          "output_type": "stream",
          "text": [
            "100%|██████████| 48/48 [01:18<00:00,  1.64s/it, loss=0.107, iou=0.84]\n",
            "100%|██████████| 6/6 [00:04<00:00,  1.23it/s, loss=0.387, iou=0.0517]\n",
            "  0%|          | 0/48 [00:00<?, ?it/s]"
          ]
        },
        {
          "metadata": {
            "tags": null
          },
          "name": "stdout",
          "output_type": "stream",
          "text": [
            "loss 0.1073 - iou 0.8398 - val_loss 0.3868 - val_iou 0.0517\n",
            "Epoch [341/500]\n"
          ]
        },
        {
          "metadata": {
            "tags": null
          },
          "name": "stderr",
          "output_type": "stream",
          "text": [
            "100%|██████████| 48/48 [01:19<00:00,  1.65s/it, loss=0.112, iou=0.825]\n",
            "100%|██████████| 6/6 [00:04<00:00,  1.24it/s, loss=0.205, iou=0.502]\n",
            "  0%|          | 0/48 [00:00<?, ?it/s]"
          ]
        },
        {
          "metadata": {
            "tags": null
          },
          "name": "stdout",
          "output_type": "stream",
          "text": [
            "loss 0.1120 - iou 0.8246 - val_loss 0.2054 - val_iou 0.5018\n",
            "Epoch [342/500]\n"
          ]
        },
        {
          "metadata": {
            "tags": null
          },
          "name": "stderr",
          "output_type": "stream",
          "text": [
            "100%|██████████| 48/48 [01:18<00:00,  1.63s/it, loss=0.106, iou=0.851]\n",
            "100%|██████████| 6/6 [00:04<00:00,  1.23it/s, loss=0.302, iou=0.204]\n",
            "  0%|          | 0/48 [00:00<?, ?it/s]"
          ]
        },
        {
          "metadata": {
            "tags": null
          },
          "name": "stdout",
          "output_type": "stream",
          "text": [
            "loss 0.1061 - iou 0.8508 - val_loss 0.3021 - val_iou 0.2040\n",
            "Epoch [343/500]\n"
          ]
        },
        {
          "metadata": {
            "tags": null
          },
          "name": "stderr",
          "output_type": "stream",
          "text": [
            "100%|██████████| 48/48 [01:17<00:00,  1.61s/it, loss=0.107, iou=0.849]\n",
            "100%|██████████| 6/6 [00:04<00:00,  1.27it/s, loss=0.26, iou=0.238]\n",
            "  0%|          | 0/48 [00:00<?, ?it/s]"
          ]
        },
        {
          "metadata": {
            "tags": null
          },
          "name": "stdout",
          "output_type": "stream",
          "text": [
            "loss 0.1071 - iou 0.8490 - val_loss 0.2598 - val_iou 0.2383\n",
            "Epoch [344/500]\n"
          ]
        },
        {
          "metadata": {
            "tags": null
          },
          "name": "stderr",
          "output_type": "stream",
          "text": [
            "100%|██████████| 48/48 [01:18<00:00,  1.63s/it, loss=0.109, iou=0.827]\n",
            "100%|██████████| 6/6 [00:04<00:00,  1.38it/s, loss=0.276, iou=0.346]\n",
            "  0%|          | 0/48 [00:00<?, ?it/s]"
          ]
        },
        {
          "metadata": {
            "tags": null
          },
          "name": "stdout",
          "output_type": "stream",
          "text": [
            "loss 0.1093 - iou 0.8273 - val_loss 0.2763 - val_iou 0.3460\n",
            "Epoch [345/500]\n"
          ]
        },
        {
          "metadata": {
            "tags": null
          },
          "name": "stderr",
          "output_type": "stream",
          "text": [
            "100%|██████████| 48/48 [01:18<00:00,  1.64s/it, loss=0.111, iou=0.835]\n",
            "100%|██████████| 6/6 [00:04<00:00,  1.37it/s, loss=0.33, iou=0.127]\n",
            "  0%|          | 0/48 [00:00<?, ?it/s]"
          ]
        },
        {
          "metadata": {
            "tags": null
          },
          "name": "stdout",
          "output_type": "stream",
          "text": [
            "loss 0.1109 - iou 0.8354 - val_loss 0.3298 - val_iou 0.1273\n",
            "Epoch [346/500]\n"
          ]
        },
        {
          "metadata": {
            "tags": null
          },
          "name": "stderr",
          "output_type": "stream",
          "text": [
            "100%|██████████| 48/48 [01:18<00:00,  1.64s/it, loss=0.108, iou=0.843]\n",
            "100%|██████████| 6/6 [00:04<00:00,  1.37it/s, loss=0.265, iou=0.288]\n",
            "  0%|          | 0/48 [00:00<?, ?it/s]"
          ]
        },
        {
          "metadata": {
            "tags": null
          },
          "name": "stdout",
          "output_type": "stream",
          "text": [
            "loss 0.1082 - iou 0.8431 - val_loss 0.2655 - val_iou 0.2879\n",
            "Epoch [347/500]\n"
          ]
        },
        {
          "metadata": {
            "tags": null
          },
          "name": "stderr",
          "output_type": "stream",
          "text": [
            "100%|██████████| 48/48 [01:19<00:00,  1.65s/it, loss=0.112, iou=0.822]\n",
            "100%|██████████| 6/6 [00:04<00:00,  1.30it/s, loss=0.392, iou=0.334]\n",
            "  0%|          | 0/48 [00:00<?, ?it/s]"
          ]
        },
        {
          "metadata": {
            "tags": null
          },
          "name": "stdout",
          "output_type": "stream",
          "text": [
            "loss 0.1115 - iou 0.8217 - val_loss 0.3923 - val_iou 0.3344\n",
            "Epoch [348/500]\n"
          ]
        },
        {
          "metadata": {
            "tags": null
          },
          "name": "stderr",
          "output_type": "stream",
          "text": [
            "100%|██████████| 48/48 [01:17<00:00,  1.62s/it, loss=0.107, iou=0.848]\n",
            "100%|██████████| 6/6 [00:04<00:00,  1.32it/s, loss=0.205, iou=0.428]\n",
            "  0%|          | 0/48 [00:00<?, ?it/s]"
          ]
        },
        {
          "metadata": {
            "tags": null
          },
          "name": "stdout",
          "output_type": "stream",
          "text": [
            "loss 0.1067 - iou 0.8476 - val_loss 0.2046 - val_iou 0.4280\n",
            "Epoch [349/500]\n"
          ]
        },
        {
          "metadata": {
            "tags": null
          },
          "name": "stderr",
          "output_type": "stream",
          "text": [
            "100%|██████████| 48/48 [01:18<00:00,  1.63s/it, loss=0.107, iou=0.855]\n",
            "100%|██████████| 6/6 [00:04<00:00,  1.37it/s, loss=0.195, iou=0.597]\n",
            "  0%|          | 0/48 [00:00<?, ?it/s]"
          ]
        },
        {
          "metadata": {
            "tags": null
          },
          "name": "stdout",
          "output_type": "stream",
          "text": [
            "loss 0.1065 - iou 0.8552 - val_loss 0.1946 - val_iou 0.5968\n",
            "Epoch [350/500]\n"
          ]
        },
        {
          "metadata": {
            "tags": null
          },
          "name": "stderr",
          "output_type": "stream",
          "text": [
            "100%|██████████| 48/48 [01:18<00:00,  1.65s/it, loss=0.108, iou=0.841]\n",
            "100%|██████████| 6/6 [00:04<00:00,  1.37it/s, loss=0.265, iou=0.459]\n",
            "  0%|          | 0/48 [00:00<?, ?it/s]"
          ]
        },
        {
          "metadata": {
            "tags": null
          },
          "name": "stdout",
          "output_type": "stream",
          "text": [
            "loss 0.1084 - iou 0.8406 - val_loss 0.2647 - val_iou 0.4590\n",
            "Epoch [351/500]\n"
          ]
        },
        {
          "metadata": {
            "tags": null
          },
          "name": "stderr",
          "output_type": "stream",
          "text": [
            "100%|██████████| 48/48 [01:18<00:00,  1.64s/it, loss=0.112, iou=0.83]\n",
            "100%|██████████| 6/6 [00:04<00:00,  1.31it/s, loss=0.257, iou=0.376]\n",
            "  0%|          | 0/48 [00:00<?, ?it/s]"
          ]
        },
        {
          "metadata": {
            "tags": null
          },
          "name": "stdout",
          "output_type": "stream",
          "text": [
            "loss 0.1115 - iou 0.8300 - val_loss 0.2566 - val_iou 0.3764\n",
            "Epoch [352/500]\n"
          ]
        },
        {
          "metadata": {
            "tags": null
          },
          "name": "stderr",
          "output_type": "stream",
          "text": [
            "100%|██████████| 48/48 [01:18<00:00,  1.63s/it, loss=0.113, iou=0.812]\n",
            "100%|██████████| 6/6 [00:04<00:00,  1.34it/s, loss=0.285, iou=0.108]\n",
            "  0%|          | 0/48 [00:00<?, ?it/s]"
          ]
        },
        {
          "metadata": {
            "tags": null
          },
          "name": "stdout",
          "output_type": "stream",
          "text": [
            "loss 0.1127 - iou 0.8118 - val_loss 0.2847 - val_iou 0.1083\n",
            "Epoch [353/500]\n"
          ]
        },
        {
          "metadata": {
            "tags": null
          },
          "name": "stderr",
          "output_type": "stream",
          "text": [
            "100%|██████████| 48/48 [01:18<00:00,  1.64s/it, loss=0.108, iou=0.838]\n",
            "100%|██████████| 6/6 [00:04<00:00,  1.37it/s, loss=0.215, iou=0.479]\n",
            "  0%|          | 0/48 [00:00<?, ?it/s]"
          ]
        },
        {
          "metadata": {
            "tags": null
          },
          "name": "stdout",
          "output_type": "stream",
          "text": [
            "loss 0.1082 - iou 0.8378 - val_loss 0.2145 - val_iou 0.4792\n",
            "Epoch [354/500]\n"
          ]
        },
        {
          "metadata": {
            "tags": null
          },
          "name": "stderr",
          "output_type": "stream",
          "text": [
            "100%|██████████| 48/48 [01:17<00:00,  1.62s/it, loss=0.106, iou=0.841]\n",
            "100%|██████████| 6/6 [00:04<00:00,  1.41it/s, loss=0.359, iou=0.0258]\n",
            "  0%|          | 0/48 [00:00<?, ?it/s]"
          ]
        },
        {
          "metadata": {
            "tags": null
          },
          "name": "stdout",
          "output_type": "stream",
          "text": [
            "loss 0.1064 - iou 0.8406 - val_loss 0.3589 - val_iou 0.0258\n",
            "Epoch [355/500]\n"
          ]
        },
        {
          "metadata": {
            "tags": null
          },
          "name": "stderr",
          "output_type": "stream",
          "text": [
            "100%|██████████| 48/48 [01:18<00:00,  1.64s/it, loss=0.107, iou=0.845]\n",
            "100%|██████████| 6/6 [00:04<00:00,  1.30it/s, loss=0.319, iou=0.0967]\n",
            "  0%|          | 0/48 [00:00<?, ?it/s]"
          ]
        },
        {
          "metadata": {
            "tags": null
          },
          "name": "stdout",
          "output_type": "stream",
          "text": [
            "loss 0.1067 - iou 0.8449 - val_loss 0.3192 - val_iou 0.0967\n",
            "Epoch [356/500]\n"
          ]
        },
        {
          "metadata": {
            "tags": null
          },
          "name": "stderr",
          "output_type": "stream",
          "text": [
            "100%|██████████| 48/48 [01:18<00:00,  1.63s/it, loss=0.109, iou=0.835]\n",
            "100%|██████████| 6/6 [00:04<00:00,  1.41it/s, loss=0.198, iou=0.559]\n",
            "  0%|          | 0/48 [00:00<?, ?it/s]"
          ]
        },
        {
          "metadata": {
            "tags": null
          },
          "name": "stdout",
          "output_type": "stream",
          "text": [
            "loss 0.1089 - iou 0.8354 - val_loss 0.1983 - val_iou 0.5590\n",
            "Epoch [357/500]\n"
          ]
        },
        {
          "metadata": {
            "tags": null
          },
          "name": "stderr",
          "output_type": "stream",
          "text": [
            "100%|██████████| 48/48 [01:18<00:00,  1.63s/it, loss=0.108, iou=0.837]\n",
            "100%|██████████| 6/6 [00:04<00:00,  1.42it/s, loss=0.321, iou=0.11]\n",
            "  0%|          | 0/48 [00:00<?, ?it/s]"
          ]
        },
        {
          "metadata": {
            "tags": null
          },
          "name": "stdout",
          "output_type": "stream",
          "text": [
            "loss 0.1078 - iou 0.8374 - val_loss 0.3213 - val_iou 0.1098\n",
            "Epoch [358/500]\n"
          ]
        },
        {
          "metadata": {
            "tags": null
          },
          "name": "stderr",
          "output_type": "stream",
          "text": [
            "100%|██████████| 48/48 [01:18<00:00,  1.64s/it, loss=0.109, iou=0.832]\n",
            "100%|██████████| 6/6 [00:04<00:00,  1.39it/s, loss=0.192, iou=0.478]\n",
            "  0%|          | 0/48 [00:00<?, ?it/s]"
          ]
        },
        {
          "metadata": {
            "tags": null
          },
          "name": "stdout",
          "output_type": "stream",
          "text": [
            "loss 0.1089 - iou 0.8315 - val_loss 0.1915 - val_iou 0.4776\n",
            "Epoch [359/500]\n"
          ]
        },
        {
          "metadata": {
            "tags": null
          },
          "name": "stderr",
          "output_type": "stream",
          "text": [
            "100%|██████████| 48/48 [01:18<00:00,  1.63s/it, loss=0.105, iou=0.848]\n",
            "100%|██████████| 6/6 [00:04<00:00,  1.40it/s, loss=0.221, iou=0.443]\n",
            "  0%|          | 0/48 [00:00<?, ?it/s]"
          ]
        },
        {
          "metadata": {
            "tags": null
          },
          "name": "stdout",
          "output_type": "stream",
          "text": [
            "loss 0.1054 - iou 0.8477 - val_loss 0.2211 - val_iou 0.4430\n",
            "Epoch [360/500]\n"
          ]
        },
        {
          "metadata": {
            "tags": null
          },
          "name": "stderr",
          "output_type": "stream",
          "text": [
            "100%|██████████| 48/48 [01:18<00:00,  1.64s/it, loss=0.109, iou=0.842]\n",
            "100%|██████████| 6/6 [00:04<00:00,  1.41it/s, loss=0.272, iou=0.291]\n",
            "  0%|          | 0/48 [00:00<?, ?it/s]"
          ]
        },
        {
          "metadata": {
            "tags": null
          },
          "name": "stdout",
          "output_type": "stream",
          "text": [
            "loss 0.1092 - iou 0.8419 - val_loss 0.2716 - val_iou 0.2908\n",
            "Epoch [361/500]\n"
          ]
        },
        {
          "metadata": {
            "tags": null
          },
          "name": "stderr",
          "output_type": "stream",
          "text": [
            "100%|██████████| 48/48 [01:19<00:00,  1.66s/it, loss=0.112, iou=0.826]\n",
            "100%|██████████| 6/6 [00:04<00:00,  1.40it/s, loss=0.306, iou=0.154]\n",
            "  0%|          | 0/48 [00:00<?, ?it/s]"
          ]
        },
        {
          "metadata": {
            "tags": null
          },
          "name": "stdout",
          "output_type": "stream",
          "text": [
            "loss 0.1122 - iou 0.8263 - val_loss 0.3056 - val_iou 0.1544\n",
            "Epoch [362/500]\n"
          ]
        },
        {
          "metadata": {
            "tags": null
          },
          "name": "stderr",
          "output_type": "stream",
          "text": [
            "100%|██████████| 48/48 [01:18<00:00,  1.64s/it, loss=0.116, iou=0.812]\n",
            "100%|██████████| 6/6 [00:04<00:00,  1.41it/s, loss=0.336, iou=0.0735]\n",
            "  0%|          | 0/48 [00:00<?, ?it/s]"
          ]
        },
        {
          "metadata": {
            "tags": null
          },
          "name": "stdout",
          "output_type": "stream",
          "text": [
            "loss 0.1161 - iou 0.8116 - val_loss 0.3363 - val_iou 0.0735\n",
            "Epoch [363/500]\n"
          ]
        },
        {
          "metadata": {
            "tags": null
          },
          "name": "stderr",
          "output_type": "stream",
          "text": [
            "100%|██████████| 48/48 [01:23<00:00,  1.74s/it, loss=0.11, iou=0.834]\n",
            "100%|██████████| 6/6 [00:04<00:00,  1.41it/s, loss=0.385, iou=0.29]\n",
            "  0%|          | 0/48 [00:00<?, ?it/s]"
          ]
        },
        {
          "metadata": {
            "tags": null
          },
          "name": "stdout",
          "output_type": "stream",
          "text": [
            "loss 0.1102 - iou 0.8336 - val_loss 0.3850 - val_iou 0.2899\n",
            "Epoch [364/500]\n"
          ]
        },
        {
          "metadata": {
            "tags": null
          },
          "name": "stderr",
          "output_type": "stream",
          "text": [
            "100%|██████████| 48/48 [01:18<00:00,  1.64s/it, loss=0.106, iou=0.849]\n",
            "100%|██████████| 6/6 [00:04<00:00,  1.41it/s, loss=0.325, iou=0.177]\n",
            "  0%|          | 0/48 [00:00<?, ?it/s]"
          ]
        },
        {
          "metadata": {
            "tags": null
          },
          "name": "stdout",
          "output_type": "stream",
          "text": [
            "loss 0.1056 - iou 0.8488 - val_loss 0.3253 - val_iou 0.1772\n",
            "Epoch [365/500]\n"
          ]
        },
        {
          "metadata": {
            "tags": null
          },
          "name": "stderr",
          "output_type": "stream",
          "text": [
            "100%|██████████| 48/48 [01:18<00:00,  1.63s/it, loss=0.108, iou=0.839]\n",
            "100%|██████████| 6/6 [00:04<00:00,  1.40it/s, loss=0.289, iou=0.147]\n",
            "  0%|          | 0/48 [00:00<?, ?it/s]"
          ]
        },
        {
          "metadata": {
            "tags": null
          },
          "name": "stdout",
          "output_type": "stream",
          "text": [
            "loss 0.1083 - iou 0.8394 - val_loss 0.2893 - val_iou 0.1465\n",
            "Epoch [366/500]\n"
          ]
        },
        {
          "metadata": {
            "tags": null
          },
          "name": "stderr",
          "output_type": "stream",
          "text": [
            "100%|██████████| 48/48 [01:19<00:00,  1.65s/it, loss=0.107, iou=0.846]\n",
            "100%|██████████| 6/6 [00:04<00:00,  1.25it/s, loss=0.247, iou=0.201]\n",
            "  0%|          | 0/48 [00:00<?, ?it/s]"
          ]
        },
        {
          "metadata": {
            "tags": null
          },
          "name": "stdout",
          "output_type": "stream",
          "text": [
            "loss 0.1071 - iou 0.8461 - val_loss 0.2470 - val_iou 0.2010\n",
            "Epoch [367/500]\n"
          ]
        },
        {
          "metadata": {
            "tags": null
          },
          "name": "stderr",
          "output_type": "stream",
          "text": [
            "100%|██████████| 48/48 [01:18<00:00,  1.63s/it, loss=0.11, iou=0.84]\n",
            "100%|██████████| 6/6 [00:04<00:00,  1.39it/s, loss=0.37, iou=0.00817]\n",
            "  0%|          | 0/48 [00:00<?, ?it/s]"
          ]
        },
        {
          "metadata": {
            "tags": null
          },
          "name": "stdout",
          "output_type": "stream",
          "text": [
            "loss 0.1097 - iou 0.8401 - val_loss 0.3698 - val_iou 0.0082\n",
            "Epoch [368/500]\n"
          ]
        },
        {
          "metadata": {
            "tags": null
          },
          "name": "stderr",
          "output_type": "stream",
          "text": [
            "100%|██████████| 48/48 [01:18<00:00,  1.64s/it, loss=0.106, iou=0.85]\n",
            "100%|██████████| 6/6 [00:04<00:00,  1.40it/s, loss=0.347, iou=0.0715]\n",
            "  0%|          | 0/48 [00:00<?, ?it/s]"
          ]
        },
        {
          "metadata": {
            "tags": null
          },
          "name": "stdout",
          "output_type": "stream",
          "text": [
            "loss 0.1056 - iou 0.8496 - val_loss 0.3468 - val_iou 0.0715\n",
            "Epoch [369/500]\n"
          ]
        },
        {
          "metadata": {
            "tags": null
          },
          "name": "stderr",
          "output_type": "stream",
          "text": [
            "100%|██████████| 48/48 [01:19<00:00,  1.66s/it, loss=0.105, iou=0.852]\n",
            "100%|██████████| 6/6 [00:04<00:00,  1.39it/s, loss=0.23, iou=0.495]\n",
            "  0%|          | 0/48 [00:00<?, ?it/s]"
          ]
        },
        {
          "metadata": {
            "tags": null
          },
          "name": "stdout",
          "output_type": "stream",
          "text": [
            "loss 0.1050 - iou 0.8521 - val_loss 0.2296 - val_iou 0.4950\n",
            "Epoch [370/500]\n"
          ]
        },
        {
          "metadata": {
            "tags": null
          },
          "name": "stderr",
          "output_type": "stream",
          "text": [
            "100%|██████████| 48/48 [01:19<00:00,  1.65s/it, loss=0.107, iou=0.857]\n",
            "100%|██████████| 6/6 [00:04<00:00,  1.39it/s, loss=0.392, iou=0.00791]\n",
            "  0%|          | 0/48 [00:00<?, ?it/s]"
          ]
        },
        {
          "metadata": {
            "tags": null
          },
          "name": "stdout",
          "output_type": "stream",
          "text": [
            "loss 0.1065 - iou 0.8575 - val_loss 0.3916 - val_iou 0.0079\n",
            "Epoch [371/500]\n"
          ]
        },
        {
          "metadata": {
            "tags": null
          },
          "name": "stderr",
          "output_type": "stream",
          "text": [
            "100%|██████████| 48/48 [01:18<00:00,  1.65s/it, loss=0.107, iou=0.843]\n",
            "100%|██████████| 6/6 [00:04<00:00,  1.41it/s, loss=0.331, iou=0.101]\n",
            "  0%|          | 0/48 [00:00<?, ?it/s]"
          ]
        },
        {
          "metadata": {
            "tags": null
          },
          "name": "stdout",
          "output_type": "stream",
          "text": [
            "loss 0.1073 - iou 0.8429 - val_loss 0.3311 - val_iou 0.1006\n",
            "Epoch [372/500]\n"
          ]
        },
        {
          "metadata": {
            "tags": null
          },
          "name": "stderr",
          "output_type": "stream",
          "text": [
            "100%|██████████| 48/48 [01:19<00:00,  1.66s/it, loss=0.112, iou=0.821]\n",
            "100%|██████████| 6/6 [00:04<00:00,  1.38it/s, loss=0.353, iou=0.157]\n",
            "  0%|          | 0/48 [00:00<?, ?it/s]"
          ]
        },
        {
          "metadata": {
            "tags": null
          },
          "name": "stdout",
          "output_type": "stream",
          "text": [
            "loss 0.1121 - iou 0.8215 - val_loss 0.3533 - val_iou 0.1567\n",
            "Epoch [373/500]\n"
          ]
        },
        {
          "output_type": "stream",
          "name": "stderr",
          "text": [
            "100%|██████████| 48/48 [01:18<00:00,  1.64s/it, loss=0.107, iou=0.838]\n",
            "100%|██████████| 6/6 [00:04<00:00,  1.39it/s, loss=0.204, iou=0.461]\n",
            "  0%|          | 0/48 [00:00<?, ?it/s]"
          ]
        },
        {
          "output_type": "stream",
          "name": "stdout",
          "text": [
            "loss 0.1072 - iou 0.8381 - val_loss 0.2038 - val_iou 0.4606\n",
            "Epoch [374/500]\n"
          ]
        },
        {
          "output_type": "stream",
          "name": "stderr",
          "text": [
            "100%|██████████| 48/48 [01:18<00:00,  1.64s/it, loss=0.106, iou=0.848]\n",
            "100%|██████████| 6/6 [00:04<00:00,  1.39it/s, loss=0.291, iou=0.293]\n",
            "  0%|          | 0/48 [00:00<?, ?it/s]"
          ]
        },
        {
          "output_type": "stream",
          "name": "stdout",
          "text": [
            "loss 0.1063 - iou 0.8477 - val_loss 0.2910 - val_iou 0.2934\n",
            "Epoch [375/500]\n"
          ]
        },
        {
          "output_type": "stream",
          "name": "stderr",
          "text": [
            "100%|██████████| 48/48 [01:17<00:00,  1.62s/it, loss=0.105, iou=0.852]\n",
            "100%|██████████| 6/6 [00:04<00:00,  1.41it/s, loss=0.531, iou=0.427]\n",
            "  0%|          | 0/48 [00:00<?, ?it/s]"
          ]
        },
        {
          "output_type": "stream",
          "name": "stdout",
          "text": [
            "loss 0.1048 - iou 0.8518 - val_loss 0.5314 - val_iou 0.4274\n",
            "Epoch [376/500]\n"
          ]
        },
        {
          "output_type": "stream",
          "name": "stderr",
          "text": [
            "100%|██████████| 48/48 [01:18<00:00,  1.64s/it, loss=0.108, iou=0.84]\n",
            "100%|██████████| 6/6 [00:04<00:00,  1.36it/s, loss=0.394, iou=0.0176]\n",
            "  0%|          | 0/48 [00:00<?, ?it/s]"
          ]
        },
        {
          "output_type": "stream",
          "name": "stdout",
          "text": [
            "loss 0.1083 - iou 0.8404 - val_loss 0.3941 - val_iou 0.0176\n",
            "Epoch [377/500]\n"
          ]
        },
        {
          "output_type": "stream",
          "name": "stderr",
          "text": [
            "100%|██████████| 48/48 [01:18<00:00,  1.65s/it, loss=0.107, iou=0.847]\n",
            "100%|██████████| 6/6 [00:04<00:00,  1.27it/s, loss=0.247, iou=0.327]\n",
            "  0%|          | 0/48 [00:00<?, ?it/s]"
          ]
        },
        {
          "output_type": "stream",
          "name": "stdout",
          "text": [
            "loss 0.1067 - iou 0.8471 - val_loss 0.2465 - val_iou 0.3266\n",
            "Epoch [378/500]\n"
          ]
        },
        {
          "output_type": "stream",
          "name": "stderr",
          "text": [
            "100%|██████████| 48/48 [01:18<00:00,  1.63s/it, loss=0.109, iou=0.839]\n",
            "100%|██████████| 6/6 [00:04<00:00,  1.22it/s, loss=0.27, iou=0.565]\n",
            "  0%|          | 0/48 [00:00<?, ?it/s]"
          ]
        },
        {
          "output_type": "stream",
          "name": "stdout",
          "text": [
            "loss 0.1094 - iou 0.8389 - val_loss 0.2699 - val_iou 0.5650\n",
            "Epoch [379/500]\n"
          ]
        },
        {
          "output_type": "stream",
          "name": "stderr",
          "text": [
            "100%|██████████| 48/48 [01:18<00:00,  1.64s/it, loss=0.108, iou=0.836]\n",
            "100%|██████████| 6/6 [00:04<00:00,  1.25it/s, loss=0.321, iou=0.344]\n",
            "  0%|          | 0/48 [00:00<?, ?it/s]"
          ]
        },
        {
          "output_type": "stream",
          "name": "stdout",
          "text": [
            "loss 0.1078 - iou 0.8365 - val_loss 0.3208 - val_iou 0.3442\n",
            "Epoch [380/500]\n"
          ]
        },
        {
          "output_type": "stream",
          "name": "stderr",
          "text": [
            "100%|██████████| 48/48 [01:18<00:00,  1.63s/it, loss=0.108, iou=0.846]\n",
            "100%|██████████| 6/6 [00:04<00:00,  1.33it/s, loss=0.258, iou=0.477]\n",
            "  0%|          | 0/48 [00:00<?, ?it/s]"
          ]
        },
        {
          "output_type": "stream",
          "name": "stdout",
          "text": [
            "loss 0.1084 - iou 0.8456 - val_loss 0.2581 - val_iou 0.4766\n",
            "Epoch [381/500]\n"
          ]
        },
        {
          "output_type": "stream",
          "name": "stderr",
          "text": [
            "100%|██████████| 48/48 [01:18<00:00,  1.64s/it, loss=0.107, iou=0.841]\n",
            "100%|██████████| 6/6 [00:04<00:00,  1.40it/s, loss=0.356, iou=0.134]\n",
            "  0%|          | 0/48 [00:00<?, ?it/s]"
          ]
        },
        {
          "output_type": "stream",
          "name": "stdout",
          "text": [
            "loss 0.1074 - iou 0.8412 - val_loss 0.3559 - val_iou 0.1345\n",
            "Epoch [382/500]\n"
          ]
        },
        {
          "output_type": "stream",
          "name": "stderr",
          "text": [
            "100%|██████████| 48/48 [01:18<00:00,  1.64s/it, loss=0.106, iou=0.848]\n",
            "100%|██████████| 6/6 [00:04<00:00,  1.40it/s, loss=0.23, iou=0.372]\n",
            "  0%|          | 0/48 [00:00<?, ?it/s]"
          ]
        },
        {
          "output_type": "stream",
          "name": "stdout",
          "text": [
            "loss 0.1060 - iou 0.8482 - val_loss 0.2304 - val_iou 0.3717\n",
            "Epoch [383/500]\n"
          ]
        },
        {
          "output_type": "stream",
          "name": "stderr",
          "text": [
            "100%|██████████| 48/48 [01:18<00:00,  1.63s/it, loss=0.106, iou=0.851]\n",
            "100%|██████████| 6/6 [00:04<00:00,  1.41it/s, loss=0.313, iou=0.3]\n",
            "  0%|          | 0/48 [00:00<?, ?it/s]"
          ]
        },
        {
          "output_type": "stream",
          "name": "stdout",
          "text": [
            "loss 0.1063 - iou 0.8510 - val_loss 0.3126 - val_iou 0.3000\n",
            "Epoch [384/500]\n"
          ]
        },
        {
          "output_type": "stream",
          "name": "stderr",
          "text": [
            "100%|██████████| 48/48 [01:18<00:00,  1.64s/it, loss=0.104, iou=0.85]\n",
            "100%|██████████| 6/6 [00:04<00:00,  1.41it/s, loss=0.342, iou=0.0946]\n",
            "  0%|          | 0/48 [00:00<?, ?it/s]"
          ]
        },
        {
          "output_type": "stream",
          "name": "stdout",
          "text": [
            "loss 0.1044 - iou 0.8504 - val_loss 0.3418 - val_iou 0.0946\n",
            "Epoch [385/500]\n"
          ]
        },
        {
          "output_type": "stream",
          "name": "stderr",
          "text": [
            "100%|██████████| 48/48 [01:19<00:00,  1.65s/it, loss=0.108, iou=0.84]\n",
            "100%|██████████| 6/6 [00:04<00:00,  1.41it/s, loss=0.303, iou=0.222]\n",
            "  0%|          | 0/48 [00:00<?, ?it/s]"
          ]
        },
        {
          "output_type": "stream",
          "name": "stdout",
          "text": [
            "loss 0.1076 - iou 0.8404 - val_loss 0.3030 - val_iou 0.2219\n",
            "Epoch [386/500]\n"
          ]
        },
        {
          "output_type": "stream",
          "name": "stderr",
          "text": [
            "100%|██████████| 48/48 [01:18<00:00,  1.64s/it, loss=0.108, iou=0.844]\n",
            "100%|██████████| 6/6 [00:04<00:00,  1.33it/s, loss=0.767, iou=0.123]\n",
            "  0%|          | 0/48 [00:00<?, ?it/s]"
          ]
        },
        {
          "output_type": "stream",
          "name": "stdout",
          "text": [
            "loss 0.1080 - iou 0.8441 - val_loss 0.7674 - val_iou 0.1227\n",
            "Epoch [387/500]\n"
          ]
        },
        {
          "output_type": "stream",
          "name": "stderr",
          "text": [
            "100%|██████████| 48/48 [01:18<00:00,  1.64s/it, loss=0.107, iou=0.842]\n",
            "100%|██████████| 6/6 [00:04<00:00,  1.26it/s, loss=0.197, iou=0.504]\n",
            "  0%|          | 0/48 [00:00<?, ?it/s]"
          ]
        },
        {
          "output_type": "stream",
          "name": "stdout",
          "text": [
            "loss 0.1072 - iou 0.8423 - val_loss 0.1966 - val_iou 0.5043\n",
            "Epoch [388/500]\n"
          ]
        },
        {
          "output_type": "stream",
          "name": "stderr",
          "text": [
            "100%|██████████| 48/48 [01:18<00:00,  1.63s/it, loss=0.105, iou=0.848]\n",
            "100%|██████████| 6/6 [00:04<00:00,  1.22it/s, loss=0.305, iou=0.169]\n",
            "  0%|          | 0/48 [00:00<?, ?it/s]"
          ]
        },
        {
          "output_type": "stream",
          "name": "stdout",
          "text": [
            "loss 0.1051 - iou 0.8477 - val_loss 0.3052 - val_iou 0.1691\n",
            "Epoch [389/500]\n"
          ]
        },
        {
          "output_type": "stream",
          "name": "stderr",
          "text": [
            "100%|██████████| 48/48 [01:18<00:00,  1.63s/it, loss=0.107, iou=0.844]\n",
            "100%|██████████| 6/6 [00:04<00:00,  1.25it/s, loss=0.271, iou=0.291]\n",
            "  0%|          | 0/48 [00:00<?, ?it/s]"
          ]
        },
        {
          "output_type": "stream",
          "name": "stdout",
          "text": [
            "loss 0.1066 - iou 0.8441 - val_loss 0.2708 - val_iou 0.2906\n",
            "Epoch [390/500]\n"
          ]
        },
        {
          "output_type": "stream",
          "name": "stderr",
          "text": [
            "100%|██████████| 48/48 [01:18<00:00,  1.64s/it, loss=0.107, iou=0.848]\n",
            "100%|██████████| 6/6 [00:04<00:00,  1.33it/s, loss=0.216, iou=0.361]\n",
            "  0%|          | 0/48 [00:00<?, ?it/s]"
          ]
        },
        {
          "output_type": "stream",
          "name": "stdout",
          "text": [
            "loss 0.1071 - iou 0.8480 - val_loss 0.2165 - val_iou 0.3613\n",
            "Epoch [391/500]\n"
          ]
        },
        {
          "output_type": "stream",
          "name": "stderr",
          "text": [
            "100%|██████████| 48/48 [01:19<00:00,  1.65s/it, loss=0.109, iou=0.832]\n",
            "100%|██████████| 6/6 [00:04<00:00,  1.38it/s, loss=0.244, iou=0.391]\n",
            "  0%|          | 0/48 [00:00<?, ?it/s]"
          ]
        },
        {
          "output_type": "stream",
          "name": "stdout",
          "text": [
            "loss 0.1086 - iou 0.8320 - val_loss 0.2438 - val_iou 0.3913\n",
            "Epoch [392/500]\n"
          ]
        },
        {
          "output_type": "stream",
          "name": "stderr",
          "text": [
            "100%|██████████| 48/48 [01:19<00:00,  1.65s/it, loss=0.108, iou=0.841]\n",
            "100%|██████████| 6/6 [00:04<00:00,  1.40it/s, loss=0.26, iou=0.292]\n",
            "  0%|          | 0/48 [00:00<?, ?it/s]"
          ]
        },
        {
          "output_type": "stream",
          "name": "stdout",
          "text": [
            "loss 0.1081 - iou 0.8407 - val_loss 0.2600 - val_iou 0.2918\n",
            "Epoch [393/500]\n"
          ]
        },
        {
          "output_type": "stream",
          "name": "stderr",
          "text": [
            "100%|██████████| 48/48 [01:18<00:00,  1.64s/it, loss=0.107, iou=0.841]\n",
            "100%|██████████| 6/6 [00:04<00:00,  1.40it/s, loss=0.329, iou=0.0289]\n",
            "  0%|          | 0/48 [00:00<?, ?it/s]"
          ]
        },
        {
          "output_type": "stream",
          "name": "stdout",
          "text": [
            "loss 0.1074 - iou 0.8413 - val_loss 0.3294 - val_iou 0.0289\n",
            "Epoch [394/500]\n"
          ]
        },
        {
          "output_type": "stream",
          "name": "stderr",
          "text": [
            "100%|██████████| 48/48 [01:18<00:00,  1.64s/it, loss=0.112, iou=0.819]\n",
            "100%|██████████| 6/6 [00:04<00:00,  1.40it/s, loss=0.305, iou=0.144]\n",
            "  0%|          | 0/48 [00:00<?, ?it/s]"
          ]
        },
        {
          "output_type": "stream",
          "name": "stdout",
          "text": [
            "loss 0.1117 - iou 0.8195 - val_loss 0.3048 - val_iou 0.1435\n",
            "Epoch [395/500]\n"
          ]
        },
        {
          "output_type": "stream",
          "name": "stderr",
          "text": [
            "100%|██████████| 48/48 [01:18<00:00,  1.63s/it, loss=0.113, iou=0.822]\n",
            "100%|██████████| 6/6 [00:04<00:00,  1.35it/s, loss=0.278, iou=0.165]\n",
            "  0%|          | 0/48 [00:00<?, ?it/s]"
          ]
        },
        {
          "output_type": "stream",
          "name": "stdout",
          "text": [
            "loss 0.1127 - iou 0.8224 - val_loss 0.2781 - val_iou 0.1648\n",
            "Epoch [396/500]\n"
          ]
        },
        {
          "output_type": "stream",
          "name": "stderr",
          "text": [
            "100%|██████████| 48/48 [01:18<00:00,  1.64s/it, loss=0.107, iou=0.845]\n",
            "100%|██████████| 6/6 [00:04<00:00,  1.27it/s, loss=0.463, iou=0.302]\n",
            "  0%|          | 0/48 [00:00<?, ?it/s]"
          ]
        },
        {
          "output_type": "stream",
          "name": "stdout",
          "text": [
            "loss 0.1067 - iou 0.8448 - val_loss 0.4630 - val_iou 0.3017\n",
            "Epoch [397/500]\n"
          ]
        },
        {
          "output_type": "stream",
          "name": "stderr",
          "text": [
            "100%|██████████| 48/48 [01:18<00:00,  1.63s/it, loss=0.107, iou=0.847]\n",
            "100%|██████████| 6/6 [00:04<00:00,  1.23it/s, loss=0.138, iou=0.73]\n",
            "  0%|          | 0/48 [00:00<?, ?it/s]"
          ]
        },
        {
          "output_type": "stream",
          "name": "stdout",
          "text": [
            "loss 0.1070 - iou 0.8471 - val_loss 0.1380 - val_iou 0.7302\n",
            "Epoch [398/500]\n"
          ]
        },
        {
          "output_type": "stream",
          "name": "stderr",
          "text": [
            "100%|██████████| 48/48 [01:18<00:00,  1.63s/it, loss=0.108, iou=0.834]\n",
            "100%|██████████| 6/6 [00:04<00:00,  1.25it/s, loss=0.199, iou=0.475]\n",
            "  0%|          | 0/48 [00:00<?, ?it/s]"
          ]
        },
        {
          "output_type": "stream",
          "name": "stdout",
          "text": [
            "loss 0.1075 - iou 0.8342 - val_loss 0.1994 - val_iou 0.4754\n",
            "Epoch [399/500]\n"
          ]
        },
        {
          "output_type": "stream",
          "name": "stderr",
          "text": [
            "100%|██████████| 48/48 [01:24<00:00,  1.77s/it, loss=0.107, iou=0.846]\n",
            "100%|██████████| 6/6 [00:04<00:00,  1.34it/s, loss=0.259, iou=0.492]\n",
            "  0%|          | 0/48 [00:00<?, ?it/s]"
          ]
        },
        {
          "output_type": "stream",
          "name": "stdout",
          "text": [
            "loss 0.1069 - iou 0.8459 - val_loss 0.2591 - val_iou 0.4922\n",
            "Epoch [400/500]\n"
          ]
        },
        {
          "output_type": "stream",
          "name": "stderr",
          "text": [
            "100%|██████████| 48/48 [01:18<00:00,  1.64s/it, loss=0.103, iou=0.858]\n",
            "100%|██████████| 6/6 [00:04<00:00,  1.38it/s, loss=0.243, iou=0.22]\n",
            "  0%|          | 0/48 [00:00<?, ?it/s]"
          ]
        },
        {
          "output_type": "stream",
          "name": "stdout",
          "text": [
            "loss 0.1030 - iou 0.8584 - val_loss 0.2428 - val_iou 0.2200\n",
            "Epoch [401/500]\n"
          ]
        },
        {
          "output_type": "stream",
          "name": "stderr",
          "text": [
            "100%|██████████| 48/48 [01:19<00:00,  1.65s/it, loss=0.107, iou=0.851]\n",
            "100%|██████████| 6/6 [00:04<00:00,  1.39it/s, loss=0.222, iou=0.518]\n",
            "  0%|          | 0/48 [00:00<?, ?it/s]"
          ]
        },
        {
          "output_type": "stream",
          "name": "stdout",
          "text": [
            "loss 0.1066 - iou 0.8510 - val_loss 0.2216 - val_iou 0.5177\n",
            "Epoch [402/500]\n"
          ]
        },
        {
          "output_type": "stream",
          "name": "stderr",
          "text": [
            "100%|██████████| 48/48 [01:19<00:00,  1.66s/it, loss=0.108, iou=0.845]\n",
            "100%|██████████| 6/6 [00:04<00:00,  1.35it/s, loss=0.215, iou=0.414]\n",
            "  0%|          | 0/48 [00:00<?, ?it/s]"
          ]
        },
        {
          "output_type": "stream",
          "name": "stdout",
          "text": [
            "loss 0.1082 - iou 0.8450 - val_loss 0.2147 - val_iou 0.4141\n",
            "Epoch [403/500]\n"
          ]
        },
        {
          "output_type": "stream",
          "name": "stderr",
          "text": [
            "100%|██████████| 48/48 [01:19<00:00,  1.66s/it, loss=0.104, iou=0.854]\n",
            "100%|██████████| 6/6 [00:04<00:00,  1.32it/s, loss=0.189, iou=0.591]\n",
            "  0%|          | 0/48 [00:00<?, ?it/s]"
          ]
        },
        {
          "output_type": "stream",
          "name": "stdout",
          "text": [
            "loss 0.1043 - iou 0.8543 - val_loss 0.1887 - val_iou 0.5909\n",
            "Epoch [404/500]\n"
          ]
        },
        {
          "output_type": "stream",
          "name": "stderr",
          "text": [
            "100%|██████████| 48/48 [01:18<00:00,  1.63s/it, loss=0.106, iou=0.847]\n",
            "100%|██████████| 6/6 [00:04<00:00,  1.26it/s, loss=0.138, iou=0.711]\n",
            "  0%|          | 0/48 [00:00<?, ?it/s]"
          ]
        },
        {
          "output_type": "stream",
          "name": "stdout",
          "text": [
            "loss 0.1064 - iou 0.8473 - val_loss 0.1380 - val_iou 0.7114\n",
            "Epoch [405/500]\n"
          ]
        },
        {
          "output_type": "stream",
          "name": "stderr",
          "text": [
            "100%|██████████| 48/48 [01:18<00:00,  1.64s/it, loss=0.107, iou=0.837]\n",
            "100%|██████████| 6/6 [00:04<00:00,  1.20it/s, loss=0.246, iou=0.408]\n",
            "  0%|          | 0/48 [00:00<?, ?it/s]"
          ]
        },
        {
          "output_type": "stream",
          "name": "stdout",
          "text": [
            "loss 0.1072 - iou 0.8372 - val_loss 0.2462 - val_iou 0.4082\n",
            "Epoch [406/500]\n"
          ]
        },
        {
          "output_type": "stream",
          "name": "stderr",
          "text": [
            "100%|██████████| 48/48 [01:18<00:00,  1.63s/it, loss=0.107, iou=0.846]\n",
            "100%|██████████| 6/6 [00:04<00:00,  1.28it/s, loss=0.232, iou=0.378]\n",
            "  0%|          | 0/48 [00:00<?, ?it/s]"
          ]
        },
        {
          "output_type": "stream",
          "name": "stdout",
          "text": [
            "loss 0.1069 - iou 0.8458 - val_loss 0.2320 - val_iou 0.3784\n",
            "Epoch [407/500]\n"
          ]
        },
        {
          "output_type": "stream",
          "name": "stderr",
          "text": [
            "100%|██████████| 48/48 [01:18<00:00,  1.63s/it, loss=0.104, iou=0.852]\n",
            "100%|██████████| 6/6 [00:05<00:00,  1.19it/s, loss=0.211, iou=0.56]\n",
            "  0%|          | 0/48 [00:00<?, ?it/s]"
          ]
        },
        {
          "output_type": "stream",
          "name": "stdout",
          "text": [
            "loss 0.1039 - iou 0.8520 - val_loss 0.2111 - val_iou 0.5596\n",
            "Epoch [408/500]\n"
          ]
        },
        {
          "output_type": "stream",
          "name": "stderr",
          "text": [
            "100%|██████████| 48/48 [01:17<00:00,  1.62s/it, loss=0.108, iou=0.833]\n",
            "100%|██████████| 6/6 [00:04<00:00,  1.31it/s, loss=0.231, iou=0.457]\n",
            "  0%|          | 0/48 [00:00<?, ?it/s]"
          ]
        },
        {
          "output_type": "stream",
          "name": "stdout",
          "text": [
            "loss 0.1083 - iou 0.8331 - val_loss 0.2306 - val_iou 0.4574\n",
            "Epoch [409/500]\n"
          ]
        },
        {
          "output_type": "stream",
          "name": "stderr",
          "text": [
            "100%|██████████| 48/48 [01:18<00:00,  1.63s/it, loss=0.109, iou=0.842]\n",
            "100%|██████████| 6/6 [00:04<00:00,  1.36it/s, loss=0.188, iou=0.553]\n",
            "  0%|          | 0/48 [00:00<?, ?it/s]"
          ]
        },
        {
          "output_type": "stream",
          "name": "stdout",
          "text": [
            "loss 0.1094 - iou 0.8416 - val_loss 0.1877 - val_iou 0.5532\n",
            "Epoch [410/500]\n"
          ]
        },
        {
          "output_type": "stream",
          "name": "stderr",
          "text": [
            "100%|██████████| 48/48 [01:18<00:00,  1.64s/it, loss=0.105, iou=0.855]\n",
            "100%|██████████| 6/6 [00:04<00:00,  1.39it/s, loss=0.283, iou=0.33]\n",
            "  0%|          | 0/48 [00:00<?, ?it/s]"
          ]
        },
        {
          "output_type": "stream",
          "name": "stdout",
          "text": [
            "loss 0.1053 - iou 0.8554 - val_loss 0.2830 - val_iou 0.3303\n",
            "Epoch [411/500]\n"
          ]
        },
        {
          "output_type": "stream",
          "name": "stderr",
          "text": [
            "100%|██████████| 48/48 [01:18<00:00,  1.63s/it, loss=0.105, iou=0.854]\n",
            "100%|██████████| 6/6 [00:04<00:00,  1.41it/s, loss=0.215, iou=0.533]\n",
            "  0%|          | 0/48 [00:00<?, ?it/s]"
          ]
        },
        {
          "output_type": "stream",
          "name": "stdout",
          "text": [
            "loss 0.1048 - iou 0.8540 - val_loss 0.2145 - val_iou 0.5335\n",
            "Epoch [412/500]\n"
          ]
        },
        {
          "output_type": "stream",
          "name": "stderr",
          "text": [
            "100%|██████████| 48/48 [01:18<00:00,  1.64s/it, loss=0.106, iou=0.851]\n",
            "100%|██████████| 6/6 [00:04<00:00,  1.40it/s, loss=0.253, iou=0.405]\n",
            "  0%|          | 0/48 [00:00<?, ?it/s]"
          ]
        },
        {
          "output_type": "stream",
          "name": "stdout",
          "text": [
            "loss 0.1061 - iou 0.8511 - val_loss 0.2529 - val_iou 0.4047\n",
            "Epoch [413/500]\n"
          ]
        },
        {
          "output_type": "stream",
          "name": "stderr",
          "text": [
            "100%|██████████| 48/48 [01:19<00:00,  1.65s/it, loss=0.101, iou=0.868]\n",
            "100%|██████████| 6/6 [00:04<00:00,  1.41it/s, loss=0.195, iou=0.6]\n",
            "  0%|          | 0/48 [00:00<?, ?it/s]"
          ]
        },
        {
          "output_type": "stream",
          "name": "stdout",
          "text": [
            "loss 0.1014 - iou 0.8685 - val_loss 0.1954 - val_iou 0.6000\n",
            "Epoch [414/500]\n"
          ]
        },
        {
          "output_type": "stream",
          "name": "stderr",
          "text": [
            "100%|██████████| 48/48 [01:22<00:00,  1.71s/it, loss=0.106, iou=0.847]\n",
            "100%|██████████| 6/6 [00:04<00:00,  1.22it/s, loss=0.218, iou=0.484]\n",
            "  0%|          | 0/48 [00:00<?, ?it/s]"
          ]
        },
        {
          "output_type": "stream",
          "name": "stdout",
          "text": [
            "loss 0.1056 - iou 0.8475 - val_loss 0.2181 - val_iou 0.4842\n",
            "Epoch [415/500]\n"
          ]
        },
        {
          "output_type": "stream",
          "name": "stderr",
          "text": [
            "100%|██████████| 48/48 [01:19<00:00,  1.65s/it, loss=0.109, iou=0.84]\n",
            "100%|██████████| 6/6 [00:09<00:00,  1.62s/it, loss=0.244, iou=0.345]\n",
            "  0%|          | 0/48 [00:00<?, ?it/s]"
          ]
        },
        {
          "output_type": "stream",
          "name": "stdout",
          "text": [
            "loss 0.1089 - iou 0.8401 - val_loss 0.2439 - val_iou 0.3449\n",
            "Epoch [416/500]\n"
          ]
        },
        {
          "output_type": "stream",
          "name": "stderr",
          "text": [
            "100%|██████████| 48/48 [01:18<00:00,  1.64s/it, loss=0.111, iou=0.824]\n",
            "100%|██████████| 6/6 [00:04<00:00,  1.41it/s, loss=0.444, iou=0.0401]\n",
            "  0%|          | 0/48 [00:00<?, ?it/s]"
          ]
        },
        {
          "output_type": "stream",
          "name": "stdout",
          "text": [
            "loss 0.1111 - iou 0.8245 - val_loss 0.4440 - val_iou 0.0401\n",
            "Epoch [417/500]\n"
          ]
        },
        {
          "output_type": "stream",
          "name": "stderr",
          "text": [
            "100%|██████████| 48/48 [01:18<00:00,  1.64s/it, loss=0.106, iou=0.85]\n",
            "100%|██████████| 6/6 [00:04<00:00,  1.40it/s, loss=0.328, iou=0.107]\n",
            "  0%|          | 0/48 [00:00<?, ?it/s]"
          ]
        },
        {
          "output_type": "stream",
          "name": "stdout",
          "text": [
            "loss 0.1064 - iou 0.8497 - val_loss 0.3280 - val_iou 0.1067\n",
            "Epoch [418/500]\n"
          ]
        },
        {
          "output_type": "stream",
          "name": "stderr",
          "text": [
            "100%|██████████| 48/48 [01:19<00:00,  1.65s/it, loss=0.105, iou=0.855]\n",
            "100%|██████████| 6/6 [00:04<00:00,  1.40it/s, loss=0.258, iou=0.28]\n",
            "  0%|          | 0/48 [00:00<?, ?it/s]"
          ]
        },
        {
          "output_type": "stream",
          "name": "stdout",
          "text": [
            "loss 0.1046 - iou 0.8545 - val_loss 0.2579 - val_iou 0.2803\n",
            "Epoch [419/500]\n"
          ]
        },
        {
          "output_type": "stream",
          "name": "stderr",
          "text": [
            "100%|██████████| 48/48 [01:18<00:00,  1.63s/it, loss=0.105, iou=0.848]\n",
            "100%|██████████| 6/6 [00:04<00:00,  1.36it/s, loss=0.194, iou=0.535]\n",
            "  0%|          | 0/48 [00:00<?, ?it/s]"
          ]
        },
        {
          "output_type": "stream",
          "name": "stdout",
          "text": [
            "loss 0.1050 - iou 0.8483 - val_loss 0.1935 - val_iou 0.5352\n",
            "Epoch [420/500]\n"
          ]
        },
        {
          "output_type": "stream",
          "name": "stderr",
          "text": [
            "100%|██████████| 48/48 [01:18<00:00,  1.63s/it, loss=0.108, iou=0.837]\n",
            "100%|██████████| 6/6 [00:04<00:00,  1.31it/s, loss=0.306, iou=0.276]\n",
            "  0%|          | 0/48 [00:00<?, ?it/s]"
          ]
        },
        {
          "output_type": "stream",
          "name": "stdout",
          "text": [
            "loss 0.1078 - iou 0.8366 - val_loss 0.3064 - val_iou 0.2765\n",
            "Epoch [421/500]\n"
          ]
        },
        {
          "output_type": "stream",
          "name": "stderr",
          "text": [
            "100%|██████████| 48/48 [01:18<00:00,  1.65s/it, loss=0.108, iou=0.839]\n",
            "100%|██████████| 6/6 [00:04<00:00,  1.22it/s, loss=0.299, iou=0.108]\n",
            "  0%|          | 0/48 [00:00<?, ?it/s]"
          ]
        },
        {
          "output_type": "stream",
          "name": "stdout",
          "text": [
            "loss 0.1081 - iou 0.8391 - val_loss 0.2993 - val_iou 0.1076\n",
            "Epoch [422/500]\n"
          ]
        },
        {
          "output_type": "stream",
          "name": "stderr",
          "text": [
            "100%|██████████| 48/48 [01:18<00:00,  1.64s/it, loss=0.104, iou=0.854]\n",
            "100%|██████████| 6/6 [00:04<00:00,  1.24it/s, loss=0.184, iou=0.616]\n",
            "  0%|          | 0/48 [00:00<?, ?it/s]"
          ]
        },
        {
          "output_type": "stream",
          "name": "stdout",
          "text": [
            "loss 0.1040 - iou 0.8539 - val_loss 0.1835 - val_iou 0.6156\n",
            "Epoch [423/500]\n"
          ]
        },
        {
          "output_type": "stream",
          "name": "stderr",
          "text": [
            "100%|██████████| 48/48 [01:17<00:00,  1.62s/it, loss=0.105, iou=0.86]\n",
            "100%|██████████| 6/6 [00:05<00:00,  1.08it/s, loss=0.269, iou=0.198]\n",
            "  0%|          | 0/48 [00:00<?, ?it/s]"
          ]
        },
        {
          "output_type": "stream",
          "name": "stdout",
          "text": [
            "loss 0.1048 - iou 0.8600 - val_loss 0.2688 - val_iou 0.1978\n",
            "Epoch [424/500]\n"
          ]
        },
        {
          "output_type": "stream",
          "name": "stderr",
          "text": [
            "100%|██████████| 48/48 [01:18<00:00,  1.63s/it, loss=0.107, iou=0.845]\n",
            "100%|██████████| 6/6 [00:04<00:00,  1.29it/s, loss=0.286, iou=0.243]\n",
            "  0%|          | 0/48 [00:00<?, ?it/s]"
          ]
        },
        {
          "output_type": "stream",
          "name": "stdout",
          "text": [
            "loss 0.1066 - iou 0.8451 - val_loss 0.2861 - val_iou 0.2429\n",
            "Epoch [425/500]\n"
          ]
        },
        {
          "output_type": "stream",
          "name": "stderr",
          "text": [
            "100%|██████████| 48/48 [01:18<00:00,  1.63s/it, loss=0.109, iou=0.829]\n",
            "100%|██████████| 6/6 [00:04<00:00,  1.34it/s, loss=0.197, iou=0.511]\n",
            "  0%|          | 0/48 [00:00<?, ?it/s]"
          ]
        },
        {
          "output_type": "stream",
          "name": "stdout",
          "text": [
            "loss 0.1088 - iou 0.8291 - val_loss 0.1967 - val_iou 0.5111\n",
            "Epoch [426/500]\n"
          ]
        },
        {
          "output_type": "stream",
          "name": "stderr",
          "text": [
            "100%|██████████| 48/48 [01:18<00:00,  1.64s/it, loss=0.109, iou=0.835]\n",
            "100%|██████████| 6/6 [00:04<00:00,  1.38it/s, loss=0.325, iou=0.205]\n",
            "  0%|          | 0/48 [00:00<?, ?it/s]"
          ]
        },
        {
          "output_type": "stream",
          "name": "stdout",
          "text": [
            "loss 0.1093 - iou 0.8352 - val_loss 0.3250 - val_iou 0.2046\n",
            "Epoch [427/500]\n"
          ]
        },
        {
          "output_type": "stream",
          "name": "stderr",
          "text": [
            "100%|██████████| 48/48 [01:19<00:00,  1.65s/it, loss=0.105, iou=0.857]\n",
            "100%|██████████| 6/6 [00:04<00:00,  1.41it/s, loss=0.685, iou=0.106]\n",
            "  0%|          | 0/48 [00:00<?, ?it/s]"
          ]
        },
        {
          "output_type": "stream",
          "name": "stdout",
          "text": [
            "loss 0.1055 - iou 0.8572 - val_loss 0.6850 - val_iou 0.1057\n",
            "Epoch [428/500]\n"
          ]
        },
        {
          "output_type": "stream",
          "name": "stderr",
          "text": [
            "100%|██████████| 48/48 [01:17<00:00,  1.62s/it, loss=0.104, iou=0.849]\n",
            "100%|██████████| 6/6 [00:04<00:00,  1.40it/s, loss=0.365, iou=0.02]\n",
            "  0%|          | 0/48 [00:00<?, ?it/s]"
          ]
        },
        {
          "output_type": "stream",
          "name": "stdout",
          "text": [
            "loss 0.1044 - iou 0.8487 - val_loss 0.3648 - val_iou 0.0200\n",
            "Epoch [429/500]\n"
          ]
        },
        {
          "output_type": "stream",
          "name": "stderr",
          "text": [
            "100%|██████████| 48/48 [01:19<00:00,  1.65s/it, loss=0.103, iou=0.853]\n",
            "100%|██████████| 6/6 [00:04<00:00,  1.41it/s, loss=0.389, iou=0.101]\n",
            "  0%|          | 0/48 [00:00<?, ?it/s]"
          ]
        },
        {
          "output_type": "stream",
          "name": "stdout",
          "text": [
            "loss 0.1029 - iou 0.8534 - val_loss 0.3892 - val_iou 0.1010\n",
            "Epoch [430/500]\n"
          ]
        },
        {
          "output_type": "stream",
          "name": "stderr",
          "text": [
            "100%|██████████| 48/48 [01:19<00:00,  1.65s/it, loss=0.107, iou=0.847]\n",
            "100%|██████████| 6/6 [00:04<00:00,  1.38it/s, loss=0.345, iou=0.0894]\n",
            "  0%|          | 0/48 [00:00<?, ?it/s]"
          ]
        },
        {
          "output_type": "stream",
          "name": "stdout",
          "text": [
            "loss 0.1066 - iou 0.8471 - val_loss 0.3454 - val_iou 0.0894\n",
            "Epoch [431/500]\n"
          ]
        },
        {
          "output_type": "stream",
          "name": "stderr",
          "text": [
            "100%|██████████| 48/48 [01:18<00:00,  1.64s/it, loss=0.104, iou=0.86]\n",
            "100%|██████████| 6/6 [00:04<00:00,  1.31it/s, loss=0.229, iou=0.45]\n",
            "  0%|          | 0/48 [00:00<?, ?it/s]"
          ]
        },
        {
          "output_type": "stream",
          "name": "stdout",
          "text": [
            "loss 0.1043 - iou 0.8596 - val_loss 0.2292 - val_iou 0.4500\n",
            "Epoch [432/500]\n"
          ]
        },
        {
          "output_type": "stream",
          "name": "stderr",
          "text": [
            "100%|██████████| 48/48 [01:19<00:00,  1.65s/it, loss=0.107, iou=0.85]\n",
            "100%|██████████| 6/6 [00:04<00:00,  1.40it/s, loss=0.34, iou=0.0181]\n",
            "  0%|          | 0/48 [00:00<?, ?it/s]"
          ]
        },
        {
          "output_type": "stream",
          "name": "stdout",
          "text": [
            "loss 0.1066 - iou 0.8502 - val_loss 0.3402 - val_iou 0.0181\n",
            "Epoch [433/500]\n"
          ]
        },
        {
          "output_type": "stream",
          "name": "stderr",
          "text": [
            "100%|██████████| 48/48 [01:18<00:00,  1.63s/it, loss=0.111, iou=0.828]\n",
            "100%|██████████| 6/6 [00:04<00:00,  1.36it/s, loss=0.234, iou=0.365]\n",
            "  0%|          | 0/48 [00:00<?, ?it/s]"
          ]
        },
        {
          "output_type": "stream",
          "name": "stdout",
          "text": [
            "loss 0.1108 - iou 0.8277 - val_loss 0.2338 - val_iou 0.3648\n",
            "Epoch [434/500]\n"
          ]
        },
        {
          "output_type": "stream",
          "name": "stderr",
          "text": [
            "100%|██████████| 48/48 [01:19<00:00,  1.66s/it, loss=0.106, iou=0.851]\n",
            "100%|██████████| 6/6 [00:04<00:00,  1.24it/s, loss=0.208, iou=0.509]\n",
            "  0%|          | 0/48 [00:00<?, ?it/s]"
          ]
        },
        {
          "output_type": "stream",
          "name": "stdout",
          "text": [
            "loss 0.1062 - iou 0.8511 - val_loss 0.2082 - val_iou 0.5087\n",
            "Epoch [435/500]\n"
          ]
        },
        {
          "output_type": "stream",
          "name": "stderr",
          "text": [
            "100%|██████████| 48/48 [01:19<00:00,  1.65s/it, loss=0.108, iou=0.839]\n",
            "100%|██████████| 6/6 [00:04<00:00,  1.22it/s, loss=0.289, iou=0.162]\n",
            "  0%|          | 0/48 [00:00<?, ?it/s]"
          ]
        },
        {
          "output_type": "stream",
          "name": "stdout",
          "text": [
            "loss 0.1083 - iou 0.8394 - val_loss 0.2894 - val_iou 0.1618\n",
            "Epoch [436/500]\n"
          ]
        },
        {
          "output_type": "stream",
          "name": "stderr",
          "text": [
            "100%|██████████| 48/48 [01:18<00:00,  1.63s/it, loss=0.108, iou=0.832]\n",
            "100%|██████████| 6/6 [00:04<00:00,  1.27it/s, loss=0.369, iou=0.354]\n",
            "  0%|          | 0/48 [00:00<?, ?it/s]"
          ]
        },
        {
          "output_type": "stream",
          "name": "stdout",
          "text": [
            "loss 0.1079 - iou 0.8316 - val_loss 0.3687 - val_iou 0.3536\n",
            "Epoch [437/500]\n"
          ]
        },
        {
          "output_type": "stream",
          "name": "stderr",
          "text": [
            "100%|██████████| 48/48 [01:19<00:00,  1.65s/it, loss=0.109, iou=0.838]\n",
            "100%|██████████| 6/6 [00:04<00:00,  1.37it/s, loss=0.232, iou=0.277]\n",
            "  0%|          | 0/48 [00:00<?, ?it/s]"
          ]
        },
        {
          "output_type": "stream",
          "name": "stdout",
          "text": [
            "loss 0.1086 - iou 0.8376 - val_loss 0.2316 - val_iou 0.2770\n",
            "Epoch [438/500]\n"
          ]
        },
        {
          "output_type": "stream",
          "name": "stderr",
          "text": [
            "100%|██████████| 48/48 [01:18<00:00,  1.64s/it, loss=0.105, iou=0.851]\n",
            "100%|██████████| 6/6 [00:04<00:00,  1.39it/s, loss=0.154, iou=0.672]\n",
            "  0%|          | 0/48 [00:00<?, ?it/s]"
          ]
        },
        {
          "output_type": "stream",
          "name": "stdout",
          "text": [
            "loss 0.1049 - iou 0.8509 - val_loss 0.1541 - val_iou 0.6720\n",
            "Epoch [439/500]\n"
          ]
        },
        {
          "output_type": "stream",
          "name": "stderr",
          "text": [
            "100%|██████████| 48/48 [01:18<00:00,  1.64s/it, loss=0.11, iou=0.831]\n",
            "100%|██████████| 6/6 [00:04<00:00,  1.25it/s, loss=0.267, iou=0.316]\n",
            "  0%|          | 0/48 [00:00<?, ?it/s]"
          ]
        },
        {
          "output_type": "stream",
          "name": "stdout",
          "text": [
            "loss 0.1099 - iou 0.8307 - val_loss 0.2672 - val_iou 0.3159\n",
            "Epoch [440/500]\n"
          ]
        },
        {
          "output_type": "stream",
          "name": "stderr",
          "text": [
            "100%|██████████| 48/48 [01:18<00:00,  1.64s/it, loss=0.106, iou=0.84]\n",
            "100%|██████████| 6/6 [00:04<00:00,  1.40it/s, loss=0.236, iou=0.272]\n",
            "  0%|          | 0/48 [00:00<?, ?it/s]"
          ]
        },
        {
          "output_type": "stream",
          "name": "stdout",
          "text": [
            "loss 0.1063 - iou 0.8399 - val_loss 0.2356 - val_iou 0.2718\n",
            "Epoch [441/500]\n"
          ]
        },
        {
          "output_type": "stream",
          "name": "stderr",
          "text": [
            "100%|██████████| 48/48 [01:18<00:00,  1.64s/it, loss=0.106, iou=0.848]\n",
            "100%|██████████| 6/6 [00:04<00:00,  1.41it/s, loss=0.303, iou=0.0996]\n",
            "  0%|          | 0/48 [00:00<?, ?it/s]"
          ]
        },
        {
          "output_type": "stream",
          "name": "stdout",
          "text": [
            "loss 0.1065 - iou 0.8480 - val_loss 0.3030 - val_iou 0.0996\n",
            "Epoch [442/500]\n"
          ]
        },
        {
          "output_type": "stream",
          "name": "stderr",
          "text": [
            "100%|██████████| 48/48 [01:18<00:00,  1.64s/it, loss=0.104, iou=0.852]\n",
            "100%|██████████| 6/6 [00:04<00:00,  1.36it/s, loss=0.252, iou=0.342]\n",
            "  0%|          | 0/48 [00:00<?, ?it/s]"
          ]
        },
        {
          "output_type": "stream",
          "name": "stdout",
          "text": [
            "loss 0.1041 - iou 0.8520 - val_loss 0.2518 - val_iou 0.3417\n",
            "Epoch [443/500]\n"
          ]
        },
        {
          "output_type": "stream",
          "name": "stderr",
          "text": [
            "100%|██████████| 48/48 [01:18<00:00,  1.64s/it, loss=0.107, iou=0.845]\n",
            "100%|██████████| 6/6 [00:04<00:00,  1.32it/s, loss=0.34, iou=0.287]\n",
            "  0%|          | 0/48 [00:00<?, ?it/s]"
          ]
        },
        {
          "output_type": "stream",
          "name": "stdout",
          "text": [
            "loss 0.1069 - iou 0.8451 - val_loss 0.3398 - val_iou 0.2875\n",
            "Epoch [444/500]\n"
          ]
        },
        {
          "output_type": "stream",
          "name": "stderr",
          "text": [
            "100%|██████████| 48/48 [01:17<00:00,  1.62s/it, loss=0.106, iou=0.85]\n",
            "100%|██████████| 6/6 [00:04<00:00,  1.29it/s, loss=0.403, iou=0.0196]\n",
            "  0%|          | 0/48 [00:00<?, ?it/s]"
          ]
        },
        {
          "output_type": "stream",
          "name": "stdout",
          "text": [
            "loss 0.1059 - iou 0.8496 - val_loss 0.4029 - val_iou 0.0196\n",
            "Epoch [445/500]\n"
          ]
        },
        {
          "output_type": "stream",
          "name": "stderr",
          "text": [
            "100%|██████████| 48/48 [01:18<00:00,  1.64s/it, loss=0.103, iou=0.852]\n",
            "100%|██████████| 6/6 [00:04<00:00,  1.22it/s, loss=0.226, iou=0.421]\n",
            "  0%|          | 0/48 [00:00<?, ?it/s]"
          ]
        },
        {
          "output_type": "stream",
          "name": "stdout",
          "text": [
            "loss 0.1035 - iou 0.8519 - val_loss 0.2263 - val_iou 0.4205\n",
            "Epoch [446/500]\n"
          ]
        },
        {
          "output_type": "stream",
          "name": "stderr",
          "text": [
            "100%|██████████| 48/48 [01:17<00:00,  1.62s/it, loss=0.104, iou=0.859]\n",
            "100%|██████████| 6/6 [00:04<00:00,  1.24it/s, loss=0.169, iou=0.699]\n",
            "  0%|          | 0/48 [00:00<?, ?it/s]"
          ]
        },
        {
          "output_type": "stream",
          "name": "stdout",
          "text": [
            "loss 0.1045 - iou 0.8585 - val_loss 0.1688 - val_iou 0.6994\n",
            "Epoch [447/500]\n"
          ]
        },
        {
          "output_type": "stream",
          "name": "stderr",
          "text": [
            "100%|██████████| 48/48 [01:17<00:00,  1.62s/it, loss=0.108, iou=0.841]\n",
            "100%|██████████| 6/6 [00:05<00:00,  1.11it/s, loss=0.139, iou=0.686]\n",
            "  0%|          | 0/48 [00:00<?, ?it/s]"
          ]
        },
        {
          "output_type": "stream",
          "name": "stdout",
          "text": [
            "loss 0.1075 - iou 0.8410 - val_loss 0.1392 - val_iou 0.6859\n",
            "Epoch [448/500]\n"
          ]
        },
        {
          "output_type": "stream",
          "name": "stderr",
          "text": [
            "100%|██████████| 48/48 [01:18<00:00,  1.64s/it, loss=0.104, iou=0.846]\n",
            "100%|██████████| 6/6 [00:04<00:00,  1.29it/s, loss=0.41, iou=0.00923]\n",
            "  0%|          | 0/48 [00:00<?, ?it/s]"
          ]
        },
        {
          "output_type": "stream",
          "name": "stdout",
          "text": [
            "loss 0.1044 - iou 0.8463 - val_loss 0.4100 - val_iou 0.0092\n",
            "Epoch [449/500]\n"
          ]
        },
        {
          "output_type": "stream",
          "name": "stderr",
          "text": [
            "100%|██████████| 48/48 [01:18<00:00,  1.63s/it, loss=0.105, iou=0.847]\n",
            "100%|██████████| 6/6 [00:04<00:00,  1.33it/s, loss=0.226, iou=0.343]\n",
            "  0%|          | 0/48 [00:00<?, ?it/s]"
          ]
        },
        {
          "output_type": "stream",
          "name": "stdout",
          "text": [
            "loss 0.1053 - iou 0.8467 - val_loss 0.2259 - val_iou 0.3432\n",
            "Epoch [450/500]\n"
          ]
        },
        {
          "output_type": "stream",
          "name": "stderr",
          "text": [
            "100%|██████████| 48/48 [01:18<00:00,  1.64s/it, loss=0.101, iou=0.868]\n",
            "100%|██████████| 6/6 [00:04<00:00,  1.27it/s, loss=0.23, iou=0.405]\n",
            "  0%|          | 0/48 [00:00<?, ?it/s]"
          ]
        },
        {
          "output_type": "stream",
          "name": "stdout",
          "text": [
            "loss 0.1014 - iou 0.8680 - val_loss 0.2301 - val_iou 0.4046\n",
            "Epoch [451/500]\n"
          ]
        },
        {
          "output_type": "stream",
          "name": "stderr",
          "text": [
            "100%|██████████| 48/48 [01:18<00:00,  1.64s/it, loss=0.105, iou=0.854]\n",
            "100%|██████████| 6/6 [00:04<00:00,  1.34it/s, loss=0.401, iou=0.423]\n",
            "  0%|          | 0/48 [00:00<?, ?it/s]"
          ]
        },
        {
          "output_type": "stream",
          "name": "stdout",
          "text": [
            "loss 0.1049 - iou 0.8544 - val_loss 0.4007 - val_iou 0.4233\n",
            "Epoch [452/500]\n"
          ]
        },
        {
          "output_type": "stream",
          "name": "stderr",
          "text": [
            "100%|██████████| 48/48 [01:18<00:00,  1.64s/it, loss=0.104, iou=0.852]\n",
            "100%|██████████| 6/6 [00:04<00:00,  1.40it/s, loss=0.213, iou=0.452]\n",
            "  0%|          | 0/48 [00:00<?, ?it/s]"
          ]
        },
        {
          "output_type": "stream",
          "name": "stdout",
          "text": [
            "loss 0.1037 - iou 0.8519 - val_loss 0.2133 - val_iou 0.4516\n",
            "Epoch [453/500]\n"
          ]
        },
        {
          "output_type": "stream",
          "name": "stderr",
          "text": [
            "100%|██████████| 48/48 [01:19<00:00,  1.66s/it, loss=0.103, iou=0.855]\n",
            "100%|██████████| 6/6 [00:04<00:00,  1.40it/s, loss=0.347, iou=0.0672]\n",
            "  0%|          | 0/48 [00:00<?, ?it/s]"
          ]
        },
        {
          "output_type": "stream",
          "name": "stdout",
          "text": [
            "loss 0.1028 - iou 0.8549 - val_loss 0.3466 - val_iou 0.0672\n",
            "Epoch [454/500]\n"
          ]
        },
        {
          "output_type": "stream",
          "name": "stderr",
          "text": [
            "100%|██████████| 48/48 [01:18<00:00,  1.63s/it, loss=0.102, iou=0.857]\n",
            "100%|██████████| 6/6 [00:04<00:00,  1.41it/s, loss=0.247, iou=0.43]\n",
            "  0%|          | 0/48 [00:00<?, ?it/s]"
          ]
        },
        {
          "output_type": "stream",
          "name": "stdout",
          "text": [
            "loss 0.1017 - iou 0.8569 - val_loss 0.2466 - val_iou 0.4302\n",
            "Epoch [455/500]\n"
          ]
        },
        {
          "output_type": "stream",
          "name": "stderr",
          "text": [
            "100%|██████████| 48/48 [01:19<00:00,  1.66s/it, loss=0.11, iou=0.826]\n",
            "100%|██████████| 6/6 [00:04<00:00,  1.38it/s, loss=0.311, iou=0.102]\n",
            "  0%|          | 0/48 [00:00<?, ?it/s]"
          ]
        },
        {
          "output_type": "stream",
          "name": "stdout",
          "text": [
            "loss 0.1100 - iou 0.8257 - val_loss 0.3114 - val_iou 0.1019\n",
            "Epoch [456/500]\n"
          ]
        },
        {
          "output_type": "stream",
          "name": "stderr",
          "text": [
            "100%|██████████| 48/48 [01:18<00:00,  1.64s/it, loss=0.108, iou=0.842]\n",
            "100%|██████████| 6/6 [00:04<00:00,  1.38it/s, loss=0.388, iou=0.227]\n",
            "  0%|          | 0/48 [00:00<?, ?it/s]"
          ]
        },
        {
          "output_type": "stream",
          "name": "stdout",
          "text": [
            "loss 0.1076 - iou 0.8416 - val_loss 0.3877 - val_iou 0.2268\n",
            "Epoch [457/500]\n"
          ]
        },
        {
          "output_type": "stream",
          "name": "stderr",
          "text": [
            "100%|██████████| 48/48 [01:18<00:00,  1.64s/it, loss=0.106, iou=0.848]\n",
            "100%|██████████| 6/6 [00:04<00:00,  1.40it/s, loss=0.436, iou=0.33]\n",
            "  0%|          | 0/48 [00:00<?, ?it/s]"
          ]
        },
        {
          "output_type": "stream",
          "name": "stdout",
          "text": [
            "loss 0.1061 - iou 0.8482 - val_loss 0.4363 - val_iou 0.3296\n",
            "Epoch [458/500]\n"
          ]
        },
        {
          "output_type": "stream",
          "name": "stderr",
          "text": [
            "100%|██████████| 48/48 [01:19<00:00,  1.65s/it, loss=0.107, iou=0.845]\n",
            "100%|██████████| 6/6 [00:04<00:00,  1.28it/s, loss=0.31, iou=0.0104]\n",
            "  0%|          | 0/48 [00:00<?, ?it/s]"
          ]
        },
        {
          "output_type": "stream",
          "name": "stdout",
          "text": [
            "loss 0.1066 - iou 0.8447 - val_loss 0.3101 - val_iou 0.0104\n",
            "Epoch [459/500]\n"
          ]
        },
        {
          "output_type": "stream",
          "name": "stderr",
          "text": [
            "100%|██████████| 48/48 [01:18<00:00,  1.64s/it, loss=0.108, iou=0.843]\n",
            "100%|██████████| 6/6 [00:04<00:00,  1.23it/s, loss=0.208, iou=0.511]\n",
            "  0%|          | 0/48 [00:00<?, ?it/s]"
          ]
        },
        {
          "output_type": "stream",
          "name": "stdout",
          "text": [
            "loss 0.1077 - iou 0.8434 - val_loss 0.2084 - val_iou 0.5109\n",
            "Epoch [460/500]\n"
          ]
        },
        {
          "output_type": "stream",
          "name": "stderr",
          "text": [
            "100%|██████████| 48/48 [01:17<00:00,  1.62s/it, loss=0.105, iou=0.844]\n",
            "100%|██████████| 6/6 [00:04<00:00,  1.22it/s, loss=0.723, iou=0.00264]\n",
            "  0%|          | 0/48 [00:00<?, ?it/s]"
          ]
        },
        {
          "output_type": "stream",
          "name": "stdout",
          "text": [
            "loss 0.1054 - iou 0.8437 - val_loss 0.7229 - val_iou 0.0026\n",
            "Epoch [461/500]\n"
          ]
        },
        {
          "output_type": "stream",
          "name": "stderr",
          "text": [
            "100%|██████████| 48/48 [01:19<00:00,  1.65s/it, loss=0.106, iou=0.837]\n",
            "100%|██████████| 6/6 [00:04<00:00,  1.24it/s, loss=0.189, iou=0.559]\n",
            "  0%|          | 0/48 [00:00<?, ?it/s]"
          ]
        },
        {
          "output_type": "stream",
          "name": "stdout",
          "text": [
            "loss 0.1061 - iou 0.8368 - val_loss 0.1889 - val_iou 0.5594\n",
            "Epoch [462/500]\n"
          ]
        },
        {
          "output_type": "stream",
          "name": "stderr",
          "text": [
            "100%|██████████| 48/48 [01:17<00:00,  1.61s/it, loss=0.105, iou=0.853]\n",
            "100%|██████████| 6/6 [00:04<00:00,  1.23it/s, loss=0.299, iou=0.324]\n",
            "  0%|          | 0/48 [00:00<?, ?it/s]"
          ]
        },
        {
          "output_type": "stream",
          "name": "stdout",
          "text": [
            "loss 0.1046 - iou 0.8533 - val_loss 0.2992 - val_iou 0.3241\n",
            "Epoch [463/500]\n"
          ]
        },
        {
          "output_type": "stream",
          "name": "stderr",
          "text": [
            "100%|██████████| 48/48 [01:18<00:00,  1.64s/it, loss=0.107, iou=0.852]\n",
            "100%|██████████| 6/6 [00:04<00:00,  1.27it/s, loss=0.362, iou=0.11]\n",
            "  0%|          | 0/48 [00:00<?, ?it/s]"
          ]
        },
        {
          "output_type": "stream",
          "name": "stdout",
          "text": [
            "loss 0.1066 - iou 0.8520 - val_loss 0.3619 - val_iou 0.1100\n",
            "Epoch [464/500]\n"
          ]
        },
        {
          "output_type": "stream",
          "name": "stderr",
          "text": [
            "100%|██████████| 48/48 [01:17<00:00,  1.62s/it, loss=0.103, iou=0.857]\n",
            "100%|██████████| 6/6 [00:04<00:00,  1.30it/s, loss=0.359, iou=0.421]\n",
            "  0%|          | 0/48 [00:00<?, ?it/s]"
          ]
        },
        {
          "output_type": "stream",
          "name": "stdout",
          "text": [
            "loss 0.1032 - iou 0.8566 - val_loss 0.3591 - val_iou 0.4208\n",
            "Epoch [465/500]\n"
          ]
        },
        {
          "output_type": "stream",
          "name": "stderr",
          "text": [
            "100%|██████████| 48/48 [01:18<00:00,  1.63s/it, loss=0.105, iou=0.85]\n",
            "100%|██████████| 6/6 [00:04<00:00,  1.39it/s, loss=0.202, iou=0.508]\n",
            "  0%|          | 0/48 [00:00<?, ?it/s]"
          ]
        },
        {
          "output_type": "stream",
          "name": "stdout",
          "text": [
            "loss 0.1050 - iou 0.8497 - val_loss 0.2022 - val_iou 0.5079\n",
            "Epoch [466/500]\n"
          ]
        },
        {
          "output_type": "stream",
          "name": "stderr",
          "text": [
            "100%|██████████| 48/48 [01:18<00:00,  1.63s/it, loss=0.107, iou=0.835]\n",
            "100%|██████████| 6/6 [00:04<00:00,  1.36it/s, loss=0.234, iou=0.359]\n",
            "  0%|          | 0/48 [00:00<?, ?it/s]"
          ]
        },
        {
          "output_type": "stream",
          "name": "stdout",
          "text": [
            "loss 0.1073 - iou 0.8348 - val_loss 0.2335 - val_iou 0.3591\n",
            "Epoch [467/500]\n"
          ]
        },
        {
          "output_type": "stream",
          "name": "stderr",
          "text": [
            "100%|██████████| 48/48 [01:18<00:00,  1.63s/it, loss=0.107, iou=0.843]\n",
            "100%|██████████| 6/6 [00:04<00:00,  1.40it/s, loss=0.256, iou=0.289]\n",
            "  0%|          | 0/48 [00:00<?, ?it/s]"
          ]
        },
        {
          "output_type": "stream",
          "name": "stdout",
          "text": [
            "loss 0.1067 - iou 0.8433 - val_loss 0.2559 - val_iou 0.2891\n",
            "Epoch [468/500]\n"
          ]
        },
        {
          "output_type": "stream",
          "name": "stderr",
          "text": [
            "100%|██████████| 48/48 [01:18<00:00,  1.64s/it, loss=0.107, iou=0.848]\n",
            "100%|██████████| 6/6 [00:04<00:00,  1.40it/s, loss=0.403, iou=0.148]\n",
            "  0%|          | 0/48 [00:00<?, ?it/s]"
          ]
        },
        {
          "output_type": "stream",
          "name": "stdout",
          "text": [
            "loss 0.1065 - iou 0.8484 - val_loss 0.4033 - val_iou 0.1482\n",
            "Epoch [469/500]\n"
          ]
        },
        {
          "output_type": "stream",
          "name": "stderr",
          "text": [
            "100%|██████████| 48/48 [01:18<00:00,  1.63s/it, loss=0.105, iou=0.847]\n",
            "100%|██████████| 6/6 [00:04<00:00,  1.41it/s, loss=0.301, iou=0.243]\n",
            "  0%|          | 0/48 [00:00<?, ?it/s]"
          ]
        },
        {
          "output_type": "stream",
          "name": "stdout",
          "text": [
            "loss 0.1053 - iou 0.8470 - val_loss 0.3013 - val_iou 0.2427\n",
            "Epoch [470/500]\n"
          ]
        },
        {
          "output_type": "stream",
          "name": "stderr",
          "text": [
            "100%|██████████| 48/48 [01:18<00:00,  1.64s/it, loss=0.109, iou=0.826]\n",
            "100%|██████████| 6/6 [00:04<00:00,  1.40it/s, loss=0.319, iou=0.0972]\n",
            "  0%|          | 0/48 [00:00<?, ?it/s]"
          ]
        },
        {
          "output_type": "stream",
          "name": "stdout",
          "text": [
            "loss 0.1091 - iou 0.8265 - val_loss 0.3190 - val_iou 0.0972\n",
            "Epoch [471/500]\n"
          ]
        },
        {
          "output_type": "stream",
          "name": "stderr",
          "text": [
            "100%|██████████| 48/48 [01:18<00:00,  1.64s/it, loss=0.106, iou=0.844]\n",
            "100%|██████████| 6/6 [00:04<00:00,  1.40it/s, loss=0.14, iou=0.711]\n",
            "  0%|          | 0/48 [00:00<?, ?it/s]"
          ]
        },
        {
          "output_type": "stream",
          "name": "stdout",
          "text": [
            "loss 0.1059 - iou 0.8440 - val_loss 0.1402 - val_iou 0.7113\n",
            "Epoch [472/500]\n"
          ]
        },
        {
          "output_type": "stream",
          "name": "stderr",
          "text": [
            "100%|██████████| 48/48 [01:17<00:00,  1.62s/it, loss=0.105, iou=0.848]\n",
            "100%|██████████| 6/6 [00:04<00:00,  1.37it/s, loss=0.243, iou=0.437]\n",
            "  0%|          | 0/48 [00:00<?, ?it/s]"
          ]
        },
        {
          "output_type": "stream",
          "name": "stdout",
          "text": [
            "loss 0.1050 - iou 0.8478 - val_loss 0.2431 - val_iou 0.4368\n",
            "Epoch [473/500]\n"
          ]
        },
        {
          "output_type": "stream",
          "name": "stderr",
          "text": [
            "100%|██████████| 48/48 [01:18<00:00,  1.63s/it, loss=0.102, iou=0.862]\n",
            "100%|██████████| 6/6 [00:04<00:00,  1.34it/s, loss=0.153, iou=0.634]\n",
            "  0%|          | 0/48 [00:00<?, ?it/s]"
          ]
        },
        {
          "output_type": "stream",
          "name": "stdout",
          "text": [
            "loss 0.1025 - iou 0.8621 - val_loss 0.1532 - val_iou 0.6342\n",
            "Epoch [474/500]\n"
          ]
        },
        {
          "output_type": "stream",
          "name": "stderr",
          "text": [
            "100%|██████████| 48/48 [01:18<00:00,  1.63s/it, loss=0.105, iou=0.849]\n",
            "100%|██████████| 6/6 [00:04<00:00,  1.25it/s, loss=0.25, iou=0.564]\n",
            "  0%|          | 0/48 [00:00<?, ?it/s]"
          ]
        },
        {
          "output_type": "stream",
          "name": "stdout",
          "text": [
            "loss 0.1050 - iou 0.8493 - val_loss 0.2496 - val_iou 0.5638\n",
            "Epoch [475/500]\n"
          ]
        },
        {
          "output_type": "stream",
          "name": "stderr",
          "text": [
            "100%|██████████| 48/48 [01:17<00:00,  1.61s/it, loss=0.109, iou=0.828]\n",
            "100%|██████████| 6/6 [00:04<00:00,  1.23it/s, loss=0.485, iou=0.382]\n",
            "  0%|          | 0/48 [00:00<?, ?it/s]"
          ]
        },
        {
          "output_type": "stream",
          "name": "stdout",
          "text": [
            "loss 0.1092 - iou 0.8277 - val_loss 0.4849 - val_iou 0.3822\n",
            "Epoch [476/500]\n"
          ]
        },
        {
          "output_type": "stream",
          "name": "stderr",
          "text": [
            "100%|██████████| 48/48 [01:17<00:00,  1.61s/it, loss=0.107, iou=0.834]\n",
            "100%|██████████| 6/6 [00:04<00:00,  1.24it/s, loss=0.295, iou=0.0859]\n",
            "  0%|          | 0/48 [00:00<?, ?it/s]"
          ]
        },
        {
          "output_type": "stream",
          "name": "stdout",
          "text": [
            "loss 0.1070 - iou 0.8340 - val_loss 0.2949 - val_iou 0.0859\n",
            "Epoch [477/500]\n"
          ]
        },
        {
          "output_type": "stream",
          "name": "stderr",
          "text": [
            "100%|██████████| 48/48 [01:17<00:00,  1.61s/it, loss=0.103, iou=0.865]\n",
            "100%|██████████| 6/6 [00:04<00:00,  1.26it/s, loss=0.261, iou=0.283]\n",
            "  0%|          | 0/48 [00:00<?, ?it/s]"
          ]
        },
        {
          "output_type": "stream",
          "name": "stdout",
          "text": [
            "loss 0.1026 - iou 0.8652 - val_loss 0.2615 - val_iou 0.2827\n",
            "Epoch [478/500]\n"
          ]
        },
        {
          "output_type": "stream",
          "name": "stderr",
          "text": [
            "100%|██████████| 48/48 [01:18<00:00,  1.64s/it, loss=0.103, iou=0.862]\n",
            "100%|██████████| 6/6 [00:04<00:00,  1.30it/s, loss=0.225, iou=0.448]\n",
            "  0%|          | 0/48 [00:00<?, ?it/s]"
          ]
        },
        {
          "output_type": "stream",
          "name": "stdout",
          "text": [
            "loss 0.1028 - iou 0.8617 - val_loss 0.2248 - val_iou 0.4477\n",
            "Epoch [479/500]\n"
          ]
        },
        {
          "output_type": "stream",
          "name": "stderr",
          "text": [
            "100%|██████████| 48/48 [01:20<00:00,  1.67s/it, loss=0.104, iou=0.852]\n",
            "100%|██████████| 6/6 [00:04<00:00,  1.37it/s, loss=0.331, iou=0.255]\n",
            "  0%|          | 0/48 [00:00<?, ?it/s]"
          ]
        },
        {
          "output_type": "stream",
          "name": "stdout",
          "text": [
            "loss 0.1036 - iou 0.8515 - val_loss 0.3312 - val_iou 0.2548\n",
            "Epoch [480/500]\n"
          ]
        },
        {
          "output_type": "stream",
          "name": "stderr",
          "text": [
            "100%|██████████| 48/48 [01:19<00:00,  1.66s/it, loss=0.103, iou=0.862]\n",
            "100%|██████████| 6/6 [00:04<00:00,  1.37it/s, loss=0.274, iou=0.288]\n",
            "  0%|          | 0/48 [00:00<?, ?it/s]"
          ]
        },
        {
          "output_type": "stream",
          "name": "stdout",
          "text": [
            "loss 0.1031 - iou 0.8618 - val_loss 0.2735 - val_iou 0.2880\n",
            "Epoch [481/500]\n"
          ]
        },
        {
          "output_type": "stream",
          "name": "stderr",
          "text": [
            "100%|██████████| 48/48 [01:19<00:00,  1.66s/it, loss=0.102, iou=0.856]\n",
            "100%|██████████| 6/6 [00:04<00:00,  1.36it/s, loss=0.216, iou=0.608]\n",
            "  0%|          | 0/48 [00:00<?, ?it/s]"
          ]
        },
        {
          "output_type": "stream",
          "name": "stdout",
          "text": [
            "loss 0.1020 - iou 0.8563 - val_loss 0.2156 - val_iou 0.6076\n",
            "Epoch [482/500]\n"
          ]
        },
        {
          "output_type": "stream",
          "name": "stderr",
          "text": [
            "100%|██████████| 48/48 [01:18<00:00,  1.64s/it, loss=0.106, iou=0.844]\n",
            "100%|██████████| 6/6 [00:04<00:00,  1.40it/s, loss=0.194, iou=0.529]\n",
            "  0%|          | 0/48 [00:00<?, ?it/s]"
          ]
        },
        {
          "output_type": "stream",
          "name": "stdout",
          "text": [
            "loss 0.1064 - iou 0.8444 - val_loss 0.1938 - val_iou 0.5290\n",
            "Epoch [483/500]\n"
          ]
        },
        {
          "output_type": "stream",
          "name": "stderr",
          "text": [
            "100%|██████████| 48/48 [01:18<00:00,  1.64s/it, loss=0.106, iou=0.847]\n",
            "100%|██████████| 6/6 [00:04<00:00,  1.37it/s, loss=0.306, iou=0.287]\n",
            "  0%|          | 0/48 [00:00<?, ?it/s]"
          ]
        },
        {
          "output_type": "stream",
          "name": "stdout",
          "text": [
            "loss 0.1063 - iou 0.8467 - val_loss 0.3064 - val_iou 0.2869\n",
            "Epoch [484/500]\n"
          ]
        },
        {
          "output_type": "stream",
          "name": "stderr",
          "text": [
            "100%|██████████| 48/48 [01:18<00:00,  1.64s/it, loss=0.11, iou=0.832]\n",
            "100%|██████████| 6/6 [00:04<00:00,  1.32it/s, loss=0.261, iou=0.366]\n",
            "  0%|          | 0/48 [00:00<?, ?it/s]"
          ]
        },
        {
          "output_type": "stream",
          "name": "stdout",
          "text": [
            "loss 0.1100 - iou 0.8318 - val_loss 0.2613 - val_iou 0.3659\n",
            "Epoch [485/500]\n"
          ]
        },
        {
          "output_type": "stream",
          "name": "stderr",
          "text": [
            "100%|██████████| 48/48 [01:18<00:00,  1.64s/it, loss=0.102, iou=0.865]\n",
            "100%|██████████| 6/6 [00:04<00:00,  1.25it/s, loss=0.307, iou=0.28]\n",
            "  0%|          | 0/48 [00:00<?, ?it/s]"
          ]
        },
        {
          "output_type": "stream",
          "name": "stdout",
          "text": [
            "loss 0.1020 - iou 0.8646 - val_loss 0.3069 - val_iou 0.2795\n",
            "Epoch [486/500]\n"
          ]
        },
        {
          "output_type": "stream",
          "name": "stderr",
          "text": [
            "100%|██████████| 48/48 [01:18<00:00,  1.64s/it, loss=0.104, iou=0.853]\n",
            "100%|██████████| 6/6 [00:04<00:00,  1.23it/s, loss=0.24, iou=0.283]\n",
            "  0%|          | 0/48 [00:00<?, ?it/s]"
          ]
        },
        {
          "output_type": "stream",
          "name": "stdout",
          "text": [
            "loss 0.1036 - iou 0.8526 - val_loss 0.2397 - val_iou 0.2832\n",
            "Epoch [487/500]\n"
          ]
        },
        {
          "output_type": "stream",
          "name": "stderr",
          "text": [
            "100%|██████████| 48/48 [01:18<00:00,  1.63s/it, loss=0.105, iou=0.845]\n",
            "100%|██████████| 6/6 [00:04<00:00,  1.30it/s, loss=0.186, iou=0.55]\n",
            "  0%|          | 0/48 [00:00<?, ?it/s]"
          ]
        },
        {
          "output_type": "stream",
          "name": "stdout",
          "text": [
            "loss 0.1054 - iou 0.8446 - val_loss 0.1856 - val_iou 0.5501\n",
            "Epoch [488/500]\n"
          ]
        },
        {
          "output_type": "stream",
          "name": "stderr",
          "text": [
            "100%|██████████| 48/48 [01:18<00:00,  1.63s/it, loss=0.103, iou=0.857]\n",
            "100%|██████████| 6/6 [00:04<00:00,  1.36it/s, loss=0.18, iou=0.574]\n",
            "  0%|          | 0/48 [00:00<?, ?it/s]"
          ]
        },
        {
          "output_type": "stream",
          "name": "stdout",
          "text": [
            "loss 0.1033 - iou 0.8570 - val_loss 0.1799 - val_iou 0.5740\n",
            "Epoch [489/500]\n"
          ]
        },
        {
          "output_type": "stream",
          "name": "stderr",
          "text": [
            "100%|██████████| 48/48 [01:18<00:00,  1.63s/it, loss=0.102, iou=0.862]\n",
            "100%|██████████| 6/6 [00:04<00:00,  1.39it/s, loss=0.274, iou=0.372]\n",
            "  0%|          | 0/48 [00:00<?, ?it/s]"
          ]
        },
        {
          "output_type": "stream",
          "name": "stdout",
          "text": [
            "loss 0.1016 - iou 0.8617 - val_loss 0.2741 - val_iou 0.3724\n",
            "Epoch [490/500]\n"
          ]
        },
        {
          "output_type": "stream",
          "name": "stderr",
          "text": [
            "100%|██████████| 48/48 [01:17<00:00,  1.62s/it, loss=0.0988, iou=0.87]\n",
            "100%|██████████| 6/6 [00:04<00:00,  1.39it/s, loss=0.195, iou=0.548]\n",
            "  0%|          | 0/48 [00:00<?, ?it/s]"
          ]
        },
        {
          "output_type": "stream",
          "name": "stdout",
          "text": [
            "loss 0.0988 - iou 0.8698 - val_loss 0.1952 - val_iou 0.5479\n",
            "Epoch [491/500]\n"
          ]
        },
        {
          "output_type": "stream",
          "name": "stderr",
          "text": [
            "100%|██████████| 48/48 [01:18<00:00,  1.64s/it, loss=0.103, iou=0.857]\n",
            "100%|██████████| 6/6 [00:04<00:00,  1.39it/s, loss=0.425, iou=0.17]\n",
            "  0%|          | 0/48 [00:00<?, ?it/s]"
          ]
        },
        {
          "output_type": "stream",
          "name": "stdout",
          "text": [
            "loss 0.1028 - iou 0.8566 - val_loss 0.4246 - val_iou 0.1701\n",
            "Epoch [492/500]\n"
          ]
        },
        {
          "output_type": "stream",
          "name": "stderr",
          "text": [
            "100%|██████████| 48/48 [01:18<00:00,  1.64s/it, loss=0.104, iou=0.85]\n",
            "100%|██████████| 6/6 [00:04<00:00,  1.40it/s, loss=0.258, iou=0.52]\n",
            "  0%|          | 0/48 [00:00<?, ?it/s]"
          ]
        },
        {
          "output_type": "stream",
          "name": "stdout",
          "text": [
            "loss 0.1044 - iou 0.8504 - val_loss 0.2578 - val_iou 0.5196\n",
            "Epoch [493/500]\n"
          ]
        },
        {
          "output_type": "stream",
          "name": "stderr",
          "text": [
            "100%|██████████| 48/48 [01:19<00:00,  1.65s/it, loss=0.109, iou=0.837]\n",
            "100%|██████████| 6/6 [00:04<00:00,  1.40it/s, loss=0.291, iou=0.117]\n",
            "  0%|          | 0/48 [00:00<?, ?it/s]"
          ]
        },
        {
          "output_type": "stream",
          "name": "stdout",
          "text": [
            "loss 0.1087 - iou 0.8371 - val_loss 0.2906 - val_iou 0.1170\n",
            "Epoch [494/500]\n"
          ]
        },
        {
          "output_type": "stream",
          "name": "stderr",
          "text": [
            "100%|██████████| 48/48 [01:18<00:00,  1.63s/it, loss=0.107, iou=0.842]\n",
            "100%|██████████| 6/6 [00:04<00:00,  1.34it/s, loss=0.256, iou=0.303]\n",
            "  0%|          | 0/48 [00:00<?, ?it/s]"
          ]
        },
        {
          "output_type": "stream",
          "name": "stdout",
          "text": [
            "loss 0.1066 - iou 0.8420 - val_loss 0.2560 - val_iou 0.3027\n",
            "Epoch [495/500]\n"
          ]
        },
        {
          "output_type": "stream",
          "name": "stderr",
          "text": [
            "100%|██████████| 48/48 [01:18<00:00,  1.63s/it, loss=0.104, iou=0.847]\n",
            "100%|██████████| 6/6 [00:04<00:00,  1.29it/s, loss=0.237, iou=0.47]\n",
            "  0%|          | 0/48 [00:00<?, ?it/s]"
          ]
        },
        {
          "output_type": "stream",
          "name": "stdout",
          "text": [
            "loss 0.1041 - iou 0.8466 - val_loss 0.2368 - val_iou 0.4699\n",
            "Epoch [496/500]\n"
          ]
        },
        {
          "output_type": "stream",
          "name": "stderr",
          "text": [
            "100%|██████████| 48/48 [01:18<00:00,  1.63s/it, loss=0.104, iou=0.855]\n",
            "100%|██████████| 6/6 [00:04<00:00,  1.23it/s, loss=0.237, iou=0.582]\n",
            "  0%|          | 0/48 [00:00<?, ?it/s]"
          ]
        },
        {
          "output_type": "stream",
          "name": "stdout",
          "text": [
            "loss 0.1039 - iou 0.8548 - val_loss 0.2370 - val_iou 0.5815\n",
            "Epoch [497/500]\n"
          ]
        },
        {
          "output_type": "stream",
          "name": "stderr",
          "text": [
            "100%|██████████| 48/48 [01:17<00:00,  1.62s/it, loss=0.103, iou=0.857]\n",
            "100%|██████████| 6/6 [00:04<00:00,  1.23it/s, loss=0.147, iou=0.5]\n",
            "  0%|          | 0/48 [00:00<?, ?it/s]"
          ]
        },
        {
          "output_type": "stream",
          "name": "stdout",
          "text": [
            "loss 0.1033 - iou 0.8565 - val_loss 0.1472 - val_iou 0.5002\n",
            "Epoch [498/500]\n"
          ]
        },
        {
          "output_type": "stream",
          "name": "stderr",
          "text": [
            "100%|██████████| 48/48 [01:17<00:00,  1.62s/it, loss=0.102, iou=0.856]\n",
            "100%|██████████| 6/6 [00:04<00:00,  1.30it/s, loss=0.211, iou=0.403]\n",
            "  0%|          | 0/48 [00:00<?, ?it/s]"
          ]
        },
        {
          "output_type": "stream",
          "name": "stdout",
          "text": [
            "loss 0.1021 - iou 0.8564 - val_loss 0.2110 - val_iou 0.4034\n",
            "Epoch [499/500]\n"
          ]
        },
        {
          "output_type": "stream",
          "name": "stderr",
          "text": [
            "100%|██████████| 48/48 [01:18<00:00,  1.63s/it, loss=0.101, iou=0.865]\n",
            "100%|██████████| 6/6 [00:04<00:00,  1.33it/s, loss=0.309, iou=0.109]"
          ]
        },
        {
          "output_type": "stream",
          "name": "stdout",
          "text": [
            "loss 0.1006 - iou 0.8651 - val_loss 0.3087 - val_iou 0.1085\n"
          ]
        },
        {
          "output_type": "stream",
          "name": "stderr",
          "text": [
            "\n"
          ]
        }
      ],
      "source": [
        "for epoch in range(epochs):\n",
        "    print(f'Epoch [{epoch}/{epochs}]')\n",
        "\n",
        "    # train for one epoch\n",
        "    train_log = train(True, train_loader, model, criterion, optimizer)\n",
        "    # evaluate on validation set\n",
        "    val_log = validate(True, val_loader, model, criterion)\n",
        "\n",
        "    print('loss %.4f - iou %.4f - val_loss %.4f - val_iou %.4f'\n",
        "              % (train_log['loss'], train_log['iou'], val_log['loss'], val_log['iou']))\n",
        "\n",
        "    log['epoch'].append(epoch)\n",
        "    log['loss'].append(train_log['loss'])\n",
        "    log['iou'].append(train_log['iou'])\n",
        "    log['val_loss'].append(val_log['loss'])\n",
        "    log['val_iou'].append(val_log['iou'])\n",
        "\n",
        "    pd.DataFrame(log).to_csv(log_path, index=False)\n",
        "\n",
        "    trigger += 1\n",
        "\n",
        "    if val_log['iou'] > best_iou:\n",
        "        torch.save(model.state_dict(), model_path)\n",
        "        best_iou = val_log['iou']\n",
        "        print(\"=> saved best model\")\n",
        "        trigger = 0"
      ]
    },
    {
      "cell_type": "code",
      "execution_count": 17,
      "metadata": {
        "id": "PyYff9Xqq3al"
      },
      "outputs": [],
      "source": [
        "import cv2\n",
        "import yaml\n",
        "import torch\n",
        "import numpy as np\n",
        "import matplotlib.pyplot as plt\n",
        "\n",
        "# from predict import image_loader\n",
        "# from source.network import UNetPP\n",
        "from argparse import ArgumentParser\n",
        "from albumentations.augmentations import transforms\n",
        "from albumentations.core.composition import Compose\n",
        "\n",
        "%matplotlib inline"
      ]
    },
    {
      "cell_type": "markdown",
      "metadata": {
        "id": "s_3COKAfq3al"
      },
      "source": [
        "## Create validation transforms"
      ]
    },
    {
      "cell_type": "code",
      "execution_count": 18,
      "metadata": {
        "id": "ZcH8vJENq3am"
      },
      "outputs": [],
      "source": [
        "val_transform = Compose([\n",
        "    transforms.Resize(256, 256),\n",
        "    transforms.Normalize(),\n",
        "])"
      ]
    },
    {
      "cell_type": "code",
      "execution_count": 19,
      "metadata": {
        "id": "qifhxkatdkZQ"
      },
      "outputs": [],
      "source": [
        "configOne = \"/content/drive/MyDrive/Medical_Image_Segmentation/modular_code/source/config.yaml\""
      ]
    },
    {
      "cell_type": "code",
      "execution_count": 20,
      "metadata": {
        "id": "s476bDhSq3am"
      },
      "outputs": [],
      "source": [
        "with open(configOne) as f:\n",
        "    config = yaml.safe_load(f)"
      ]
    },
    {
      "cell_type": "code",
      "execution_count": 21,
      "metadata": {
        "id": "Yuy1hWjdq3am"
      },
      "outputs": [],
      "source": [
        "im_width = config[\"im_width\"]\n",
        "im_height = config[\"im_height\"]\n",
        "model_path = config[\"model_path\"]\n",
        "output_path = config[\"output_path\"]"
      ]
    },
    {
      "cell_type": "markdown",
      "metadata": {
        "id": "Dl0XTjbWq3an"
      },
      "source": [
        "## Load the model"
      ]
    },
    {
      "cell_type": "code",
      "execution_count": null,
      "metadata": {
        "id": "1FHnqNMXq3an"
      },
      "outputs": [],
      "source": [
        "# Create model object\n",
        "model = UNetPP(1, 3, True)\n",
        "\n",
        "# Load pre-trained weights\n",
        "model.load_state_dict(torch.load(model_path))\n",
        "\n",
        "# Port the model to GPU if it is available\n",
        "if torch.cuda.is_available():\n",
        "    model.cuda()\n",
        "\n",
        "# Set model mode to evaluation\n",
        "model.eval()"
      ]
    },
    {
      "cell_type": "code",
      "source": [
        "# def display_random_samples(image_paths, num_samples=9):\n",
        "#     plt.figure(figsize=(10, 10))\n",
        "#     for i in range(num_samples):\n",
        "#         plt.subplot(3, 3, i+1)\n",
        "#         img = Image.open(random.choice(image_paths))\n",
        "#         plt.imshow(img)\n",
        "#         plt.axis('off')\n",
        "#     plt.show()\n",
        "\n",
        "# # Assuming your images are stored in a directory\n",
        "# image_paths = glob(os.path.join(image_path, f\"*{extn}\"))\n",
        "# display_random_samples(image_paths)"
      ],
      "metadata": {
        "id": "e-wOU1JkM8UL"
      },
      "execution_count": null,
      "outputs": []
    },
    {
      "cell_type": "markdown",
      "metadata": {
        "id": "7kQXsuhtq3an"
      },
      "source": [
        "## Load the test image"
      ]
    },
    {
      "cell_type": "code",
      "execution_count": 105,
      "metadata": {
        "id": "Js4oLdNvq3ao"
      },
      "outputs": [],
      "source": [
        "test_img = \"/content/drive/MyDrive/Medical_Image_Segmentation/modular_code/input/PNG/Original/5.png\"\n",
        "# I take the image for training\n",
        "image = image_loader(test_img)\n",
        "\n",
        "# Convert the image to a batch of 1 image\n",
        "image = np.expand_dims(image,0)\n",
        "\n",
        "# Convert numpy array to torch tensor\n",
        "image = torch.from_numpy(image)"
      ]
    },
    {
      "cell_type": "code",
      "execution_count": 106,
      "metadata": {
        "id": "W1uO_0SQq3ap"
      },
      "outputs": [],
      "source": [
        "# Port the image to GPU if it is available\n",
        "if torch.cuda.is_available():\n",
        "    image = image.to(device=\"cuda\")"
      ]
    },
    {
      "cell_type": "markdown",
      "metadata": {
        "id": "ySYAvOu4q3aq"
      },
      "source": [
        "[link text](https://)## Make prediction"
      ]
    },
    {
      "cell_type": "code",
      "execution_count": 107,
      "metadata": {
        "id": "myYucJMHq3aq"
      },
      "outputs": [],
      "source": [
        "mask = model(image)\n",
        "#genereted image"
      ]
    },
    {
      "cell_type": "code",
      "execution_count": 108,
      "metadata": {
        "colab": {
          "base_uri": "https://localhost:8080/",
          "height": 453
        },
        "id": "5RCO6Y_yq3ar",
        "outputId": "066337ca-4d58-477c-9d67-601a37e2e6df"
      },
      "outputs": [
        {
          "output_type": "execute_result",
          "data": {
            "text/plain": [
              "<matplotlib.image.AxesImage at 0x793c5cb41390>"
            ]
          },
          "metadata": {},
          "execution_count": 108
        },
        {
          "output_type": "display_data",
          "data": {
            "text/plain": [
              "<Figure size 640x480 with 1 Axes>"
            ],
            "image/png": "[encoded data removed]"
          },
          "metadata": {}
        }
      ],
      "source": [
        "# here i get result of image after training data\n",
        "mask = mask[-1]\n",
        "\n",
        "# Convert torch tensor to numpy array\n",
        "mask = mask.detach().cpu().numpy()\n",
        "\n",
        "# Convert output to a 2-d array\n",
        "mask = np.squeeze(np.squeeze(mask, axis=0), axis=0)\n",
        "\n",
        "# Convert output to binary based on threshold\n",
        "mask[mask > -2.5] = 255\n",
        "mask[mask <= -2.5] = 0\n",
        "\n",
        "# Resize the ouptut image to input image size\n",
        "mask = cv2.resize(mask, (im_width, im_height))\n",
        "\n",
        "# Plot the generated mask\n",
        "plt.imshow(mask, cmap=\"gray\")"
      ]
    },
    {
      "cell_type": "markdown",
      "metadata": {
        "id": "ey_p7Y2wq3as"
      },
      "source": [
        "## Read and plot the ground truth mask\n",
        "\n",
        "> Add blockquote\n",
        "\n",
        "\n",
        "\n",
        "1.   List item\n",
        "2.   List item\n",
        "\n",
        "\n",
        "\n",
        "*   List item\n",
        "*   List item\n",
        "\n",
        "\n",
        "\n",
        "---\n",
        "\n"
      ]
    },
    {
      "cell_type": "code",
      "execution_count": 109,
      "metadata": {
        "colab": {
          "base_uri": "https://localhost:8080/",
          "height": 453
        },
        "id": "-vO5t6zLq3at",
        "outputId": "4591cd8a-a724-4a05-d459-8bb0d51905b9"
      },
      "outputs": [
        {
          "output_type": "execute_result",
          "data": {
            "text/plain": [
              "<matplotlib.image.AxesImage at 0x793c5cba8700>"
            ]
          },
          "metadata": {},
          "execution_count": 109
        },
        {
          "output_type": "display_data",
          "data": {
            "text/plain": [
              "<Figure size 640x480 with 1 Axes>"
            ],
            "image/png": "[encoded data removed]"
          },
          "metadata": {}
        }
      ],
      "source": [
        "actual_mask = \"/content/drive/MyDrive/Medical_Image_Segmentation/modular_code/input/PNG/GroundTruth/5.png\"\n",
        "am = plt.imread(actual_mask)\n",
        "plt.imshow(am, cmap=\"gray\")\n",
        "#I should get result like this above(actuel result)"
      ]
    }
  ],
  "metadata": {
    "accelerator": "GPU",
    "colab": {
      "gpuType": "T4",
      "provenance": [],
      "include_colab_link": true
    },
    "kernelspec": {
      "display_name": "Python 3",
      "name": "python3"
    },
    "language_info": {
      "codemirror_mode": {
        "name": "ipython",
        "version": 3
      },
      "file_extension": ".py",
      "mimetype": "text/x-python",
      "name": "python",
      "nbconvert_exporter": "python",
      "pygments_lexer": "ipython3",
      "version": "3.12.2"
    }
  },
  "nbformat": 4,
  "nbformat_minor": 0
}